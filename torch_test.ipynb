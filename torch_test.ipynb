{
 "cells": [
  {
   "cell_type": "code",
   "execution_count": 1,
   "id": "6e5ae47d-d0da-4a08-a33c-504239883007",
   "metadata": {},
   "outputs": [],
   "source": [
    "import torch.nn as nn\n",
    "import torch.nn.functional as F\n",
    "import torch.optim as optim\n",
    "from torch.optim.lr_scheduler import StepLR\n",
    "from torchvision import datasets, transforms\n",
    "import torch.nn.functional as F\n",
    "import torch"
   ]
  },
  {
   "cell_type": "code",
   "execution_count": 2,
   "id": "64beefb6-6a04-49ce-bc1c-3636a28be2b9",
   "metadata": {},
   "outputs": [],
   "source": [
    "class MNISTNet(nn.Module):\n",
    "    def __init__(self):\n",
    "        super(MNISTNet, self).__init__()\n",
    "        self.conv1 = nn.Conv2d(1, 32, 3, 1)\n",
    "        self.conv2 = nn.Conv2d(32, 64, 3, 1)\n",
    "        self.dropout1 = nn.Dropout(0.25)\n",
    "        self.dropout2 = nn.Dropout(0.5)\n",
    "        self.fc1 = nn.Linear(9216, 128)\n",
    "        self.fc2 = nn.Linear(128, 10)\n",
    "\n",
    "    def forward(self, x):\n",
    "        x = self.conv1(x)\n",
    "        x = F.relu(x)\n",
    "        x = self.conv2(x)\n",
    "        x = F.relu(x)\n",
    "        x = F.max_pool2d(x, 2)\n",
    "        x = self.dropout1(x)\n",
    "        x = torch.flatten(x, 1)\n",
    "        x = self.fc1(x)\n",
    "        x = F.relu(x)\n",
    "        x = self.dropout2(x)\n",
    "        x = self.fc2(x)\n",
    "        output = F.log_softmax(x, dim=1)\n",
    "        return output"
   ]
  },
  {
   "cell_type": "code",
   "execution_count": 3,
   "id": "d0cdc26b-3373-4789-958c-6cbf64e9e00f",
   "metadata": {},
   "outputs": [],
   "source": [
    "def train(model, device, train_loader, optimizer, epoch, log_interval=10):\n",
    "    model.train()\n",
    "    for batch_idx, (data, target) in enumerate(train_loader):\n",
    "        data, target = data.to(device), target.to(device)\n",
    "        optimizer.zero_grad()\n",
    "        output = model(data)\n",
    "        loss = F.nll_loss(output, target)\n",
    "        loss.backward()\n",
    "        optimizer.step()\n",
    "        if batch_idx % log_interval == 0:\n",
    "            print(\n",
    "                \"Train Epoch: {} [{}/{} ({:.0f}%)]\\tLoss: {:.6f}\".format(\n",
    "                    epoch,\n",
    "                    batch_idx * len(data),\n",
    "                    len(train_loader.dataset),\n",
    "                    100.0 * batch_idx / len(train_loader),\n",
    "                    loss.item(),\n",
    "                )\n",
    "            )"
   ]
  },
  {
   "cell_type": "code",
   "execution_count": 4,
   "id": "8f7d0ce6-769b-451a-9c69-f0dd7e407b41",
   "metadata": {},
   "outputs": [],
   "source": [
    "def test(model, device, test_loader):\n",
    "    model.eval()\n",
    "    test_loss = 0\n",
    "    correct = 0\n",
    "    with torch.no_grad():\n",
    "        for data, target in test_loader:\n",
    "            data, target = data.to(device), target.to(device)\n",
    "            output = model(data)\n",
    "            test_loss += F.nll_loss(\n",
    "                output, target, reduction=\"sum\"\n",
    "            ).item()  # sum up batch loss\n",
    "            pred = output.argmax(\n",
    "                dim=1, keepdim=True\n",
    "            )  # get the index of the max log-probability\n",
    "            correct += pred.eq(target.view_as(pred)).sum().item()\n",
    "\n",
    "    test_loss /= len(test_loader.dataset)\n",
    "\n",
    "    print(\n",
    "        \"\\nTest set: Average loss: {:.4f}, Accuracy: {}/{} ({:.0f}%)\\n\".format(\n",
    "            test_loss,\n",
    "            correct,\n",
    "            len(test_loader.dataset),\n",
    "            100.0 * correct / len(test_loader.dataset),\n",
    "        )\n",
    "    )"
   ]
  },
  {
   "cell_type": "code",
   "execution_count": 5,
   "id": "e7c333bf-0240-4c0f-92ec-ead140dfda01",
   "metadata": {},
   "outputs": [],
   "source": [
    "def train_model():\n",
    "    device = \"cpu\"\n",
    "    epochs = 1\n",
    "    train_kwargs = {\"batch_size\": 256}\n",
    "    test_kwargs = {\"batch_size\": 1000}\n",
    "    transform = transforms.Compose(\n",
    "        [transforms.ToTensor(), transforms.Normalize((0.1307,), (0.3081,))]\n",
    "    )\n",
    "    dataset1 = datasets.MNIST(\"../data\", train=True, download=True, transform=transform)\n",
    "    dataset2 = datasets.MNIST(\"../data\", train=False, transform=transform)\n",
    "    train_loader = torch.utils.data.DataLoader(dataset1, **train_kwargs)\n",
    "    test_loader = torch.utils.data.DataLoader(dataset2, **test_kwargs)\n",
    "    model = MNISTNet().to(device)\n",
    "    optimizer = optim.Adadelta(model.parameters(), lr=1.0)\n",
    "\n",
    "    scheduler = StepLR(optimizer, step_size=1, gamma=0.7)\n",
    "    for epoch in range(1, epochs + 1):\n",
    "        train(model, device, train_loader, optimizer, epoch)\n",
    "        test(model, device, test_loader)\n",
    "        scheduler.step()\n",
    "    return model"
   ]
  },
  {
   "cell_type": "code",
   "execution_count": 6,
   "id": "1683bdc2-66a5-4278-9bb3-e171bf10aeac",
   "metadata": {},
   "outputs": [
    {
     "name": "stdout",
     "output_type": "stream",
     "text": [
      "Train Epoch: 1 [0/60000 (0%)]\tLoss: 2.314445\n",
      "Train Epoch: 1 [2560/60000 (4%)]\tLoss: 0.948491\n",
      "Train Epoch: 1 [5120/60000 (9%)]\tLoss: 0.487324\n",
      "Train Epoch: 1 [7680/60000 (13%)]\tLoss: 0.376731\n",
      "Train Epoch: 1 [10240/60000 (17%)]\tLoss: 0.246071\n",
      "Train Epoch: 1 [12800/60000 (21%)]\tLoss: 0.324017\n",
      "Train Epoch: 1 [15360/60000 (26%)]\tLoss: 0.276454\n",
      "Train Epoch: 1 [17920/60000 (30%)]\tLoss: 0.171830\n",
      "Train Epoch: 1 [20480/60000 (34%)]\tLoss: 0.231364\n",
      "Train Epoch: 1 [23040/60000 (38%)]\tLoss: 0.188706\n",
      "Train Epoch: 1 [25600/60000 (43%)]\tLoss: 0.190419\n",
      "Train Epoch: 1 [28160/60000 (47%)]\tLoss: 0.195810\n",
      "Train Epoch: 1 [30720/60000 (51%)]\tLoss: 0.196728\n",
      "Train Epoch: 1 [33280/60000 (55%)]\tLoss: 0.141274\n",
      "Train Epoch: 1 [35840/60000 (60%)]\tLoss: 0.181821\n",
      "Train Epoch: 1 [38400/60000 (64%)]\tLoss: 0.171672\n",
      "Train Epoch: 1 [40960/60000 (68%)]\tLoss: 0.139756\n",
      "Train Epoch: 1 [43520/60000 (72%)]\tLoss: 0.155212\n",
      "Train Epoch: 1 [46080/60000 (77%)]\tLoss: 0.194698\n",
      "Train Epoch: 1 [48640/60000 (81%)]\tLoss: 0.045000\n",
      "Train Epoch: 1 [51200/60000 (85%)]\tLoss: 0.117463\n",
      "Train Epoch: 1 [53760/60000 (89%)]\tLoss: 0.158035\n",
      "Train Epoch: 1 [56320/60000 (94%)]\tLoss: 0.056703\n",
      "Train Epoch: 1 [58880/60000 (98%)]\tLoss: 0.031091\n",
      "\n",
      "Test set: Average loss: 0.0864, Accuracy: 9718/10000 (97%)\n",
      "\n"
     ]
    }
   ],
   "source": [
    "my_model = train_model()\n"
   ]
  },
  {
   "cell_type": "code",
   "execution_count": 7,
   "id": "67267b36-ff53-4a20-96f5-7b9e992ea42b",
   "metadata": {},
   "outputs": [],
   "source": [
    "# prepare data for inference\n",
    "transform = transforms.Compose(\n",
    "        [transforms.ToTensor(), transforms.Normalize((0.1307,), (0.3081,))]\n",
    "    )\n",
    "inputs = datasets.MNIST(\"../data\", train=False, transform=transform)\n",
    "dataset = torch.utils.data.DataLoader(inputs, batch_size=1)"
   ]
  },
  {
   "cell_type": "code",
   "execution_count": 8,
   "id": "d243a1f1-f65d-428b-925e-a5a28ab55265",
   "metadata": {},
   "outputs": [],
   "source": [
    "import numpy as np\n",
    "\n",
    "model_input = list(dataset)[0]"
   ]
  },
  {
   "cell_type": "code",
   "execution_count": 9,
   "id": "41f51223-bd64-4240-a135-87da0b9931c5",
   "metadata": {},
   "outputs": [
    {
     "data": {
      "image/png": "[encoded data removed]",
      "text/plain": [
       "<Figure size 640x480 with 1 Axes>"
      ]
     },
     "metadata": {},
     "output_type": "display_data"
    }
   ],
   "source": [
    "import matplotlib.pyplot as plt\n",
    "\n",
    "# Function to show an image\n",
    "def imshow(img):\n",
    "    img = img * 0.3081 + 0.1307  # Inverse normalization\n",
    "    img = img.squeeze()  # Remove the batch dimension (1 in this case)\n",
    "    plt.imshow(img, cmap='gray')\n",
    "    plt.show()\n",
    "\n",
    "imshow(model_input[0])"
   ]
  },
  {
   "cell_type": "code",
   "execution_count": 10,
   "id": "8228ccfb-4dad-40f9-a4c6-d9a3db9125de",
   "metadata": {},
   "outputs": [
    {
     "name": "stderr",
     "output_type": "stream",
     "text": [
      "/var/folders/qg/6sb9klt17nbc4_jz2gx49s240000gn/T/ipykernel_63499/2345019260.py:1: UserWarning: To copy construct from a tensor, it is recommended to use sourceTensor.clone().detach() or sourceTensor.clone().detach().requires_grad_(True), rather than torch.tensor(sourceTensor).\n",
      "  inputs = torch.tensor(\n"
     ]
    }
   ],
   "source": [
    "inputs = torch.tensor(\n",
    "                model_input[0], dtype=list(my_model.parameters())[0].dtype, device='cpu'\n",
    "            )"
   ]
  },
  {
   "cell_type": "code",
   "execution_count": 11,
   "id": "a239d696-9e8f-41f2-b3fd-b6421d8d87c7",
   "metadata": {},
   "outputs": [
    {
     "name": "stderr",
     "output_type": "stream",
     "text": [
      "[W NNPACK.cpp:64] Could not initialize NNPACK! Reason: Unsupported hardware.\n"
     ]
    },
    {
     "data": {
      "text/plain": [
       "[[-11.899744987487793,\n",
       "  -15.166419982910156,\n",
       "  -9.420734405517578,\n",
       "  -10.510014533996582,\n",
       "  -15.596588134765625,\n",
       "  -14.708137512207031,\n",
       "  -20.577083587646484,\n",
       "  -0.00029380773776210845,\n",
       "  -13.930066108703613,\n",
       "  -8.639815330505371]]"
      ]
     },
     "execution_count": 11,
     "metadata": {},
     "output_type": "execute_result"
    }
   ],
   "source": [
    "my_model(inputs).tolist()"
   ]
  },
  {
   "cell_type": "code",
   "execution_count": 12,
   "id": "d50bdee7-b1c1-4d1b-9942-ceafaf132b0c",
   "metadata": {},
   "outputs": [
    {
     "data": {
      "image/png": "[encoded data removed]",
      "text/plain": [
       "<Figure size 1000x400 with 1 Axes>"
      ]
     },
     "metadata": {},
     "output_type": "display_data"
    }
   ],
   "source": [
    "# Convert the scores to a 1D NumPy array\n",
    "scores = my_model(inputs).tolist()\n",
    "scores = np.array(scores)\n",
    "\n",
    "# # Create a bar chart or heatmap for the scores\n",
    "fig, ax = plt.subplots(figsize=(10, 4))\n",
    "\n",
    "# If you have multiple sets of scores (e.g., for multiple data points), you can use imshow\n",
    "# ax.imshow(scores, cmap='viridis', aspect='auto', extent=(0, len(scores[0]), 0, len(scores)))\n",
    "\n",
    "# If you have a single set of scores (like in your example), you can use bar\n",
    "ax.bar(range(len(scores[0])), [x+ abs(min(scores[0])) for x in scores[0]], tick_label=[0, 1, 2, 3, 4, 5, 6, 7, 8, 9])\n",
    "ax.set_xlabel(\"Class\")\n",
    "ax.set_ylabel(\"Score\")\n",
    "ax.set_title(\"Class Scores\")\n",
    "\n",
    "plt.show()"
   ]
  },
  {
   "cell_type": "code",
   "execution_count": 13,
   "id": "58e1a13f-93af-43a0-a41c-879a3f45abe0",
   "metadata": {},
   "outputs": [],
   "source": [
    "from slashml import ModelDeployment"
   ]
  },
  {
   "cell_type": "code",
   "execution_count": 14,
   "id": "a5c49c64-f280-4e11-a1d0-119b2bc6695d",
   "metadata": {},
   "outputs": [],
   "source": [
    "# Replace `API_KEY` with your SlasML API token.\n",
    "client = ModelDeployment(api_key=\"68b50f46b97f8c0f98fe419df240a22af3da392f\")"
   ]
  },
  {
   "cell_type": "code",
   "execution_count": null,
   "id": "dfeebe3a-2690-4ec0-9fe3-02b0619298a0",
   "metadata": {},
   "outputs": [
    {
     "name": "stderr",
     "output_type": "stream",
     "text": [
      "/Users/faizank/workspace/experiments/live_projects/slashml/sdk_tests/venv-3.9.1/lib/python3.9/site-packages/torch/package/package_exporter.py:925: UserWarning: TypedStorage is deprecated. It will be removed in the future and UntypedStorage will be the only storage class. This should only matter to you if you are using storages directly.  To access UntypedStorage directly, use tensor.untyped_storage() instead of tensor.storage()\n",
      "  storage_type_str = obj.pickle_storage_type()\n"
     ]
    },
    {
     "name": "stdout",
     "output_type": "stream",
     "text": [
      "> \u001b[0;32m/Users/faizank/workspace/experiments/live_projects/slashml/sdk_tests/venv-3.9.1/lib/python3.9/site-packages/torch/package/package_exporter.py\u001b[0m(1090)\u001b[0;36mclose\u001b[0;34m()\u001b[0m\n",
      "\u001b[0;32m   1088 \u001b[0;31m        \u001b[0;32mimport\u001b[0m \u001b[0mpdb\u001b[0m\u001b[0;34m\u001b[0m\u001b[0;34m\u001b[0m\u001b[0m\n",
      "\u001b[0m\u001b[0;32m   1089 \u001b[0;31m        \u001b[0mpdb\u001b[0m\u001b[0;34m.\u001b[0m\u001b[0mset_trace\u001b[0m\u001b[0;34m(\u001b[0m\u001b[0;34m)\u001b[0m\u001b[0;34m\u001b[0m\u001b[0;34m\u001b[0m\u001b[0m\n",
      "\u001b[0m\u001b[0;32m-> 1090 \u001b[0;31m        \u001b[0mself\u001b[0m\u001b[0;34m.\u001b[0m\u001b[0m_execute_dependency_graph\u001b[0m\u001b[0;34m(\u001b[0m\u001b[0;34m)\u001b[0m\u001b[0;34m\u001b[0m\u001b[0;34m\u001b[0m\u001b[0m\n",
      "\u001b[0m\u001b[0;32m   1091 \u001b[0;31m        \u001b[0mself\u001b[0m\u001b[0;34m.\u001b[0m\u001b[0m_write_python_version\u001b[0m\u001b[0;34m(\u001b[0m\u001b[0;34m)\u001b[0m\u001b[0;34m\u001b[0m\u001b[0;34m\u001b[0m\u001b[0m\n",
      "\u001b[0m\u001b[0;32m   1092 \u001b[0;31m\u001b[0;34m\u001b[0m\u001b[0m\n",
      "\u001b[0m\n",
      "--KeyboardInterrupt--\n",
      "\n",
      "KeyboardInterrupt: Interrupted by user\n",
      "> \u001b[0;32m/Users/faizank/workspace/experiments/live_projects/slashml/sdk_tests/venv-3.9.1/lib/python3.9/site-packages/truss/model_frameworks/pytorch.py\u001b[0m(31)\u001b[0;36mserialize_model_to_directory\u001b[0;34m()\u001b[0m\n",
      "\u001b[0;32m     29 \u001b[0;31m            \u001b[0;32mimport\u001b[0m \u001b[0mpdb\u001b[0m\u001b[0;34m\u001b[0m\u001b[0;34m\u001b[0m\u001b[0m\n",
      "\u001b[0m\u001b[0;32m     30 \u001b[0;31m            \u001b[0mpdb\u001b[0m\u001b[0;34m.\u001b[0m\u001b[0mset_trace\u001b[0m\u001b[0;34m(\u001b[0m\u001b[0;34m)\u001b[0m\u001b[0;34m\u001b[0m\u001b[0;34m\u001b[0m\u001b[0m\n",
      "\u001b[0m\u001b[0;32m---> 31 \u001b[0;31m            _torch_package(\n",
      "\u001b[0m\u001b[0;32m     32 \u001b[0;31m                \u001b[0mmodel\u001b[0m\u001b[0;34m,\u001b[0m \u001b[0mtarget_directory\u001b[0m \u001b[0;34m/\u001b[0m \u001b[0mTORCH_PACKAGE_FILE\u001b[0m\u001b[0;34m,\u001b[0m \u001b[0mmodules_to_extern\u001b[0m\u001b[0;34m\u001b[0m\u001b[0;34m\u001b[0m\u001b[0m\n",
      "\u001b[0m\u001b[0;32m     33 \u001b[0;31m            )\n",
      "\u001b[0m\n"
     ]
    }
   ],
   "source": [
    "# deploy model\n",
    "response = client.deploy(model_name='pytorch-model', model=my_model, requirements=['torch', 'transformers'])"
   ]
  },
  {
   "cell_type": "code",
   "execution_count": null,
   "id": "05bbda59-a47a-44f0-8c2e-b9700973e204",
   "metadata": {},
   "outputs": [],
   "source": [
    "prediction = client.predict(model_version_id=response.id, model_input=model_input.tolist())"
   ]
  },
  {
   "cell_type": "code",
   "execution_count": null,
   "id": "d6487f87-1acb-43d6-b804-0da101288b4a",
   "metadata": {},
   "outputs": [],
   "source": []
  },
  {
   "cell_type": "code",
   "execution_count": null,
   "id": "42db0194-21a6-4008-8f28-24b13af74b0d",
   "metadata": {},
   "outputs": [],
   "source": []
  }
 ],
 "metadata": {
  "kernelspec": {
   "display_name": "Python 3 (ipykernel)",
   "language": "python",
   "name": "python3"
  },
  "language_info": {
   "codemirror_mode": {
    "name": "ipython",
    "version": 3
   },
   "file_extension": ".py",
   "mimetype": "text/x-python",
   "name": "python",
   "nbconvert_exporter": "python",
   "pygments_lexer": "ipython3",
   "version": "3.9.1"
  }
 },
 "nbformat": 4,
 "nbformat_minor": 5
}
