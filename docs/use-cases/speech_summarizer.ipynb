{
 "cells": [
  {
   "attachments": {},
   "cell_type": "markdown",
   "id": "b253f4d5",
   "metadata": {},
   "source": [
    "# Speech Summarizer\n",
    "\n",
    "In this example we will show how to combine the power of the Speech Recognition and the Summarization models to create a Speech Summarizer."
   ]
  },
  {
   "cell_type": "code",
   "execution_count": null,
   "id": "29da0c51",
   "metadata": {
    "vscode": {
     "languageId": "plaintext"
    }
   },
   "outputs": [],
   "source": [
    "from slashml import SpeechToText, TextSummarization"
   ]
  },
  {
   "cell_type": "code",
   "execution_count": null,
   "id": "424d178e",
   "metadata": {
    "vscode": {
     "languageId": "plaintext"
    }
   },
   "outputs": [],
   "source": [
    "# Replace `API_KEY` with your SlasML API token. This example still runs without\n",
    "# the API token but usage will be limited\n",
    "API_KEY = \"YOUR_API_KEY\"\n",
    "\n",
    "\n",
    "# 10 minute audio file already uploaded\n",
    "uploaded_url = (\n",
    "    \"https://slashml.s3.ca-central-1.amazonaws.com/fda70f6a-6057-4541-adf1-2cf4f4182929\"\n",
    ")"
   ]
  },
  {
   "cell_type": "code",
   "execution_count": null,
   "id": "32720bac",
   "metadata": {
    "vscode": {
     "languageId": "plaintext"
    }
   },
   "outputs": [],
   "source": [
    "service_provider_speech_to_text = SpeechToText.ServiceProvider.WHISPER\n",
    "service_provider_summarize = TextSummarization.ServiceProvider.OPENAI\n",
    "\n",
    "\n",
    "transcribe = SpeechToText(api_key=API_KEY)\n",
    "summarize = TextSummarization(api_key=API_KEY)"
   ]
  },
  {
   "cell_type": "code",
   "execution_count": null,
   "id": "58889bac",
   "metadata": {
    "vscode": {
     "languageId": "plaintext"
    }
   },
   "outputs": [],
   "source": [
    "\n",
    "response = transcribe.execute(\n",
    "    upload_url=uploaded_url, service_provider=service_provider_speech_to_text\n",
    ")\n",
    "\n",
    "print('starting pipeline, the first response might take 10 secs')\n",
    "transcribed_text = response.transcription_data.transcription\n",
    "print (f\"Transcribed Text = {transcribed_text}\")"
   ]
  },
  {
   "cell_type": "code",
   "execution_count": null,
   "id": "470e83ef",
   "metadata": {
    "vscode": {
     "languageId": "plaintext"
    }
   },
   "outputs": [],
   "source": [
    "\n",
    "response_summarize = summarize.execute(transcribed_text, service_provider_summarize)\n",
    "\n",
    "summary = response_summarize.summarization_data\n",
    "\n",
    "print (f\"Summarized Text = {summary}\")"
   ]
  }
 ],
 "metadata": {
  "kernelspec": {
   "display_name": "Python 3 (ipykernel)",
   "language": "python",
   "name": "python3"
  },
  "language_info": {
   "codemirror_mode": {
    "name": "ipython",
    "version": 3
   },
   "file_extension": ".py",
   "mimetype": "text/x-python",
   "name": "python",
   "nbconvert_exporter": "python",
   "pygments_lexer": "ipython3",
   "version": "3.9.1"
  }
 },
 "nbformat": 4,
 "nbformat_minor": 5
}
