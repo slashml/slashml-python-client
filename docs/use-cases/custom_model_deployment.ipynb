{
 "cells": [
  {
   "attachments": {},
   "cell_type": "markdown",
   "id": "b253f4d5",
   "metadata": {},
   "source": [
    "# Deploy a Hugging Face model\n",
    "\n",
    "In this example we will show how to deploy a Hugging Face model to SlashMLO. We will use the [Hugging Face Transformers](https://huggingface.co/transformers/) and deploy it to SlashML. Then we will use the endpoint exposed by SlashML to make predictions on our model. "
   ]
  },
  {
   "cell_type": "code",
   "execution_count": null,
   "id": "29da0c51",
   "metadata": {
    "vscode": {
     "languageId": "plaintext"
    }
   },
   "outputs": [],
   "source": [
    "from slashml import ModelDeployment\n",
    "import time\n",
    "\n",
    "# you might have to install transfomers and torch\n",
    "from transformers import pipeline"
   ]
  },
  {
   "cell_type": "code",
   "execution_count": null,
   "id": "424d178e",
   "metadata": {
    "vscode": {
     "languageId": "plaintext"
    }
   },
   "outputs": [],
   "source": [
    "\n",
    "def train_model():\n",
    "    # Bring in model from huggingface\n",
    "    return pipeline('fill-mask', model='bert-base-uncased')\n",
    "\n",
    "my_model = train_model()\n",
    "\n"
   ]
  },
  {
   "cell_type": "code",
   "execution_count": null,
   "id": "32720bac",
   "metadata": {
    "vscode": {
     "languageId": "plaintext"
    }
   },
   "outputs": [],
   "source": [
    "# Replace `API_KEY` with your SlasML API token. Fetch the api key from https://slashml.com/settings/api-key\n",
    "\n",
    "model = ModelDeployment(api_key=None)\n",
    "\n",
    "# deploy model\n",
    "response = model.deploy(model_name='my_model_3', model=my_model)"
   ]
  },
  {
   "cell_type": "code",
   "execution_count": null,
   "id": "58889bac",
   "metadata": {
    "vscode": {
     "languageId": "plaintext"
    }
   },
   "outputs": [],
   "source": [
    "# wait for it to be deployed\n",
    "time.sleep(2)\n",
    "status = model.status(model_version_id=response.id)\n",
    "\n",
    "while status.status != 'READY':\n",
    "    print(f'status: {status.status}')\n",
    "    print('trying again in 5 seconds')\n",
    "    time.sleep(5)\n",
    "    status = model.status(model_version_id=response.id)\n",
    "\n",
    "    if status.status == 'FAILED':\n",
    "        raise Exception('Model deployment failed')\n"
   ]
  },
  {
   "cell_type": "code",
   "execution_count": null,
   "id": "470e83ef",
   "metadata": {
    "vscode": {
     "languageId": "plaintext"
    }
   },
   "outputs": [],
   "source": [
    "\n",
    "# submit prediction\n",
    "input_text = 'Steve jobs is the [MASK] of Apple.'\n",
    "prediction = model.predict(model_version_id=response.id, model_input=input_text)\n",
    "print(prediction)"
   ]
  }
 ],
 "metadata": {
  "kernelspec": {
   "display_name": "Python 3 (ipykernel)",
   "language": "python",
   "name": "python3"
  },
  "language_info": {
   "codemirror_mode": {
    "name": "ipython",
    "version": 3
   },
   "file_extension": ".py",
   "mimetype": "text/x-python",
   "name": "python",
   "nbconvert_exporter": "python",
   "pygments_lexer": "ipython3",
   "version": "3.9.1"
  }
 },
 "nbformat": 4,
 "nbformat_minor": 5
}
