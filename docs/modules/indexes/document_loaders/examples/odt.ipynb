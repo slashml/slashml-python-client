{
 "cells": [
  {
   "cell_type": "markdown",
   "id": "22a849cc",
   "metadata": {},
   "source": [
    "## Unstructured ODT Loader\n",
    "\n",
    "The `UnstructuredODTLoader` can be used to load Open Office ODT files."
   ]
  },
  {
   "cell_type": "code",
   "execution_count": 1,
   "id": "e6616e3a",
   "metadata": {},
   "outputs": [],
   "source": [
    "from langchain.document_loaders import UnstructuredODTLoader"
   ]
  },
  {
   "cell_type": "code",
   "execution_count": 2,
   "id": "a654e4d9",
   "metadata": {},
   "outputs": [
    {
     "data": {
      "text/plain": [
       "Document(page_content='Lorem ipsum dolor sit amet.', metadata={'source': 'example_data/fake.odt', 'filename': 'example_data/fake.odt', 'category': 'Title'})"
      ]
     },
     "execution_count": 2,
     "metadata": {},
     "output_type": "execute_result"
    }
   ],
   "source": [
    "loader = UnstructuredODTLoader(\"example_data/fake.odt\", mode=\"elements\")\n",
    "docs = loader.load()\n",
    "docs[0]"
   ]
  },
  {
   "cell_type": "code",
   "execution_count": null,
   "id": "9ab94bde",
   "metadata": {},
   "outputs": [],
   "source": []
  }
 ],
 "metadata": {
  "kernelspec": {
   "display_name": "Python 3 (ipykernel)",
   "language": "python",
   "name": "python3"
  },
  "language_info": {
   "codemirror_mode": {
    "name": "ipython",
    "version": 3
   },
   "file_extension": ".py",
   "mimetype": "text/x-python",
   "name": "python",
   "nbconvert_exporter": "python",
   "pygments_lexer": "ipython3",
   "version": "3.8.13"
  }
 },
 "nbformat": 4,
 "nbformat_minor": 5
}
