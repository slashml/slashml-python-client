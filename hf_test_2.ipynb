{
 "cells": [
  {
   "cell_type": "code",
   "execution_count": 2,
   "id": "f5f60283-55bb-481a-983f-610d0c967532",
   "metadata": {},
   "outputs": [],
   "source": [
    "# you might have to install transfomers and torch\n",
    "import torch\n",
    "from transformers import pipeline\n"
   ]
  },
  {
   "cell_type": "code",
   "execution_count": 3,
   "id": "796c7458-1b0c-4520-add7-b9014916af22",
   "metadata": {},
   "outputs": [
    {
     "name": "stderr",
     "output_type": "stream",
     "text": [
      "Some weights of the model checkpoint at bert-base-uncased were not used when initializing BertForMaskedLM: ['cls.seq_relationship.bias', 'bert.pooler.dense.bias', 'bert.pooler.dense.weight', 'cls.seq_relationship.weight']\n",
      "- This IS expected if you are initializing BertForMaskedLM from the checkpoint of a model trained on another task or with another architecture (e.g. initializing a BertForSequenceClassification model from a BertForPreTraining model).\n",
      "- This IS NOT expected if you are initializing BertForMaskedLM from the checkpoint of a model that you expect to be exactly identical (initializing a BertForSequenceClassification model from a BertForSequenceClassification model).\n"
     ]
    }
   ],
   "source": [
    "my_model = pipeline('fill-mask', model='bert-base-uncased')"
   ]
  },
  {
   "cell_type": "code",
   "execution_count": 4,
   "id": "4ddb2410-cc9b-4ce1-a323-4759d9afd549",
   "metadata": {},
   "outputs": [
    {
     "data": {
      "text/plain": [
       "[{'score': 0.5164636969566345,\n",
       "  'token': 3910,\n",
       "  'token_str': 'founder',\n",
       "  'sequence': 'steve jobs is the founder of apple'},\n",
       " {'score': 0.36049818992614746,\n",
       "  'token': 5766,\n",
       "  'token_str': 'ceo',\n",
       "  'sequence': 'steve jobs is the ceo of apple'},\n",
       " {'score': 0.049299854785203934,\n",
       "  'token': 2343,\n",
       "  'token_str': 'president',\n",
       "  'sequence': 'steve jobs is the president of apple'},\n",
       " {'score': 0.02111203595995903,\n",
       "  'token': 8543,\n",
       "  'token_str': 'creator',\n",
       "  'sequence': 'steve jobs is the creator of apple'},\n",
       " {'score': 0.008550191298127174,\n",
       "  'token': 2269,\n",
       "  'token_str': 'father',\n",
       "  'sequence': 'steve jobs is the father of apple'}]"
      ]
     },
     "execution_count": 4,
     "metadata": {},
     "output_type": "execute_result"
    }
   ],
   "source": [
    "my_model('steve jobs is the [MASK] of apple')"
   ]
  },
  {
   "cell_type": "code",
   "execution_count": 5,
   "id": "4d2c7245-d1bf-4466-89f0-c99b4c7bd8a7",
   "metadata": {},
   "outputs": [],
   "source": [
    "from slashml import ModelDeployment\n",
    "import time"
   ]
  },
  {
   "cell_type": "code",
   "execution_count": 6,
   "id": "6f2f9d6d-a6a3-4a94-ba5e-0dbec405a90c",
   "metadata": {},
   "outputs": [],
   "source": [
    "# Replace `API_KEY` with your SlasML API token.\n",
    "client = ModelDeployment(api_key=\"68b50f46b97f8c0f98fe419df240a22af3da392f\")\n",
    "# client = ModelDeployment(api_key=\"e7e33ba9a41c1426a425496319a14cab2b3f794f\")"
   ]
  },
  {
   "cell_type": "code",
   "execution_count": 7,
   "id": "80cbf5a2-4613-4614-aeff-5db4d56c156c",
   "metadata": {},
   "outputs": [],
   "source": [
    "response = client.deploy(model_name='my_model_3', model=my_model, requirements=['torch', 'transformers'])"
   ]
  },
  {
   "cell_type": "code",
   "execution_count": 9,
   "id": "160b1a5a-e1f5-49da-91e8-a9a8bdc10a34",
   "metadata": {},
   "outputs": [
    {
     "data": {
      "text/plain": [
       "{'id': 'c93e32d2-5c52-4caf-8830-e4729eb0b987',\n",
       " 'created': '2023-09-24T21:06:29.115401Z',\n",
       " 'status': 'IN_PROGRESS',\n",
       " 'name': 'my_model_3'}"
      ]
     },
     "execution_count": 9,
     "metadata": {},
     "output_type": "execute_result"
    }
   ],
   "source": [
    "response"
   ]
  },
  {
   "cell_type": "code",
   "execution_count": 8,
   "id": "0b47a4f9-a195-4155-b4ce-1ae67dfb16af",
   "metadata": {},
   "outputs": [
    {
     "data": {
      "text/plain": [
       "{'id': 'c93e32d2-5c52-4caf-8830-e4729eb0b987',\n",
       " 'created': '2023-09-24T21:06:29.115401Z',\n",
       " 'status': 'IN_PROGRESS',\n",
       " 'name': 'my_model_3'}"
      ]
     },
     "execution_count": 8,
     "metadata": {},
     "output_type": "execute_result"
    }
   ],
   "source": [
    "client.status(model_version_id=response.id)"
   ]
  },
  {
   "cell_type": "code",
   "execution_count": 10,
   "id": "c6521f61-9de8-4b7f-a5d7-d6e8673e6e8c",
   "metadata": {},
   "outputs": [
    {
     "name": "stdout",
     "output_type": "stream",
     "text": [
      "model succeeded\n"
     ]
    }
   ],
   "source": [
    "status = client.status(model_version_id=response.id)\n",
    "\n",
    "while status.status != 'READY':\n",
    "    print(f'status: {status.status}')\n",
    "    print('trying again in 5 seconds')\n",
    "    time.sleep(5)\n",
    "    status = model.status(model_version_id=response.id)\n",
    "\n",
    "    if status.status in ['FAILED', \"ERROR\"]:\n",
    "        raise Exception(f'Model deployment {status}')\n",
    "\n",
    "print(f'model succeeded')"
   ]
  },
  {
   "cell_type": "code",
   "execution_count": null,
   "id": "39307312-e9a2-40d2-b884-70979d3c0c05",
   "metadata": {},
   "outputs": [],
   "source": []
  },
  {
   "cell_type": "code",
   "execution_count": 11,
   "id": "0a775518-1577-4430-b80f-d580218526ea",
   "metadata": {},
   "outputs": [
    {
     "name": "stdout",
     "output_type": "stream",
     "text": [
      "{'id': 'c93e32d2-5c52-4caf-8830-e4729eb0b987', 'model_input': 'Steve jobs is the [MASK] of Apple.', 'model_response': {'predictions': [{'score': 0.49993884563446045, 'sequence': 'steve jobs is the founder of apple.', 'token': 3910, 'token_str': 'founder'}, {'score': 0.39265578985214233, 'sequence': 'steve jobs is the ceo of apple.', 'token': 5766, 'token_str': 'ceo'}, {'score': 0.04603331536054611, 'sequence': 'steve jobs is the president of apple.', 'token': 2343, 'token_str': 'president'}, {'score': 0.01692850887775421, 'sequence': 'steve jobs is the creator of apple.', 'token': 8543, 'token_str': 'creator'}, {'score': 0.008718223311007023, 'sequence': 'steve jobs is the chairman of apple.', 'token': 3472, 'token_str': 'chairman'}]}}\n"
     ]
    }
   ],
   "source": [
    "input_text = 'Steve jobs is the [MASK] of Apple.'\n",
    "prediction = client.predict(model_version_id=response.id, model_input=input_text)"
   ]
  },
  {
   "cell_type": "code",
   "execution_count": 13,
   "id": "17947dfb-ac77-473e-a758-515d5cd324d4",
   "metadata": {},
   "outputs": [
    {
     "data": {
      "text/plain": [
       "[{'score': 0.49993884563446045,\n",
       "  'sequence': 'steve jobs is the founder of apple.',\n",
       "  'token': 3910,\n",
       "  'token_str': 'founder'},\n",
       " {'score': 0.39265578985214233,\n",
       "  'sequence': 'steve jobs is the ceo of apple.',\n",
       "  'token': 5766,\n",
       "  'token_str': 'ceo'},\n",
       " {'score': 0.04603331536054611,\n",
       "  'sequence': 'steve jobs is the president of apple.',\n",
       "  'token': 2343,\n",
       "  'token_str': 'president'},\n",
       " {'score': 0.01692850887775421,\n",
       "  'sequence': 'steve jobs is the creator of apple.',\n",
       "  'token': 8543,\n",
       "  'token_str': 'creator'},\n",
       " {'score': 0.008718223311007023,\n",
       "  'sequence': 'steve jobs is the chairman of apple.',\n",
       "  'token': 3472,\n",
       "  'token_str': 'chairman'}]"
      ]
     },
     "execution_count": 13,
     "metadata": {},
     "output_type": "execute_result"
    }
   ],
   "source": [
    "prediction['model_response']['predictions']"
   ]
  },
  {
   "cell_type": "code",
   "execution_count": null,
   "id": "31337abc-a6f0-4c50-b8ac-0e81b4ab54bb",
   "metadata": {},
   "outputs": [],
   "source": []
  },
  {
   "cell_type": "code",
   "execution_count": null,
   "id": "920d28ee-3399-4000-b2a7-a4fc748d6917",
   "metadata": {},
   "outputs": [],
   "source": []
  },
  {
   "cell_type": "code",
   "execution_count": null,
   "id": "66a0e22c-b430-48be-8285-09bfa60467c0",
   "metadata": {},
   "outputs": [],
   "source": []
  },
  {
   "cell_type": "code",
   "execution_count": null,
   "id": "6fae4cfd-24b7-4ca4-a812-e4dbbe1b927c",
   "metadata": {},
   "outputs": [],
   "source": []
  },
  {
   "cell_type": "code",
   "execution_count": null,
   "id": "f12b96b7-147c-40b3-b458-d7c5009bffad",
   "metadata": {},
   "outputs": [],
   "source": []
  }
 ],
 "metadata": {
  "kernelspec": {
   "display_name": "Python 3 (ipykernel)",
   "language": "python",
   "name": "python3"
  },
  "language_info": {
   "codemirror_mode": {
    "name": "ipython",
    "version": 3
   },
   "file_extension": ".py",
   "mimetype": "text/x-python",
   "name": "python",
   "nbconvert_exporter": "python",
   "pygments_lexer": "ipython3",
   "version": "3.9.1"
  }
 },
 "nbformat": 4,
 "nbformat_minor": 5
}
