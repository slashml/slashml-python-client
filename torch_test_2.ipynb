{
 "cells": [
  {
   "cell_type": "code",
   "execution_count": 1,
   "id": "bd6a4140-0f39-4e2c-a2e9-3307b4a5be20",
   "metadata": {},
   "outputs": [],
   "source": [
    "import torch.nn as nn\n",
    "import torch.nn.functional as F\n",
    "import torch.optim as optim\n",
    "from torch.optim.lr_scheduler import StepLR\n",
    "from torchvision import datasets, transforms\n",
    "import torch.nn.functional as F\n",
    "import torch"
   ]
  },
  {
   "cell_type": "code",
   "execution_count": 21,
   "id": "0b195022-1cf0-44cf-9c45-215d143b248e",
   "metadata": {},
   "outputs": [],
   "source": [
    "class MNISTNet(nn.Module):\n",
    "    def __init__(self):\n",
    "        super(MNISTNet, self).__init__()\n",
    "        self.conv1 = nn.Conv2d(1, 32, 3, 1)\n",
    "        self.conv2 = nn.Conv2d(32, 64, 3, 1)\n",
    "        self.dropout1 = nn.Dropout(0.25)\n",
    "        self.dropout2 = nn.Dropout(0.5)\n",
    "        self.fc1 = nn.Linear(9216, 128)\n",
    "        self.fc2 = nn.Linear(128, 10)\n",
    "\n",
    "    def forward(self, x):\n",
    "        x = self.conv1(x)\n",
    "        x = F.relu(x)\n",
    "        x = self.conv2(x)\n",
    "        x = F.relu(x)\n",
    "        x = F.max_pool2d(x, 2)\n",
    "        x = self.dropout1(x)\n",
    "        x = torch.flatten(x, 1)\n",
    "        x = self.fc1(x)\n",
    "        x = F.relu(x)\n",
    "        x = self.dropout2(x)\n",
    "        x = self.fc2(x)\n",
    "        output = F.log_softmax(x, dim=1)\n",
    "        return output"
   ]
  },
  {
   "cell_type": "code",
   "execution_count": 37,
   "id": "42e0a321-40cb-4745-8367-232cb331b52b",
   "metadata": {},
   "outputs": [
    {
     "data": {
      "text/plain": [
       "__main__.MNISTNet"
      ]
     },
     "execution_count": 37,
     "metadata": {},
     "output_type": "execute_result"
    }
   ],
   "source": [
    "MNISTNet"
   ]
  },
  {
   "cell_type": "code",
   "execution_count": 13,
   "id": "2684797a-4bee-42b6-87d2-eec036e9bbee",
   "metadata": {},
   "outputs": [],
   "source": [
    "def train(model, device, train_loader, optimizer, epoch, log_interval=10):\n",
    "    model.train()\n",
    "    for batch_idx, (data, target) in enumerate(train_loader):\n",
    "        data, target = data.to(device), target.to(device)\n",
    "        optimizer.zero_grad()\n",
    "        output = model(data)\n",
    "        loss = F.nll_loss(output, target)\n",
    "        loss.backward()\n",
    "        optimizer.step()\n",
    "        if batch_idx % log_interval == 0:\n",
    "            print(\n",
    "                \"Train Epoch: {} [{}/{} ({:.0f}%)]\\tLoss: {:.6f}\".format(\n",
    "                    epoch,\n",
    "                    batch_idx * len(data),\n",
    "                    len(train_loader.dataset),\n",
    "                    100.0 * batch_idx / len(train_loader),\n",
    "                    loss.item(),\n",
    "                )\n",
    "            )"
   ]
  },
  {
   "cell_type": "code",
   "execution_count": 14,
   "id": "c67b2f6a-d198-4edc-9dfc-a829c009c108",
   "metadata": {},
   "outputs": [],
   "source": [
    "def test(model, device, test_loader):\n",
    "    model.eval()\n",
    "    test_loss = 0\n",
    "    correct = 0\n",
    "    with torch.no_grad():\n",
    "        for data, target in test_loader:\n",
    "            data, target = data.to(device), target.to(device)\n",
    "            output = model(data)\n",
    "            test_loss += F.nll_loss(\n",
    "                output, target, reduction=\"sum\"\n",
    "            ).item()  # sum up batch loss\n",
    "            pred = output.argmax(\n",
    "                dim=1, keepdim=True\n",
    "            )  # get the index of the max log-probability\n",
    "            correct += pred.eq(target.view_as(pred)).sum().item()\n",
    "\n",
    "    test_loss /= len(test_loader.dataset)\n",
    "\n",
    "    print(\n",
    "        \"\\nTest set: Average loss: {:.4f}, Accuracy: {}/{} ({:.0f}%)\\n\".format(\n",
    "            test_loss,\n",
    "            correct,\n",
    "            len(test_loader.dataset),\n",
    "            100.0 * correct / len(test_loader.dataset),\n",
    "        )\n",
    "    )"
   ]
  },
  {
   "cell_type": "code",
   "execution_count": 15,
   "id": "44b00cd1-c9f0-42b6-beaa-a4d82a06778c",
   "metadata": {},
   "outputs": [],
   "source": [
    "def train_model():\n",
    "    device = \"cpu\"\n",
    "    epochs = 1\n",
    "    train_kwargs = {\"batch_size\": 256}\n",
    "    test_kwargs = {\"batch_size\": 1000}\n",
    "    transform = transforms.Compose(\n",
    "        [transforms.ToTensor(), transforms.Normalize((0.1307,), (0.3081,))]\n",
    "    )\n",
    "    dataset1 = datasets.MNIST(\"../data\", train=True, download=True, transform=transform)\n",
    "    dataset2 = datasets.MNIST(\"../data\", train=False, transform=transform)\n",
    "    train_loader = torch.utils.data.DataLoader(dataset1, **train_kwargs)\n",
    "    test_loader = torch.utils.data.DataLoader(dataset2, **test_kwargs)\n",
    "    model = MNISTNet().to(device)\n",
    "    optimizer = optim.Adadelta(model.parameters(), lr=1.0)\n",
    "\n",
    "    scheduler = StepLR(optimizer, step_size=1, gamma=0.7)\n",
    "    for epoch in range(1, epochs + 1):\n",
    "        train(model, device, train_loader, optimizer, epoch)\n",
    "        test(model, device, test_loader)\n",
    "        scheduler.step()\n",
    "    return model"
   ]
  },
  {
   "cell_type": "code",
   "execution_count": 16,
   "id": "fb96d0e5-ef77-4b27-8dfc-ae29b15f806f",
   "metadata": {},
   "outputs": [
    {
     "name": "stdout",
     "output_type": "stream",
     "text": [
      "Train Epoch: 1 [0/60000 (0%)]\tLoss: 2.295776\n",
      "Train Epoch: 1 [2560/60000 (4%)]\tLoss: 1.631971\n",
      "Train Epoch: 1 [5120/60000 (9%)]\tLoss: 0.526925\n",
      "Train Epoch: 1 [7680/60000 (13%)]\tLoss: 0.409722\n",
      "Train Epoch: 1 [10240/60000 (17%)]\tLoss: 0.225346\n",
      "Train Epoch: 1 [12800/60000 (21%)]\tLoss: 0.312465\n",
      "Train Epoch: 1 [15360/60000 (26%)]\tLoss: 0.240750\n",
      "Train Epoch: 1 [17920/60000 (30%)]\tLoss: 0.189270\n",
      "Train Epoch: 1 [20480/60000 (34%)]\tLoss: 0.211113\n",
      "Train Epoch: 1 [23040/60000 (38%)]\tLoss: 0.132681\n",
      "Train Epoch: 1 [25600/60000 (43%)]\tLoss: 0.164609\n",
      "Train Epoch: 1 [28160/60000 (47%)]\tLoss: 0.174042\n",
      "Train Epoch: 1 [30720/60000 (51%)]\tLoss: 0.186887\n",
      "Train Epoch: 1 [33280/60000 (55%)]\tLoss: 0.181484\n",
      "Train Epoch: 1 [35840/60000 (60%)]\tLoss: 0.135922\n",
      "Train Epoch: 1 [38400/60000 (64%)]\tLoss: 0.108739\n",
      "Train Epoch: 1 [40960/60000 (68%)]\tLoss: 0.066518\n",
      "Train Epoch: 1 [43520/60000 (72%)]\tLoss: 0.116501\n",
      "Train Epoch: 1 [46080/60000 (77%)]\tLoss: 0.203046\n",
      "Train Epoch: 1 [48640/60000 (81%)]\tLoss: 0.076458\n",
      "Train Epoch: 1 [51200/60000 (85%)]\tLoss: 0.130680\n",
      "Train Epoch: 1 [53760/60000 (89%)]\tLoss: 0.161650\n",
      "Train Epoch: 1 [56320/60000 (94%)]\tLoss: 0.139390\n",
      "Train Epoch: 1 [58880/60000 (98%)]\tLoss: 0.023672\n",
      "\n",
      "Test set: Average loss: 0.0699, Accuracy: 9784/10000 (98%)\n",
      "\n"
     ]
    }
   ],
   "source": [
    "my_model = train_model()\n"
   ]
  },
  {
   "cell_type": "code",
   "execution_count": 38,
   "id": "bff4a8fe-b45f-449b-adb9-ce8a3603df03",
   "metadata": {},
   "outputs": [
    {
     "data": {
      "text/plain": [
       "MNISTNet(\n",
       "  (conv1): Conv2d(1, 32, kernel_size=(3, 3), stride=(1, 1))\n",
       "  (conv2): Conv2d(32, 64, kernel_size=(3, 3), stride=(1, 1))\n",
       "  (dropout1): Dropout(p=0.25, inplace=False)\n",
       "  (dropout2): Dropout(p=0.5, inplace=False)\n",
       "  (fc1): Linear(in_features=9216, out_features=128, bias=True)\n",
       "  (fc2): Linear(in_features=128, out_features=10, bias=True)\n",
       ")"
      ]
     },
     "execution_count": 38,
     "metadata": {},
     "output_type": "execute_result"
    }
   ],
   "source": [
    "my_model"
   ]
  },
  {
   "cell_type": "code",
   "execution_count": 17,
   "id": "c58a5ffa-f3c2-4ac9-bdb0-fe292f2667d8",
   "metadata": {},
   "outputs": [],
   "source": [
    "from slashml import ModelDeployment"
   ]
  },
  {
   "cell_type": "code",
   "execution_count": 18,
   "id": "5991acf6-6fe9-4e38-8cb0-01da94bf01c2",
   "metadata": {},
   "outputs": [],
   "source": [
    "# Replace `API_KEY` with your SlasML API token.\n",
    "client = ModelDeployment(api_key=\"68b50f46b97f8c0f98fe419df240a22af3da392f\")"
   ]
  },
  {
   "cell_type": "code",
   "execution_count": 19,
   "id": "c0cd0e37-ee48-4518-825a-7b10a5d4e2c5",
   "metadata": {},
   "outputs": [
    {
     "name": "stdout",
     "output_type": "stream",
     "text": [
      "> \u001b[0;32m/Users/faizank/workspace/experiments/live_projects/slashml/sdk_tests/venv-3.9.1/lib/python3.9/site-packages/truss/model_frameworks/pytorch.py\u001b[0m(61)\u001b[0;36m_torch_package\u001b[0;34m()\u001b[0m\n",
      "\u001b[0;32m     59 \u001b[0;31m        \u001b[0;32mimport\u001b[0m \u001b[0mpdb\u001b[0m\u001b[0;34m\u001b[0m\u001b[0;34m\u001b[0m\u001b[0m\n",
      "\u001b[0m\u001b[0;32m     60 \u001b[0;31m        \u001b[0mpdb\u001b[0m\u001b[0;34m.\u001b[0m\u001b[0mset_trace\u001b[0m\u001b[0;34m(\u001b[0m\u001b[0;34m)\u001b[0m\u001b[0;34m\u001b[0m\u001b[0;34m\u001b[0m\u001b[0m\n",
      "\u001b[0m\u001b[0;32m---> 61 \u001b[0;31m        \u001b[0mexp\u001b[0m\u001b[0;34m.\u001b[0m\u001b[0msave_pickle\u001b[0m\u001b[0;34m(\u001b[0m\u001b[0mTORCH_MODEL_PACKAGE_NAME\u001b[0m\u001b[0;34m,\u001b[0m \u001b[0mTORCH_MODEL_PICKLE_FILENAME\u001b[0m\u001b[0;34m,\u001b[0m \u001b[0mmodel\u001b[0m\u001b[0;34m)\u001b[0m\u001b[0;34m\u001b[0m\u001b[0;34m\u001b[0m\u001b[0m\n",
      "\u001b[0m\u001b[0;32m     62 \u001b[0;31m\u001b[0;34m\u001b[0m\u001b[0m\n",
      "\u001b[0m\u001b[0;32m     63 \u001b[0;31m\u001b[0;34m\u001b[0m\u001b[0m\n",
      "\u001b[0m\n"
     ]
    },
    {
     "name": "stdin",
     "output_type": "stream",
     "text": [
      "ipdb>  c\n"
     ]
    },
    {
     "name": "stdout",
     "output_type": "stream",
     "text": [
      "> \u001b[0;32m/Users/faizank/workspace/experiments/live_projects/slashml/sdk_tests/venv-3.9.1/lib/python3.9/site-packages/torch/package/package_exporter.py\u001b[0m(1090)\u001b[0;36mclose\u001b[0;34m()\u001b[0m\n",
      "\u001b[0;32m   1088 \u001b[0;31m        \u001b[0;32mimport\u001b[0m \u001b[0mpdb\u001b[0m\u001b[0;34m\u001b[0m\u001b[0;34m\u001b[0m\u001b[0m\n",
      "\u001b[0m\u001b[0;32m   1089 \u001b[0;31m        \u001b[0mpdb\u001b[0m\u001b[0;34m.\u001b[0m\u001b[0mset_trace\u001b[0m\u001b[0;34m(\u001b[0m\u001b[0;34m)\u001b[0m\u001b[0;34m\u001b[0m\u001b[0;34m\u001b[0m\u001b[0m\n",
      "\u001b[0m\u001b[0;32m-> 1090 \u001b[0;31m        \u001b[0mself\u001b[0m\u001b[0;34m.\u001b[0m\u001b[0m_execute_dependency_graph\u001b[0m\u001b[0;34m(\u001b[0m\u001b[0;34m)\u001b[0m\u001b[0;34m\u001b[0m\u001b[0;34m\u001b[0m\u001b[0m\n",
      "\u001b[0m\u001b[0;32m   1091 \u001b[0;31m        \u001b[0mself\u001b[0m\u001b[0;34m.\u001b[0m\u001b[0m_write_python_version\u001b[0m\u001b[0;34m(\u001b[0m\u001b[0;34m)\u001b[0m\u001b[0;34m\u001b[0m\u001b[0;34m\u001b[0m\u001b[0m\n",
      "\u001b[0m\u001b[0;32m   1092 \u001b[0;31m\u001b[0;34m\u001b[0m\u001b[0m\n",
      "\u001b[0m\n"
     ]
    },
    {
     "name": "stdin",
     "output_type": "stream",
     "text": [
      "ipdb>  c\n"
     ]
    }
   ],
   "source": [
    "response = client.deploy(model_name='pytorch-model', model=my_model, requirements=['torch', 'transformers'])"
   ]
  },
  {
   "cell_type": "code",
   "execution_count": 24,
   "id": "bac3f81e-fe0f-403e-87e3-1d42a70eeb0b",
   "metadata": {},
   "outputs": [
    {
     "data": {
      "text/plain": [
       "{'id': '509107b5-6454-4af6-8be2-3be2a8d379a6',\n",
       " 'created': '2023-09-26T22:58:16.103933Z',\n",
       " 'status': 'READY',\n",
       " 'name': 'pytorch-model'}"
      ]
     },
     "execution_count": 24,
     "metadata": {},
     "output_type": "execute_result"
    }
   ],
   "source": [
    "client.status(model_version_id=response.id)"
   ]
  },
  {
   "cell_type": "code",
   "execution_count": 26,
   "id": "5e472e95-55de-47c2-bbd5-e2136228b5b5",
   "metadata": {},
   "outputs": [
    {
     "name": "stdout",
     "output_type": "stream",
     "text": [
      "model ready\n"
     ]
    }
   ],
   "source": [
    "status = client.status(model_version_id=response.id)\n",
    "\n",
    "while status.status != 'READY':\n",
    "    print(f'status: {status.status}')\n",
    "    print('trying again in 5 seconds')\n",
    "    time.sleep(5)\n",
    "    status = client.status(model_version_id=response.id)\n",
    "\n",
    "    if status.status == 'FAILED':\n",
    "        raise Exception('Model deployment failed')\n",
    "\n",
    "print('model ready')"
   ]
  },
  {
   "cell_type": "code",
   "execution_count": 28,
   "id": "2e690463-3296-41b6-a6ae-4f8ca3955a84",
   "metadata": {},
   "outputs": [],
   "source": [
    "# prepare data for inference\n",
    "transform = transforms.Compose(\n",
    "        [transforms.ToTensor(), transforms.Normalize((0.1307,), (0.3081,))]\n",
    "    )\n",
    "inputs = datasets.MNIST(\"../data\", train=False, transform=transform)\n",
    "dataset = torch.utils.data.DataLoader(inputs, batch_size=1)"
   ]
  },
  {
   "cell_type": "code",
   "execution_count": 29,
   "id": "729e2cb4-a697-4b25-a32d-6f22e143512e",
   "metadata": {},
   "outputs": [],
   "source": [
    "model_input = list(dataset)[0]"
   ]
  },
  {
   "cell_type": "code",
   "execution_count": 32,
   "id": "0e06e827-4b50-443e-8d3c-4168777e05dd",
   "metadata": {},
   "outputs": [
    {
     "name": "stderr",
     "output_type": "stream",
     "text": [
      "/var/folders/qg/6sb9klt17nbc4_jz2gx49s240000gn/T/ipykernel_64542/2345019260.py:1: UserWarning: To copy construct from a tensor, it is recommended to use sourceTensor.clone().detach() or sourceTensor.clone().detach().requires_grad_(True), rather than torch.tensor(sourceTensor).\n",
      "  inputs = torch.tensor(\n"
     ]
    }
   ],
   "source": [
    "inputs = torch.tensor(\n",
    "                model_input[0], dtype=list(my_model.parameters())[0].dtype, device='cpu'\n",
    "            )"
   ]
  },
  {
   "cell_type": "code",
   "execution_count": 33,
   "id": "74c0dd51-c8ce-4bff-bc5e-970f39f9aab5",
   "metadata": {},
   "outputs": [],
   "source": [
    "prediction = client.predict(model_version_id=response.id, model_input=inputs.tolist())\n"
   ]
  },
  {
   "cell_type": "code",
   "execution_count": 34,
   "id": "f50615ec-b87b-4095-b3f6-4bb20a81e69a",
   "metadata": {},
   "outputs": [],
   "source": [
    "scores = prediction['model_response']['predictions']\n"
   ]
  },
  {
   "cell_type": "code",
   "execution_count": 35,
   "id": "f3fd4ccd-b25f-4a91-8a69-aeb4ff4dc4ba",
   "metadata": {},
   "outputs": [
    {
     "data": {
      "text/plain": [
       "[[-13.912128448486328,\n",
       "  -14.697678565979004,\n",
       "  -9.851377487182617,\n",
       "  -11.565227508544922,\n",
       "  -16.64999771118164,\n",
       "  -17.572322845458984,\n",
       "  -22.370956420898438,\n",
       "  -6.937739817658439e-05,\n",
       "  -14.558772087097168,\n",
       "  -12.155047416687012]]"
      ]
     },
     "execution_count": 35,
     "metadata": {},
     "output_type": "execute_result"
    }
   ],
   "source": [
    "scores"
   ]
  },
  {
   "cell_type": "code",
   "execution_count": 15,
   "id": "fc74469a-b0f2-472b-b55a-3ff158c14153",
   "metadata": {},
   "outputs": [
    {
     "data": {
      "text/plain": [
       "False"
      ]
     },
     "execution_count": 15,
     "metadata": {},
     "output_type": "execute_result"
    }
   ],
   "source": [
    "'__file__' in globals()"
   ]
  },
  {
   "cell_type": "code",
   "execution_count": 16,
   "id": "5153b79e-b75d-404a-9358-8579899645e5",
   "metadata": {},
   "outputs": [],
   "source": [
    "if '__file__' not in globals():\n",
    "    __file__ = 'temporary_notebook_file.py'"
   ]
  },
  {
   "cell_type": "code",
   "execution_count": 12,
   "id": "893ec887-4160-4564-b1c0-ff30ae200565",
   "metadata": {},
   "outputs": [
    {
     "name": "stdout",
     "output_type": "stream",
     "text": [
      "something\n"
     ]
    }
   ],
   "source": [
    "if __name__=='__main__':\n",
    "    print('something')"
   ]
  },
  {
   "cell_type": "code",
   "execution_count": 17,
   "id": "9e4b6db4-98c4-4cff-a6ac-559e3dcace14",
   "metadata": {},
   "outputs": [
    {
     "name": "stdout",
     "output_type": "stream",
     "text": [
      "> \u001b[0;32m/Users/faizank/workspace/experiments/live_projects/slashml/sdk_tests/venv-3.9.1/lib/python3.9/site-packages/torch/package/package_exporter.py\u001b[0m(1090)\u001b[0;36mclose\u001b[0;34m()\u001b[0m\n",
      "\u001b[0;32m   1088 \u001b[0;31m        \u001b[0;32mimport\u001b[0m \u001b[0mpdb\u001b[0m\u001b[0;34m\u001b[0m\u001b[0;34m\u001b[0m\u001b[0m\n",
      "\u001b[0m\u001b[0;32m   1089 \u001b[0;31m        \u001b[0mpdb\u001b[0m\u001b[0;34m.\u001b[0m\u001b[0mset_trace\u001b[0m\u001b[0;34m(\u001b[0m\u001b[0;34m)\u001b[0m\u001b[0;34m\u001b[0m\u001b[0;34m\u001b[0m\u001b[0m\n",
      "\u001b[0m\u001b[0;32m-> 1090 \u001b[0;31m        \u001b[0mself\u001b[0m\u001b[0;34m.\u001b[0m\u001b[0m_execute_dependency_graph\u001b[0m\u001b[0;34m(\u001b[0m\u001b[0;34m)\u001b[0m\u001b[0;34m\u001b[0m\u001b[0;34m\u001b[0m\u001b[0m\n",
      "\u001b[0m\u001b[0;32m   1091 \u001b[0;31m        \u001b[0mself\u001b[0m\u001b[0;34m.\u001b[0m\u001b[0m_write_python_version\u001b[0m\u001b[0;34m(\u001b[0m\u001b[0;34m)\u001b[0m\u001b[0;34m\u001b[0m\u001b[0;34m\u001b[0m\u001b[0m\n",
      "\u001b[0m\u001b[0;32m   1092 \u001b[0;31m\u001b[0;34m\u001b[0m\u001b[0m\n",
      "\u001b[0m\n"
     ]
    },
    {
     "name": "stdin",
     "output_type": "stream",
     "text": [
      "ipdb>  c\n"
     ]
    }
   ],
   "source": [
    "from torch import package\n",
    "import os\n",
    "os.makedirs('test', exist_ok=True)\n",
    "target_directory = os.getcwd()+\"/test/\"\n",
    "TORCH_PACKAGE_FILE = \"model_package.pt\"\n",
    "TORCH_MODEL_PICKLE_FILENAME = \"model.pkl\"\n",
    "TORCH_MODEL_PACKAGE_NAME = \"torch_model\"\n",
    "path = target_directory+f\"/{TORCH_PACKAGE_FILE}\"\n",
    "\n",
    "extern_modules=[\"__main__\"]\n",
    "with package.PackageExporter(path, debug=True) as exp:\n",
    "    exp.intern(f\"{my_model.__class__.__module__}.**\")\n",
    "    # for extern_module in extern_modules:\n",
    "    #     exp.extern(f\"{extern_module}.**\")\n",
    "    exp.save_pickle(TORCH_MODEL_PACKAGE_NAME, TORCH_MODEL_PICKLE_FILENAME, my_model)"
   ]
  },
  {
   "cell_type": "code",
   "execution_count": 11,
   "id": "07dd5edd-8ca1-4bb9-a7f0-eb81e72eb7ba",
   "metadata": {},
   "outputs": [],
   "source": [
    "model_py_string = \"\"\"\n",
    "import torch\n",
    "import torch.nn as nn\n",
    "import torch.nn.functional as F\n",
    "\n",
    "class MNISTNet(nn.Module):\n",
    "    def __init__(self):\n",
    "        super(MNISTNet, self).__init__()\n",
    "        self.conv1 = nn.Conv2d(1, 32, 3, 1)\n",
    "        self.conv2 = nn.Conv2d(32, 64, 3, 1)\n",
    "        self.dropout1 = nn.Dropout(0.25)\n",
    "        self.dropout2 = nn.Dropout(0.5)\n",
    "        self.fc1 = nn.Linear(9216, 128)\n",
    "        self.fc2 = nn.Linear(128, 10)\n",
    "\n",
    "    def forward(self, x):\n",
    "        x = self.conv1(x)\n",
    "        x = F.relu(x)\n",
    "        x = self.conv2(x)\n",
    "        x = F.relu(x)\n",
    "        x = F.max_pool2d(x, 2)\n",
    "        x = self.dropout1(x)\n",
    "        x = torch.flatten(x, 1)\n",
    "        x = self.fc1(x)\n",
    "        x = F.relu(x)\n",
    "        x = self.dropout2(x)\n",
    "        x = self.fc2(x)\n",
    "        output = F.log_softmax(x, dim=1)\n",
    "        return output\n",
    "\"\"\"\n",
    "\n",
    "with open('model.py', 'w') as model_py_file:\n",
    "    model_py_file.write(model_py_string)"
   ]
  },
  {
   "cell_type": "code",
   "execution_count": 12,
   "id": "85515822-efb6-4340-9eeb-bc8e06b14a9b",
   "metadata": {},
   "outputs": [],
   "source": [
    "from model import MNISTNet\n"
   ]
  },
  {
   "cell_type": "code",
   "execution_count": 20,
   "id": "95e3001a-e10d-42ae-a2f1-af44bee42016",
   "metadata": {},
   "outputs": [
    {
     "data": {
      "text/plain": [
       "''"
      ]
     },
     "execution_count": 20,
     "metadata": {},
     "output_type": "execute_result"
    }
   ],
   "source": [
    "_"
   ]
  },
  {
   "cell_type": "code",
   "execution_count": null,
   "id": "138891e5-d6a0-4b30-af20-06d7889deb31",
   "metadata": {},
   "outputs": [],
   "source": []
  }
 ],
 "metadata": {
  "kernelspec": {
   "display_name": "Python 3 (ipykernel)",
   "language": "python",
   "name": "python3"
  },
  "language_info": {
   "codemirror_mode": {
    "name": "ipython",
    "version": 3
   },
   "file_extension": ".py",
   "mimetype": "text/x-python",
   "name": "python",
   "nbconvert_exporter": "python",
   "pygments_lexer": "ipython3",
   "version": "3.9.1"
  }
 },
 "nbformat": 4,
 "nbformat_minor": 5
}
