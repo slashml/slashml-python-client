{
 "cells": [
  {
   "cell_type": "code",
   "execution_count": null,
   "id": "f0032a44-2b5d-4778-8035-e3fcdbb5a31d",
   "metadata": {},
   "outputs": [],
   "source": [
    "%pip install --upgrade torch torchvision baseten"
   ]
  },
  {
   "cell_type": "code",
   "execution_count": 1,
   "id": "50824605-66f1-4eeb-95f1-8c124e9b4390",
   "metadata": {},
   "outputs": [],
   "source": [
    "from slashml import ModelDeployment\n",
    "import time\n",
    "\n",
    "import torch.nn as nn\n",
    "import torch.nn.functional as F\n",
    "import torch.optim as optim\n",
    "from torch.optim.lr_scheduler import StepLR\n",
    "from torchvision import datasets, transforms\n",
    "import torch.nn.functional as F"
   ]
  },
  {
   "cell_type": "code",
   "execution_count": 3,
   "id": "75312ed4-650c-4be8-9d91-469e6174c1bc",
   "metadata": {},
   "outputs": [],
   "source": [
    "class MNISTNet(nn.Module):\n",
    "    def __init__(self):\n",
    "        super(MNISTNet, self).__init__()\n",
    "        self.conv1 = nn.Conv2d(1, 32, 3, 1)\n",
    "        self.conv2 = nn.Conv2d(32, 64, 3, 1)\n",
    "        self.dropout1 = nn.Dropout(0.25)\n",
    "        self.dropout2 = nn.Dropout(0.5)\n",
    "        self.fc1 = nn.Linear(9216, 128)\n",
    "        self.fc2 = nn.Linear(128, 10)\n",
    "\n",
    "    def forward(self, x):\n",
    "        x = self.conv1(x)\n",
    "        x = F.relu(x)\n",
    "        x = self.conv2(x)\n",
    "        x = F.relu(x)\n",
    "        x = F.max_pool2d(x, 2)\n",
    "        x = self.dropout1(x)\n",
    "        x = torch.flatten(x, 1)\n",
    "        x = self.fc1(x)\n",
    "        x = F.relu(x)\n",
    "        x = self.dropout2(x)\n",
    "        x = self.fc2(x)\n",
    "        output = F.log_softmax(x, dim=1)\n",
    "        return output"
   ]
  },
  {
   "cell_type": "code",
   "execution_count": 4,
   "id": "9e06867f-d285-445d-91f5-525afbc99565",
   "metadata": {},
   "outputs": [],
   "source": [
    "def train(model, device, train_loader, optimizer, epoch, log_interval=10):\n",
    "    model.train()\n",
    "    for batch_idx, (data, target) in enumerate(train_loader):\n",
    "        data, target = data.to(device), target.to(device)\n",
    "        optimizer.zero_grad()\n",
    "        output = model(data)\n",
    "        loss = F.nll_loss(output, target)\n",
    "        loss.backward()\n",
    "        optimizer.step()\n",
    "        if batch_idx % log_interval == 0:\n",
    "            print(\n",
    "                \"Train Epoch: {} [{}/{} ({:.0f}%)]\\tLoss: {:.6f}\".format(\n",
    "                    epoch,\n",
    "                    batch_idx * len(data),\n",
    "                    len(train_loader.dataset),\n",
    "                    100.0 * batch_idx / len(train_loader),\n",
    "                    loss.item(),\n",
    "                )\n",
    "            )"
   ]
  },
  {
   "cell_type": "code",
   "execution_count": 5,
   "id": "4af8ceb3-457c-428d-8f40-6fc5a41e710f",
   "metadata": {},
   "outputs": [],
   "source": [
    "def test(model, device, test_loader):\n",
    "    model.eval()\n",
    "    test_loss = 0\n",
    "    correct = 0\n",
    "    with torch.no_grad():\n",
    "        for data, target in test_loader:\n",
    "            data, target = data.to(device), target.to(device)\n",
    "            output = model(data)\n",
    "            test_loss += F.nll_loss(\n",
    "                output, target, reduction=\"sum\"\n",
    "            ).item()  # sum up batch loss\n",
    "            pred = output.argmax(\n",
    "                dim=1, keepdim=True\n",
    "            )  # get the index of the max log-probability\n",
    "            correct += pred.eq(target.view_as(pred)).sum().item()\n",
    "\n",
    "    test_loss /= len(test_loader.dataset)\n",
    "\n",
    "    print(\n",
    "        \"\\nTest set: Average loss: {:.4f}, Accuracy: {}/{} ({:.0f}%)\\n\".format(\n",
    "            test_loss,\n",
    "            correct,\n",
    "            len(test_loader.dataset),\n",
    "            100.0 * correct / len(test_loader.dataset),\n",
    "        )\n",
    "    )"
   ]
  },
  {
   "cell_type": "code",
   "execution_count": 6,
   "id": "1c78b761-16b4-40f8-bbb0-2d73cd66ff75",
   "metadata": {},
   "outputs": [],
   "source": [
    "def train_model():\n",
    "    device = \"cpu\"\n",
    "    epochs = 1\n",
    "    train_kwargs = {\"batch_size\": 64}\n",
    "    test_kwargs = {\"batch_size\": 1000}\n",
    "    transform = transforms.Compose(\n",
    "        [transforms.ToTensor(), transforms.Normalize((0.1307,), (0.3081,))]\n",
    "    )\n",
    "    dataset1 = datasets.MNIST(\"../data\", train=True, download=True, transform=transform)\n",
    "    dataset2 = datasets.MNIST(\"../data\", train=False, transform=transform)\n",
    "    train_loader = torch.utils.data.DataLoader(dataset1, **train_kwargs)\n",
    "    test_loader = torch.utils.data.DataLoader(dataset2, **test_kwargs)\n",
    "    model = MNISTNet().to(device)\n",
    "    optimizer = optim.Adadelta(model.parameters(), lr=1.0)\n",
    "\n",
    "    scheduler = StepLR(optimizer, step_size=1, gamma=0.7)\n",
    "    for epoch in range(1, epochs + 1):\n",
    "        train(model, device, train_loader, optimizer, epoch)\n",
    "        test(model, device, test_loader)\n",
    "        scheduler.step()\n",
    "    return model"
   ]
  },
  {
   "cell_type": "code",
   "execution_count": 6,
   "id": "741acab2-a3ec-4e82-b633-30d5f3734b58",
   "metadata": {},
   "outputs": [],
   "source": [
    "# Model training\n",
    "\n",
    "import torch\n",
    "import torch.optim as optim\n",
    "from torch.optim.lr_scheduler import StepLR\n",
    "from torchvision import datasets, transforms\n",
    "import torch.nn.functional as F\n",
    "\n",
    "model_py_string = \"\"\"\n",
    "import torch\n",
    "import torch.nn as nn\n",
    "import torch.nn.functional as F\n",
    "\n",
    "class MNISTNet(nn.Module):\n",
    "    def __init__(self):\n",
    "        super(MNISTNet, self).__init__()\n",
    "        self.conv1 = nn.Conv2d(1, 32, 3, 1)\n",
    "        self.conv2 = nn.Conv2d(32, 64, 3, 1)\n",
    "        self.dropout1 = nn.Dropout(0.25)\n",
    "        self.dropout2 = nn.Dropout(0.5)\n",
    "        self.fc1 = nn.Linear(9216, 128)\n",
    "        self.fc2 = nn.Linear(128, 10)\n",
    "\n",
    "    def forward(self, x):\n",
    "        x = self.conv1(x)\n",
    "        x = F.relu(x)\n",
    "        x = self.conv2(x)\n",
    "        x = F.relu(x)\n",
    "        x = F.max_pool2d(x, 2)\n",
    "        x = self.dropout1(x)\n",
    "        x = torch.flatten(x, 1)\n",
    "        x = self.fc1(x)\n",
    "        x = F.relu(x)\n",
    "        x = self.dropout2(x)\n",
    "        x = self.fc2(x)\n",
    "        output = F.log_softmax(x, dim=1)\n",
    "        return output\n",
    "\"\"\"\n",
    "\n",
    "with open('model.py', 'w') as model_py_file:\n",
    "    model_py_file.write(model_py_string)\n",
    "\n",
    "\n",
    "\n",
    "\n",
    "\n",
    "\n"
   ]
  },
  {
   "cell_type": "code",
   "execution_count": 7,
   "id": "853e1568-ec72-4fb0-bf32-9d4b43fc6fcc",
   "metadata": {},
   "outputs": [
    {
     "name": "stdout",
     "output_type": "stream",
     "text": [
      "Train Epoch: 1 [0/60000 (0%)]\tLoss: 2.343955\n",
      "Train Epoch: 1 [640/60000 (1%)]\tLoss: 1.266114\n",
      "Train Epoch: 1 [1280/60000 (2%)]\tLoss: 0.821592\n",
      "Train Epoch: 1 [1920/60000 (3%)]\tLoss: 0.480558\n",
      "Train Epoch: 1 [2560/60000 (4%)]\tLoss: 0.526433\n",
      "Train Epoch: 1 [3200/60000 (5%)]\tLoss: 0.318734\n",
      "Train Epoch: 1 [3840/60000 (6%)]\tLoss: 0.295782\n",
      "Train Epoch: 1 [4480/60000 (7%)]\tLoss: 0.255921\n",
      "Train Epoch: 1 [5120/60000 (9%)]\tLoss: 0.459240\n",
      "Train Epoch: 1 [5760/60000 (10%)]\tLoss: 0.230846\n",
      "Train Epoch: 1 [6400/60000 (11%)]\tLoss: 0.312286\n",
      "Train Epoch: 1 [7040/60000 (12%)]\tLoss: 0.238904\n",
      "Train Epoch: 1 [7680/60000 (13%)]\tLoss: 0.201620\n",
      "Train Epoch: 1 [8320/60000 (14%)]\tLoss: 0.084934\n",
      "Train Epoch: 1 [8960/60000 (15%)]\tLoss: 0.186937\n",
      "Train Epoch: 1 [9600/60000 (16%)]\tLoss: 0.110696\n",
      "Train Epoch: 1 [10240/60000 (17%)]\tLoss: 0.330695\n",
      "Train Epoch: 1 [10880/60000 (18%)]\tLoss: 0.166268\n",
      "Train Epoch: 1 [11520/60000 (19%)]\tLoss: 0.409724\n",
      "Train Epoch: 1 [12160/60000 (20%)]\tLoss: 0.176655\n",
      "Train Epoch: 1 [12800/60000 (21%)]\tLoss: 0.106402\n",
      "Train Epoch: 1 [13440/60000 (22%)]\tLoss: 0.152244\n",
      "Train Epoch: 1 [14080/60000 (23%)]\tLoss: 0.195172\n",
      "Train Epoch: 1 [14720/60000 (25%)]\tLoss: 0.320497\n",
      "Train Epoch: 1 [15360/60000 (26%)]\tLoss: 0.147577\n",
      "Train Epoch: 1 [16000/60000 (27%)]\tLoss: 0.303803\n",
      "Train Epoch: 1 [16640/60000 (28%)]\tLoss: 0.253772\n",
      "Train Epoch: 1 [17280/60000 (29%)]\tLoss: 0.026581\n",
      "Train Epoch: 1 [17920/60000 (30%)]\tLoss: 0.127925\n",
      "Train Epoch: 1 [18560/60000 (31%)]\tLoss: 0.131089\n",
      "Train Epoch: 1 [19200/60000 (32%)]\tLoss: 0.202447\n",
      "Train Epoch: 1 [19840/60000 (33%)]\tLoss: 0.278695\n",
      "Train Epoch: 1 [20480/60000 (34%)]\tLoss: 0.103048\n",
      "Train Epoch: 1 [21120/60000 (35%)]\tLoss: 0.259404\n",
      "Train Epoch: 1 [21760/60000 (36%)]\tLoss: 0.018246\n",
      "Train Epoch: 1 [22400/60000 (37%)]\tLoss: 0.098918\n",
      "Train Epoch: 1 [23040/60000 (38%)]\tLoss: 0.252559\n",
      "Train Epoch: 1 [23680/60000 (39%)]\tLoss: 0.346992\n",
      "Train Epoch: 1 [24320/60000 (41%)]\tLoss: 0.039138\n",
      "Train Epoch: 1 [24960/60000 (42%)]\tLoss: 0.103297\n",
      "Train Epoch: 1 [25600/60000 (43%)]\tLoss: 0.108266\n",
      "Train Epoch: 1 [26240/60000 (44%)]\tLoss: 0.138814\n",
      "Train Epoch: 1 [26880/60000 (45%)]\tLoss: 0.376280\n",
      "Train Epoch: 1 [27520/60000 (46%)]\tLoss: 0.243985\n",
      "Train Epoch: 1 [28160/60000 (47%)]\tLoss: 0.079712\n",
      "Train Epoch: 1 [28800/60000 (48%)]\tLoss: 0.122998\n",
      "Train Epoch: 1 [29440/60000 (49%)]\tLoss: 0.262430\n",
      "Train Epoch: 1 [30080/60000 (50%)]\tLoss: 0.191030\n",
      "Train Epoch: 1 [30720/60000 (51%)]\tLoss: 0.063033\n",
      "Train Epoch: 1 [31360/60000 (52%)]\tLoss: 0.131643\n",
      "Train Epoch: 1 [32000/60000 (53%)]\tLoss: 0.186738\n",
      "Train Epoch: 1 [32640/60000 (54%)]\tLoss: 0.067287\n",
      "Train Epoch: 1 [33280/60000 (55%)]\tLoss: 0.089286\n",
      "Train Epoch: 1 [33920/60000 (57%)]\tLoss: 0.060805\n",
      "Train Epoch: 1 [34560/60000 (58%)]\tLoss: 0.057973\n",
      "Train Epoch: 1 [35200/60000 (59%)]\tLoss: 0.181845\n",
      "Train Epoch: 1 [35840/60000 (60%)]\tLoss: 0.244089\n",
      "Train Epoch: 1 [36480/60000 (61%)]\tLoss: 0.033032\n",
      "Train Epoch: 1 [37120/60000 (62%)]\tLoss: 0.125189\n",
      "Train Epoch: 1 [37760/60000 (63%)]\tLoss: 0.136548\n",
      "Train Epoch: 1 [38400/60000 (64%)]\tLoss: 0.094572\n",
      "Train Epoch: 1 [39040/60000 (65%)]\tLoss: 0.019133\n",
      "Train Epoch: 1 [39680/60000 (66%)]\tLoss: 0.065883\n",
      "Train Epoch: 1 [40320/60000 (67%)]\tLoss: 0.079224\n",
      "Train Epoch: 1 [40960/60000 (68%)]\tLoss: 0.144315\n",
      "Train Epoch: 1 [41600/60000 (69%)]\tLoss: 0.092621\n",
      "Train Epoch: 1 [42240/60000 (70%)]\tLoss: 0.057144\n",
      "Train Epoch: 1 [42880/60000 (71%)]\tLoss: 0.182602\n",
      "Train Epoch: 1 [43520/60000 (72%)]\tLoss: 0.149042\n",
      "Train Epoch: 1 [44160/60000 (74%)]\tLoss: 0.169089\n",
      "Train Epoch: 1 [44800/60000 (75%)]\tLoss: 0.153763\n",
      "Train Epoch: 1 [45440/60000 (76%)]\tLoss: 0.143980\n",
      "Train Epoch: 1 [46080/60000 (77%)]\tLoss: 0.224725\n",
      "Train Epoch: 1 [46720/60000 (78%)]\tLoss: 0.176684\n",
      "Train Epoch: 1 [47360/60000 (79%)]\tLoss: 0.236229\n",
      "Train Epoch: 1 [48000/60000 (80%)]\tLoss: 0.242203\n",
      "Train Epoch: 1 [48640/60000 (81%)]\tLoss: 0.066441\n",
      "Train Epoch: 1 [49280/60000 (82%)]\tLoss: 0.013003\n",
      "Train Epoch: 1 [49920/60000 (83%)]\tLoss: 0.056168\n",
      "Train Epoch: 1 [50560/60000 (84%)]\tLoss: 0.067849\n",
      "Train Epoch: 1 [51200/60000 (85%)]\tLoss: 0.194461\n",
      "Train Epoch: 1 [51840/60000 (86%)]\tLoss: 0.082667\n",
      "Train Epoch: 1 [52480/60000 (87%)]\tLoss: 0.041466\n",
      "Train Epoch: 1 [53120/60000 (88%)]\tLoss: 0.110685\n",
      "Train Epoch: 1 [53760/60000 (90%)]\tLoss: 0.078688\n",
      "Train Epoch: 1 [54400/60000 (91%)]\tLoss: 0.037709\n",
      "Train Epoch: 1 [55040/60000 (92%)]\tLoss: 0.113231\n",
      "Train Epoch: 1 [55680/60000 (93%)]\tLoss: 0.125334\n",
      "Train Epoch: 1 [56320/60000 (94%)]\tLoss: 0.119558\n",
      "Train Epoch: 1 [56960/60000 (95%)]\tLoss: 0.045728\n",
      "Train Epoch: 1 [57600/60000 (96%)]\tLoss: 0.173850\n",
      "Train Epoch: 1 [58240/60000 (97%)]\tLoss: 0.020984\n",
      "Train Epoch: 1 [58880/60000 (98%)]\tLoss: 0.041880\n",
      "Train Epoch: 1 [59520/60000 (99%)]\tLoss: 0.008734\n",
      "\n",
      "Test set: Average loss: 0.0529, Accuracy: 9816/10000 (98%)\n",
      "\n"
     ]
    }
   ],
   "source": [
    "my_model = train_model()\n"
   ]
  },
  {
   "cell_type": "code",
   "execution_count": 8,
   "id": "3c9532c4-8671-43b1-8f86-4aa74dac30dd",
   "metadata": {},
   "outputs": [],
   "source": [
    "\n",
    "# Replace `API_KEY` with your SlasML API token.\n",
    "client = ModelDeployment(api_key=\"68b50f46b97f8c0f98fe419df240a22af3da392f\")\n"
   ]
  },
  {
   "cell_type": "code",
   "execution_count": 9,
   "id": "6a4a387c-f45a-452b-962e-3aecf8ed170b",
   "metadata": {},
   "outputs": [
    {
     "name": "stderr",
     "output_type": "stream",
     "text": [
      "/Users/faizank/workspace/experiments/live_projects/slashml/sdk_tests/venv-3.9.1/lib/python3.9/site-packages/torch/package/package_exporter.py:925: UserWarning: TypedStorage is deprecated. It will be removed in the future and UntypedStorage will be the only storage class. This should only matter to you if you are using storages directly.  To access UntypedStorage directly, use tensor.untyped_storage() instead of tensor.storage()\n",
      "  storage_type_str = obj.pickle_storage_type()\n"
     ]
    }
   ],
   "source": [
    "# deploy model\n",
    "response = client.deploy(model_name='pytorch-model', model=my_model)\n"
   ]
  },
  {
   "cell_type": "code",
   "execution_count": 13,
   "id": "a50ff3ae-bdd9-4924-9b6a-fd60970e6cf5",
   "metadata": {},
   "outputs": [
    {
     "data": {
      "text/plain": [
       "{'id': '9b2ec8cb-729a-417e-a39a-ffab8b14cec0',\n",
       " 'created': '2023-09-19T21:38:44.989348Z',\n",
       " 'status': 'READY',\n",
       " 'name': 'pytorch-model'}"
      ]
     },
     "execution_count": 13,
     "metadata": {},
     "output_type": "execute_result"
    }
   ],
   "source": [
    "client.status(model_version_id=response.id)"
   ]
  },
  {
   "cell_type": "code",
   "execution_count": 14,
   "id": "92fa6f9c-66f1-4f18-bfb7-8b9804db3631",
   "metadata": {},
   "outputs": [
    {
     "name": "stdout",
     "output_type": "stream",
     "text": [
      "model ready\n"
     ]
    }
   ],
   "source": [
    "status = client.status(model_version_id=response.id)\n",
    "\n",
    "while status.status != 'READY':\n",
    "    print(f'status: {status.status}')\n",
    "    print('trying again in 5 seconds')\n",
    "    time.sleep(5)\n",
    "    status = client.status(model_version_id=response.id)\n",
    "\n",
    "    if status.status == 'FAILED':\n",
    "        raise Exception('Model deployment failed')\n",
    "\n",
    "print('model ready')"
   ]
  },
  {
   "cell_type": "code",
   "execution_count": 16,
   "id": "190a6c0d-d629-42ad-83b1-00426232d684",
   "metadata": {},
   "outputs": [],
   "source": [
    "# submit prediction\n",
    "transform = transforms.Compose(\n",
    "        [transforms.ToTensor(), transforms.Normalize((0.1307,), (0.3081,))]\n",
    "    )\n",
    "inputs = datasets.MNIST(\"../data\", train=False, transform=transform)\n",
    "dataset = torch.utils.data.DataLoader(inputs, batch_size=1)\n"
   ]
  },
  {
   "cell_type": "code",
   "execution_count": 19,
   "id": "272b359b-b81e-4775-bfa8-0f094b68d191",
   "metadata": {},
   "outputs": [
    {
     "data": {
      "text/plain": [
       "array([[[[-0.42421296, -0.42421296, -0.42421296, -0.42421296,\n",
       "          -0.42421296, -0.42421296, -0.42421296, -0.42421296,\n",
       "          -0.42421296, -0.42421296, -0.42421296, -0.42421296,\n",
       "          -0.42421296, -0.42421296, -0.42421296, -0.42421296,\n",
       "          -0.42421296, -0.42421296, -0.42421296, -0.42421296,\n",
       "          -0.42421296, -0.42421296, -0.42421296, -0.42421296,\n",
       "          -0.42421296, -0.42421296, -0.42421296, -0.42421296],\n",
       "         [-0.42421296, -0.42421296, -0.42421296, -0.42421296,\n",
       "          -0.42421296, -0.42421296, -0.42421296, -0.42421296,\n",
       "          -0.42421296, -0.42421296, -0.42421296, -0.42421296,\n",
       "          -0.42421296, -0.42421296, -0.42421296, -0.42421296,\n",
       "          -0.42421296, -0.42421296, -0.42421296, -0.42421296,\n",
       "          -0.42421296, -0.42421296, -0.42421296, -0.42421296,\n",
       "          -0.42421296, -0.42421296, -0.42421296, -0.42421296],\n",
       "         [-0.42421296, -0.42421296, -0.42421296, -0.42421296,\n",
       "          -0.42421296, -0.42421296, -0.42421296, -0.42421296,\n",
       "          -0.42421296, -0.42421296, -0.42421296, -0.42421296,\n",
       "          -0.42421296, -0.42421296, -0.42421296, -0.42421296,\n",
       "          -0.42421296, -0.42421296, -0.42421296, -0.42421296,\n",
       "          -0.42421296, -0.42421296, -0.42421296, -0.42421296,\n",
       "          -0.42421296, -0.42421296, -0.42421296, -0.42421296],\n",
       "         [-0.42421296, -0.42421296, -0.42421296, -0.42421296,\n",
       "          -0.42421296, -0.42421296, -0.42421296, -0.42421296,\n",
       "          -0.42421296, -0.42421296, -0.42421296, -0.42421296,\n",
       "          -0.42421296, -0.42421296, -0.42421296, -0.42421296,\n",
       "          -0.42421296, -0.42421296, -0.42421296, -0.42421296,\n",
       "          -0.42421296, -0.42421296, -0.42421296, -0.42421296,\n",
       "          -0.42421296, -0.42421296, -0.42421296, -0.42421296],\n",
       "         [-0.42421296, -0.42421296, -0.42421296, -0.42421296,\n",
       "          -0.42421296, -0.42421296, -0.42421296, -0.42421296,\n",
       "          -0.42421296, -0.42421296, -0.42421296, -0.42421296,\n",
       "          -0.42421296, -0.42421296, -0.42421296, -0.42421296,\n",
       "          -0.42421296, -0.42421296, -0.42421296, -0.42421296,\n",
       "          -0.42421296, -0.42421296, -0.42421296, -0.42421296,\n",
       "          -0.42421296, -0.42421296, -0.42421296, -0.42421296],\n",
       "         [-0.42421296, -0.42421296, -0.42421296, -0.42421296,\n",
       "          -0.42421296, -0.42421296, -0.42421296, -0.42421296,\n",
       "          -0.42421296, -0.42421296, -0.42421296, -0.42421296,\n",
       "          -0.42421296, -0.42421296, -0.42421296, -0.42421296,\n",
       "          -0.42421296, -0.42421296, -0.42421296, -0.42421296,\n",
       "          -0.42421296, -0.42421296, -0.42421296, -0.42421296,\n",
       "          -0.42421296, -0.42421296, -0.42421296, -0.42421296],\n",
       "         [-0.42421296, -0.42421296, -0.42421296, -0.42421296,\n",
       "          -0.42421296, -0.42421296, -0.42421296, -0.42421296,\n",
       "          -0.42421296, -0.42421296, -0.42421296, -0.42421296,\n",
       "          -0.42421296, -0.42421296, -0.42421296, -0.42421296,\n",
       "          -0.42421296, -0.42421296, -0.42421296, -0.42421296,\n",
       "          -0.42421296, -0.42421296, -0.42421296, -0.42421296,\n",
       "          -0.42421296, -0.42421296, -0.42421296, -0.42421296],\n",
       "         [-0.42421296, -0.42421296, -0.42421296, -0.42421296,\n",
       "          -0.42421296, -0.42421296,  0.64495873,  1.9305104 ,\n",
       "           1.5995764 ,  1.4977505 ,  0.33948106,  0.03400347,\n",
       "          -0.42421296, -0.42421296, -0.42421296, -0.42421296,\n",
       "          -0.42421296, -0.42421296, -0.42421296, -0.42421296,\n",
       "          -0.42421296, -0.42421296, -0.42421296, -0.42421296,\n",
       "          -0.42421296, -0.42421296, -0.42421296, -0.42421296],\n",
       "         [-0.42421296, -0.42421296, -0.42421296, -0.42421296,\n",
       "          -0.42421296, -0.42421296,  2.401455  ,  2.8087585 ,\n",
       "           2.8087585 ,  2.8087585 ,  2.8087585 ,  2.6432915 ,\n",
       "           2.0959773 ,  2.0959773 ,  2.0959773 ,  2.0959773 ,\n",
       "           2.0959773 ,  2.0959773 ,  2.0959773 ,  2.0959773 ,\n",
       "           1.7395868 ,  0.23765521, -0.42421296, -0.42421296,\n",
       "          -0.42421296, -0.42421296, -0.42421296, -0.42421296],\n",
       "         [-0.42421296, -0.42421296, -0.42421296, -0.42421296,\n",
       "          -0.42421296, -0.42421296,  0.42857873,  1.0268056 ,\n",
       "           0.49221992,  1.0268056 ,  1.6504892 ,  2.4650962 ,\n",
       "           2.8087585 ,  2.4396398 ,  2.8087585 ,  2.8087585 ,\n",
       "           2.8087585 ,  2.7578456 ,  2.4905527 ,  2.8087585 ,\n",
       "           2.8087585 ,  1.3577399 , -0.42421296, -0.42421296,\n",
       "          -0.42421296, -0.42421296, -0.42421296, -0.42421296],\n",
       "         [-0.42421296, -0.42421296, -0.42421296, -0.42421296,\n",
       "          -0.42421296, -0.42421296, -0.42421296, -0.42421296,\n",
       "          -0.42421296, -0.42421296, -0.42421296, -0.20783298,\n",
       "           0.41585052, -0.2460177 ,  0.42857873,  0.42857873,\n",
       "           0.42857873,  0.32675284, -0.15692005,  2.5796502 ,\n",
       "           2.8087585 ,  0.9249798 , -0.42421296, -0.42421296,\n",
       "          -0.42421296, -0.42421296, -0.42421296, -0.42421296],\n",
       "         [-0.42421296, -0.42421296, -0.42421296, -0.42421296,\n",
       "          -0.42421296, -0.42421296, -0.42421296, -0.42421296,\n",
       "          -0.42421296, -0.42421296, -0.42421296, -0.42421296,\n",
       "          -0.42421296, -0.42421296, -0.42421296, -0.42421296,\n",
       "          -0.42421296, -0.42421296,  0.63223046,  2.7960303 ,\n",
       "           2.235988  , -0.19510475, -0.42421296, -0.42421296,\n",
       "          -0.42421296, -0.42421296, -0.42421296, -0.42421296],\n",
       "         [-0.42421296, -0.42421296, -0.42421296, -0.42421296,\n",
       "          -0.42421296, -0.42421296, -0.42421296, -0.42421296,\n",
       "          -0.42421296, -0.42421296, -0.42421296, -0.42421296,\n",
       "          -0.42421296, -0.42421296, -0.42421296, -0.42421296,\n",
       "          -0.42421296, -0.14419182,  2.5414655 ,  2.8214867 ,\n",
       "           0.63223046, -0.42421296, -0.42421296, -0.42421296,\n",
       "          -0.42421296, -0.42421296, -0.42421296, -0.42421296],\n",
       "         [-0.42421296, -0.42421296, -0.42421296, -0.42421296,\n",
       "          -0.42421296, -0.42421296, -0.42421296, -0.42421296,\n",
       "          -0.42421296, -0.42421296, -0.42421296, -0.42421296,\n",
       "          -0.42421296, -0.42421296, -0.42421296, -0.42421296,\n",
       "          -0.42421296,  1.2177293 ,  2.8087585 ,  2.6051068 ,\n",
       "           0.13582934, -0.42421296, -0.42421296, -0.42421296,\n",
       "          -0.42421296, -0.42421296, -0.42421296, -0.42421296],\n",
       "         [-0.42421296, -0.42421296, -0.42421296, -0.42421296,\n",
       "          -0.42421296, -0.42421296, -0.42421296, -0.42421296,\n",
       "          -0.42421296, -0.42421296, -0.42421296, -0.42421296,\n",
       "          -0.42421296, -0.42421296, -0.42421296, -0.42421296,\n",
       "           0.32675284,  2.7451172 ,  2.8087585 ,  0.36493754,\n",
       "          -0.42421296, -0.42421296, -0.42421296, -0.42421296,\n",
       "          -0.42421296, -0.42421296, -0.42421296, -0.42421296],\n",
       "         [-0.42421296, -0.42421296, -0.42421296, -0.42421296,\n",
       "          -0.42421296, -0.42421296, -0.42421296, -0.42421296,\n",
       "          -0.42421296, -0.42421296, -0.42421296, -0.42421296,\n",
       "          -0.42421296, -0.42421296, -0.42421296, -0.42421296,\n",
       "           1.2686423 ,  2.8087585 ,  1.9559668 , -0.3605718 ,\n",
       "          -0.42421296, -0.42421296, -0.42421296, -0.42421296,\n",
       "          -0.42421296, -0.42421296, -0.42421296, -0.42421296],\n",
       "         [-0.42421296, -0.42421296, -0.42421296, -0.42421296,\n",
       "          -0.42421296, -0.42421296, -0.42421296, -0.42421296,\n",
       "          -0.42421296, -0.42421296, -0.42421296, -0.42421296,\n",
       "          -0.42421296, -0.42421296, -0.42421296, -0.30965886,\n",
       "           2.185075  ,  2.732389  ,  0.3140246 , -0.42421296,\n",
       "          -0.42421296, -0.42421296, -0.42421296, -0.42421296,\n",
       "          -0.42421296, -0.42421296, -0.42421296, -0.42421296],\n",
       "         [-0.42421296, -0.42421296, -0.42421296, -0.42421296,\n",
       "          -0.42421296, -0.42421296, -0.42421296, -0.42421296,\n",
       "          -0.42421296, -0.42421296, -0.42421296, -0.42421296,\n",
       "          -0.42421296, -0.42421296, -0.42421296,  1.1795444 ,\n",
       "           2.8087585 ,  1.8923256 , -0.42421296, -0.42421296,\n",
       "          -0.42421296, -0.42421296, -0.42421296, -0.42421296,\n",
       "          -0.42421296, -0.42421296, -0.42421296, -0.42421296],\n",
       "         [-0.42421296, -0.42421296, -0.42421296, -0.42421296,\n",
       "          -0.42421296, -0.42421296, -0.42421296, -0.42421296,\n",
       "          -0.42421296, -0.42421296, -0.42421296, -0.42421296,\n",
       "          -0.42421296, -0.42421296,  0.5304046 ,  2.7705739 ,\n",
       "           2.6305633 ,  0.30129635, -0.42421296, -0.42421296,\n",
       "          -0.42421296, -0.42421296, -0.42421296, -0.42421296,\n",
       "          -0.42421296, -0.42421296, -0.42421296, -0.42421296],\n",
       "         [-0.42421296, -0.42421296, -0.42421296, -0.42421296,\n",
       "          -0.42421296, -0.42421296, -0.42421296, -0.42421296,\n",
       "          -0.42421296, -0.42421296, -0.42421296, -0.42421296,\n",
       "          -0.42421296, -0.1823765 ,  2.3887267 ,  2.8087585 ,\n",
       "           1.688674  , -0.42421296, -0.42421296, -0.42421296,\n",
       "          -0.42421296, -0.42421296, -0.42421296, -0.42421296,\n",
       "          -0.42421296, -0.42421296, -0.42421296, -0.42421296],\n",
       "         [-0.42421296, -0.42421296, -0.42421296, -0.42421296,\n",
       "          -0.42421296, -0.42421296, -0.42421296, -0.42421296,\n",
       "          -0.42421296, -0.42421296, -0.42421296, -0.42421296,\n",
       "          -0.38602826,  2.1596186 ,  2.8087585 ,  2.3632703 ,\n",
       "           0.02127524, -0.42421296, -0.42421296, -0.42421296,\n",
       "          -0.42421296, -0.42421296, -0.42421296, -0.42421296,\n",
       "          -0.42421296, -0.42421296, -0.42421296, -0.42421296],\n",
       "         [-0.42421296, -0.42421296, -0.42421296, -0.42421296,\n",
       "          -0.42421296, -0.42421296, -0.42421296, -0.42421296,\n",
       "          -0.42421296, -0.42421296, -0.42421296, -0.42421296,\n",
       "           0.05945994,  2.8087585 ,  2.8087585 ,  0.55586106,\n",
       "          -0.42421296, -0.42421296, -0.42421296, -0.42421296,\n",
       "          -0.42421296, -0.42421296, -0.42421296, -0.42421296,\n",
       "          -0.42421296, -0.42421296, -0.42421296, -0.42421296],\n",
       "         [-0.42421296, -0.42421296, -0.42421296, -0.42421296,\n",
       "          -0.42421296, -0.42421296, -0.42421296, -0.42421296,\n",
       "          -0.42421296, -0.42421296, -0.42421296, -0.02963771,\n",
       "           2.4269114 ,  2.8087585 ,  1.0395339 , -0.41148472,\n",
       "          -0.42421296, -0.42421296, -0.42421296, -0.42421296,\n",
       "          -0.42421296, -0.42421296, -0.42421296, -0.42421296,\n",
       "          -0.42421296, -0.42421296, -0.42421296, -0.42421296],\n",
       "         [-0.42421296, -0.42421296, -0.42421296, -0.42421296,\n",
       "          -0.42421296, -0.42421296, -0.42421296, -0.42421296,\n",
       "          -0.42421296, -0.42421296, -0.42421296,  1.2686423 ,\n",
       "           2.8087585 ,  2.8087585 ,  0.23765521, -0.42421296,\n",
       "          -0.42421296, -0.42421296, -0.42421296, -0.42421296,\n",
       "          -0.42421296, -0.42421296, -0.42421296, -0.42421296,\n",
       "          -0.42421296, -0.42421296, -0.42421296, -0.42421296],\n",
       "         [-0.42421296, -0.42421296, -0.42421296, -0.42421296,\n",
       "          -0.42421296, -0.42421296, -0.42421296, -0.42421296,\n",
       "          -0.42421296, -0.42421296,  0.3522093 ,  2.6560197 ,\n",
       "           2.8087585 ,  2.8087585 ,  0.23765521, -0.42421296,\n",
       "          -0.42421296, -0.42421296, -0.42421296, -0.42421296,\n",
       "          -0.42421296, -0.42421296, -0.42421296, -0.42421296,\n",
       "          -0.42421296, -0.42421296, -0.42421296, -0.42421296],\n",
       "         [-0.42421296, -0.42421296, -0.42421296, -0.42421296,\n",
       "          -0.42421296, -0.42421296, -0.42421296, -0.42421296,\n",
       "          -0.42421296, -0.42421296,  1.1159033 ,  2.8087585 ,\n",
       "           2.8087585 ,  2.3632703 ,  0.08491641, -0.42421296,\n",
       "          -0.42421296, -0.42421296, -0.42421296, -0.42421296,\n",
       "          -0.42421296, -0.42421296, -0.42421296, -0.42421296,\n",
       "          -0.42421296, -0.42421296, -0.42421296, -0.42421296],\n",
       "         [-0.42421296, -0.42421296, -0.42421296, -0.42421296,\n",
       "          -0.42421296, -0.42421296, -0.42421296, -0.42421296,\n",
       "          -0.42421296, -0.42421296,  1.1159033 ,  2.8087585 ,\n",
       "           2.2105315 , -0.19510475, -0.42421296, -0.42421296,\n",
       "          -0.42421296, -0.42421296, -0.42421296, -0.42421296,\n",
       "          -0.42421296, -0.42421296, -0.42421296, -0.42421296,\n",
       "          -0.42421296, -0.42421296, -0.42421296, -0.42421296],\n",
       "         [-0.42421296, -0.42421296, -0.42421296, -0.42421296,\n",
       "          -0.42421296, -0.42421296, -0.42421296, -0.42421296,\n",
       "          -0.42421296, -0.42421296, -0.42421296, -0.42421296,\n",
       "          -0.42421296, -0.42421296, -0.42421296, -0.42421296,\n",
       "          -0.42421296, -0.42421296, -0.42421296, -0.42421296,\n",
       "          -0.42421296, -0.42421296, -0.42421296, -0.42421296,\n",
       "          -0.42421296, -0.42421296, -0.42421296, -0.42421296]]]],\n",
       "      dtype=float32)"
      ]
     },
     "execution_count": 19,
     "metadata": {},
     "output_type": "execute_result"
    }
   ],
   "source": [
    "import numpy as np\n",
    "\n",
    "model_input = np.array(next(iter(dataset))[0])\n",
    "\n",
    "model_input"
   ]
  },
  {
   "cell_type": "code",
   "execution_count": 18,
   "id": "9b739b62-a40f-4741-a9f9-4e0dd3288af1",
   "metadata": {},
   "outputs": [
    {
     "ename": "TypeError",
     "evalue": "Object of type ndarray is not JSON serializable",
     "output_type": "error",
     "traceback": [
      "\u001b[0;31m---------------------------------------------------------------------------\u001b[0m",
      "\u001b[0;31mTypeError\u001b[0m                                 Traceback (most recent call last)",
      "Cell \u001b[0;32mIn[18], line 1\u001b[0m\n\u001b[0;32m----> 1\u001b[0m prediction \u001b[38;5;241m=\u001b[39m \u001b[43mclient\u001b[49m\u001b[38;5;241;43m.\u001b[39;49m\u001b[43mpredict\u001b[49m\u001b[43m(\u001b[49m\u001b[43mmodel_version_id\u001b[49m\u001b[38;5;241;43m=\u001b[39;49m\u001b[43mresponse\u001b[49m\u001b[38;5;241;43m.\u001b[39;49m\u001b[43mid\u001b[49m\u001b[43m,\u001b[49m\u001b[43m \u001b[49m\u001b[43mmodel_input\u001b[49m\u001b[38;5;241;43m=\u001b[39;49m\u001b[43mmodel_input\u001b[49m\u001b[43m)\u001b[49m\n\u001b[1;32m      3\u001b[0m \u001b[38;5;28mprint\u001b[39m(prediction)\n",
      "File \u001b[0;32m~/workspace/experiments/live_projects/slashml/sdk_tests/slashml/slashml/model_deployment.py:64\u001b[0m, in \u001b[0;36mModelDeployment.predict\u001b[0;34m(self, model_version_id, model_input)\u001b[0m\n\u001b[1;32m     61\u001b[0m \u001b[38;5;28;01mdef\u001b[39;00m \u001b[38;5;21mpredict\u001b[39m(\u001b[38;5;28mself\u001b[39m, model_version_id: \u001b[38;5;28mstr\u001b[39m, model_input:\u001b[38;5;28mstr\u001b[39m):\n\u001b[1;32m     62\u001b[0m \u001b[38;5;250m    \u001b[39m\u001b[38;5;124;03m\"\"\"Check job status\"\"\"\u001b[39;00m\n\u001b[0;32m---> 64\u001b[0m     payload \u001b[38;5;241m=\u001b[39m \u001b[43mjson\u001b[49m\u001b[38;5;241;43m.\u001b[39;49m\u001b[43mdumps\u001b[49m\u001b[43m(\u001b[49m\u001b[43m{\u001b[49m\n\u001b[1;32m     65\u001b[0m \u001b[43m        \u001b[49m\u001b[38;5;124;43m\"\u001b[39;49m\u001b[38;5;124;43mmodel_input\u001b[39;49m\u001b[38;5;124;43m\"\u001b[39;49m\u001b[43m:\u001b[49m\u001b[43m \u001b[49m\u001b[43mmodel_input\u001b[49m\n\u001b[1;32m     66\u001b[0m \u001b[43m    \u001b[49m\u001b[43m}\u001b[49m\u001b[43m)\u001b[49m\n\u001b[1;32m     68\u001b[0m     url \u001b[38;5;241m=\u001b[39m generateURL(\u001b[38;5;28mself\u001b[39m\u001b[38;5;241m.\u001b[39m_base_url, \u001b[38;5;124m\"\u001b[39m\u001b[38;5;124mmodels\u001b[39m\u001b[38;5;124m\"\u001b[39m, model_version_id, \u001b[38;5;124m\"\u001b[39m\u001b[38;5;124mpredict\u001b[39m\u001b[38;5;124m\"\u001b[39m)\n\u001b[1;32m     69\u001b[0m     \u001b[38;5;28mself\u001b[39m\u001b[38;5;241m.\u001b[39m_headers[\u001b[38;5;124m'\u001b[39m\u001b[38;5;124mContent-Type\u001b[39m\u001b[38;5;124m'\u001b[39m] \u001b[38;5;241m=\u001b[39m \u001b[38;5;124m'\u001b[39m\u001b[38;5;124mapplication/json\u001b[39m\u001b[38;5;124m'\u001b[39m\n",
      "File \u001b[0;32m~/.pyenv/versions/3.9.1/lib/python3.9/json/__init__.py:231\u001b[0m, in \u001b[0;36mdumps\u001b[0;34m(obj, skipkeys, ensure_ascii, check_circular, allow_nan, cls, indent, separators, default, sort_keys, **kw)\u001b[0m\n\u001b[1;32m    226\u001b[0m \u001b[38;5;66;03m# cached encoder\u001b[39;00m\n\u001b[1;32m    227\u001b[0m \u001b[38;5;28;01mif\u001b[39;00m (\u001b[38;5;129;01mnot\u001b[39;00m skipkeys \u001b[38;5;129;01mand\u001b[39;00m ensure_ascii \u001b[38;5;129;01mand\u001b[39;00m\n\u001b[1;32m    228\u001b[0m     check_circular \u001b[38;5;129;01mand\u001b[39;00m allow_nan \u001b[38;5;129;01mand\u001b[39;00m\n\u001b[1;32m    229\u001b[0m     \u001b[38;5;28mcls\u001b[39m \u001b[38;5;129;01mis\u001b[39;00m \u001b[38;5;28;01mNone\u001b[39;00m \u001b[38;5;129;01mand\u001b[39;00m indent \u001b[38;5;129;01mis\u001b[39;00m \u001b[38;5;28;01mNone\u001b[39;00m \u001b[38;5;129;01mand\u001b[39;00m separators \u001b[38;5;129;01mis\u001b[39;00m \u001b[38;5;28;01mNone\u001b[39;00m \u001b[38;5;129;01mand\u001b[39;00m\n\u001b[1;32m    230\u001b[0m     default \u001b[38;5;129;01mis\u001b[39;00m \u001b[38;5;28;01mNone\u001b[39;00m \u001b[38;5;129;01mand\u001b[39;00m \u001b[38;5;129;01mnot\u001b[39;00m sort_keys \u001b[38;5;129;01mand\u001b[39;00m \u001b[38;5;129;01mnot\u001b[39;00m kw):\n\u001b[0;32m--> 231\u001b[0m     \u001b[38;5;28;01mreturn\u001b[39;00m \u001b[43m_default_encoder\u001b[49m\u001b[38;5;241;43m.\u001b[39;49m\u001b[43mencode\u001b[49m\u001b[43m(\u001b[49m\u001b[43mobj\u001b[49m\u001b[43m)\u001b[49m\n\u001b[1;32m    232\u001b[0m \u001b[38;5;28;01mif\u001b[39;00m \u001b[38;5;28mcls\u001b[39m \u001b[38;5;129;01mis\u001b[39;00m \u001b[38;5;28;01mNone\u001b[39;00m:\n\u001b[1;32m    233\u001b[0m     \u001b[38;5;28mcls\u001b[39m \u001b[38;5;241m=\u001b[39m JSONEncoder\n",
      "File \u001b[0;32m~/.pyenv/versions/3.9.1/lib/python3.9/json/encoder.py:199\u001b[0m, in \u001b[0;36mJSONEncoder.encode\u001b[0;34m(self, o)\u001b[0m\n\u001b[1;32m    195\u001b[0m         \u001b[38;5;28;01mreturn\u001b[39;00m encode_basestring(o)\n\u001b[1;32m    196\u001b[0m \u001b[38;5;66;03m# This doesn't pass the iterator directly to ''.join() because the\u001b[39;00m\n\u001b[1;32m    197\u001b[0m \u001b[38;5;66;03m# exceptions aren't as detailed.  The list call should be roughly\u001b[39;00m\n\u001b[1;32m    198\u001b[0m \u001b[38;5;66;03m# equivalent to the PySequence_Fast that ''.join() would do.\u001b[39;00m\n\u001b[0;32m--> 199\u001b[0m chunks \u001b[38;5;241m=\u001b[39m \u001b[38;5;28;43mself\u001b[39;49m\u001b[38;5;241;43m.\u001b[39;49m\u001b[43miterencode\u001b[49m\u001b[43m(\u001b[49m\u001b[43mo\u001b[49m\u001b[43m,\u001b[49m\u001b[43m \u001b[49m\u001b[43m_one_shot\u001b[49m\u001b[38;5;241;43m=\u001b[39;49m\u001b[38;5;28;43;01mTrue\u001b[39;49;00m\u001b[43m)\u001b[49m\n\u001b[1;32m    200\u001b[0m \u001b[38;5;28;01mif\u001b[39;00m \u001b[38;5;129;01mnot\u001b[39;00m \u001b[38;5;28misinstance\u001b[39m(chunks, (\u001b[38;5;28mlist\u001b[39m, \u001b[38;5;28mtuple\u001b[39m)):\n\u001b[1;32m    201\u001b[0m     chunks \u001b[38;5;241m=\u001b[39m \u001b[38;5;28mlist\u001b[39m(chunks)\n",
      "File \u001b[0;32m~/.pyenv/versions/3.9.1/lib/python3.9/json/encoder.py:257\u001b[0m, in \u001b[0;36mJSONEncoder.iterencode\u001b[0;34m(self, o, _one_shot)\u001b[0m\n\u001b[1;32m    252\u001b[0m \u001b[38;5;28;01melse\u001b[39;00m:\n\u001b[1;32m    253\u001b[0m     _iterencode \u001b[38;5;241m=\u001b[39m _make_iterencode(\n\u001b[1;32m    254\u001b[0m         markers, \u001b[38;5;28mself\u001b[39m\u001b[38;5;241m.\u001b[39mdefault, _encoder, \u001b[38;5;28mself\u001b[39m\u001b[38;5;241m.\u001b[39mindent, floatstr,\n\u001b[1;32m    255\u001b[0m         \u001b[38;5;28mself\u001b[39m\u001b[38;5;241m.\u001b[39mkey_separator, \u001b[38;5;28mself\u001b[39m\u001b[38;5;241m.\u001b[39mitem_separator, \u001b[38;5;28mself\u001b[39m\u001b[38;5;241m.\u001b[39msort_keys,\n\u001b[1;32m    256\u001b[0m         \u001b[38;5;28mself\u001b[39m\u001b[38;5;241m.\u001b[39mskipkeys, _one_shot)\n\u001b[0;32m--> 257\u001b[0m \u001b[38;5;28;01mreturn\u001b[39;00m \u001b[43m_iterencode\u001b[49m\u001b[43m(\u001b[49m\u001b[43mo\u001b[49m\u001b[43m,\u001b[49m\u001b[43m \u001b[49m\u001b[38;5;241;43m0\u001b[39;49m\u001b[43m)\u001b[49m\n",
      "File \u001b[0;32m~/.pyenv/versions/3.9.1/lib/python3.9/json/encoder.py:179\u001b[0m, in \u001b[0;36mJSONEncoder.default\u001b[0;34m(self, o)\u001b[0m\n\u001b[1;32m    160\u001b[0m \u001b[38;5;28;01mdef\u001b[39;00m \u001b[38;5;21mdefault\u001b[39m(\u001b[38;5;28mself\u001b[39m, o):\n\u001b[1;32m    161\u001b[0m \u001b[38;5;250m    \u001b[39m\u001b[38;5;124;03m\"\"\"Implement this method in a subclass such that it returns\u001b[39;00m\n\u001b[1;32m    162\u001b[0m \u001b[38;5;124;03m    a serializable object for ``o``, or calls the base implementation\u001b[39;00m\n\u001b[1;32m    163\u001b[0m \u001b[38;5;124;03m    (to raise a ``TypeError``).\u001b[39;00m\n\u001b[0;32m   (...)\u001b[0m\n\u001b[1;32m    177\u001b[0m \n\u001b[1;32m    178\u001b[0m \u001b[38;5;124;03m    \"\"\"\u001b[39;00m\n\u001b[0;32m--> 179\u001b[0m     \u001b[38;5;28;01mraise\u001b[39;00m \u001b[38;5;167;01mTypeError\u001b[39;00m(\u001b[38;5;124mf\u001b[39m\u001b[38;5;124m'\u001b[39m\u001b[38;5;124mObject of type \u001b[39m\u001b[38;5;132;01m{\u001b[39;00mo\u001b[38;5;241m.\u001b[39m\u001b[38;5;18m__class__\u001b[39m\u001b[38;5;241m.\u001b[39m\u001b[38;5;18m__name__\u001b[39m\u001b[38;5;132;01m}\u001b[39;00m\u001b[38;5;124m \u001b[39m\u001b[38;5;124m'\u001b[39m\n\u001b[1;32m    180\u001b[0m                     \u001b[38;5;124mf\u001b[39m\u001b[38;5;124m'\u001b[39m\u001b[38;5;124mis not JSON serializable\u001b[39m\u001b[38;5;124m'\u001b[39m)\n",
      "\u001b[0;31mTypeError\u001b[0m: Object of type ndarray is not JSON serializable"
     ]
    }
   ],
   "source": [
    "prediction = client.predict(model_version_id=response.id, model_input=model_input)\n",
    "\n",
    "print(prediction)"
   ]
  },
  {
   "cell_type": "code",
   "execution_count": 26,
   "id": "1c3a1514-5a08-4634-a4df-fbafc57956a1",
   "metadata": {},
   "outputs": [],
   "source": [
    "from json import JSONEncoder\n",
    "import json\n",
    "\n",
    "class NumpyArrayEncoder(JSONEncoder):\n",
    "    def default(self, obj):\n",
    "        if isinstance(obj, np.ndarray):\n",
    "            return obj.tolist()\n",
    "        return JSONEncoder.default(self, obj)"
   ]
  },
  {
   "cell_type": "code",
   "execution_count": 27,
   "id": "c4e5069a-71f8-4cf9-827c-4c188a1002d4",
   "metadata": {},
   "outputs": [],
   "source": [
    "encodedNumpyData = json.dumps(model_input, cls=NumpyArrayEncoder)  # use dump() to write array into file\n"
   ]
  },
  {
   "cell_type": "code",
   "execution_count": 34,
   "id": "5b38c0cd-5f36-4c20-ba9f-ea476c8f57cf",
   "metadata": {},
   "outputs": [
    {
     "data": {
      "text/plain": [
       "array([[[[-0.42421296, -0.42421296, -0.42421296, -0.42421296,\n",
       "          -0.42421296, -0.42421296, -0.42421296, -0.42421296,\n",
       "          -0.42421296, -0.42421296, -0.42421296, -0.42421296,\n",
       "          -0.42421296, -0.42421296, -0.42421296, -0.42421296,\n",
       "          -0.42421296, -0.42421296, -0.42421296, -0.42421296,\n",
       "          -0.42421296, -0.42421296, -0.42421296, -0.42421296,\n",
       "          -0.42421296, -0.42421296, -0.42421296, -0.42421296],\n",
       "         [-0.42421296, -0.42421296, -0.42421296, -0.42421296,\n",
       "          -0.42421296, -0.42421296, -0.42421296, -0.42421296,\n",
       "          -0.42421296, -0.42421296, -0.42421296, -0.42421296,\n",
       "          -0.42421296, -0.42421296, -0.42421296, -0.42421296,\n",
       "          -0.42421296, -0.42421296, -0.42421296, -0.42421296,\n",
       "          -0.42421296, -0.42421296, -0.42421296, -0.42421296,\n",
       "          -0.42421296, -0.42421296, -0.42421296, -0.42421296],\n",
       "         [-0.42421296, -0.42421296, -0.42421296, -0.42421296,\n",
       "          -0.42421296, -0.42421296, -0.42421296, -0.42421296,\n",
       "          -0.42421296, -0.42421296, -0.42421296, -0.42421296,\n",
       "          -0.42421296, -0.42421296, -0.42421296, -0.42421296,\n",
       "          -0.42421296, -0.42421296, -0.42421296, -0.42421296,\n",
       "          -0.42421296, -0.42421296, -0.42421296, -0.42421296,\n",
       "          -0.42421296, -0.42421296, -0.42421296, -0.42421296],\n",
       "         [-0.42421296, -0.42421296, -0.42421296, -0.42421296,\n",
       "          -0.42421296, -0.42421296, -0.42421296, -0.42421296,\n",
       "          -0.42421296, -0.42421296, -0.42421296, -0.42421296,\n",
       "          -0.42421296, -0.42421296, -0.42421296, -0.42421296,\n",
       "          -0.42421296, -0.42421296, -0.42421296, -0.42421296,\n",
       "          -0.42421296, -0.42421296, -0.42421296, -0.42421296,\n",
       "          -0.42421296, -0.42421296, -0.42421296, -0.42421296],\n",
       "         [-0.42421296, -0.42421296, -0.42421296, -0.42421296,\n",
       "          -0.42421296, -0.42421296, -0.42421296, -0.42421296,\n",
       "          -0.42421296, -0.42421296, -0.42421296, -0.42421296,\n",
       "          -0.42421296, -0.42421296, -0.42421296, -0.42421296,\n",
       "          -0.42421296, -0.42421296, -0.42421296, -0.42421296,\n",
       "          -0.42421296, -0.42421296, -0.42421296, -0.42421296,\n",
       "          -0.42421296, -0.42421296, -0.42421296, -0.42421296],\n",
       "         [-0.42421296, -0.42421296, -0.42421296, -0.42421296,\n",
       "          -0.42421296, -0.42421296, -0.42421296, -0.42421296,\n",
       "          -0.42421296, -0.42421296, -0.42421296, -0.42421296,\n",
       "          -0.42421296, -0.42421296, -0.42421296, -0.42421296,\n",
       "          -0.42421296, -0.42421296, -0.42421296, -0.42421296,\n",
       "          -0.42421296, -0.42421296, -0.42421296, -0.42421296,\n",
       "          -0.42421296, -0.42421296, -0.42421296, -0.42421296],\n",
       "         [-0.42421296, -0.42421296, -0.42421296, -0.42421296,\n",
       "          -0.42421296, -0.42421296, -0.42421296, -0.42421296,\n",
       "          -0.42421296, -0.42421296, -0.42421296, -0.42421296,\n",
       "          -0.42421296, -0.42421296, -0.42421296, -0.42421296,\n",
       "          -0.42421296, -0.42421296, -0.42421296, -0.42421296,\n",
       "          -0.42421296, -0.42421296, -0.42421296, -0.42421296,\n",
       "          -0.42421296, -0.42421296, -0.42421296, -0.42421296],\n",
       "         [-0.42421296, -0.42421296, -0.42421296, -0.42421296,\n",
       "          -0.42421296, -0.42421296,  0.64495873,  1.9305104 ,\n",
       "           1.5995764 ,  1.4977505 ,  0.33948106,  0.03400347,\n",
       "          -0.42421296, -0.42421296, -0.42421296, -0.42421296,\n",
       "          -0.42421296, -0.42421296, -0.42421296, -0.42421296,\n",
       "          -0.42421296, -0.42421296, -0.42421296, -0.42421296,\n",
       "          -0.42421296, -0.42421296, -0.42421296, -0.42421296],\n",
       "         [-0.42421296, -0.42421296, -0.42421296, -0.42421296,\n",
       "          -0.42421296, -0.42421296,  2.401455  ,  2.8087585 ,\n",
       "           2.8087585 ,  2.8087585 ,  2.8087585 ,  2.6432915 ,\n",
       "           2.0959773 ,  2.0959773 ,  2.0959773 ,  2.0959773 ,\n",
       "           2.0959773 ,  2.0959773 ,  2.0959773 ,  2.0959773 ,\n",
       "           1.7395868 ,  0.23765521, -0.42421296, -0.42421296,\n",
       "          -0.42421296, -0.42421296, -0.42421296, -0.42421296],\n",
       "         [-0.42421296, -0.42421296, -0.42421296, -0.42421296,\n",
       "          -0.42421296, -0.42421296,  0.42857873,  1.0268056 ,\n",
       "           0.49221992,  1.0268056 ,  1.6504892 ,  2.4650962 ,\n",
       "           2.8087585 ,  2.4396398 ,  2.8087585 ,  2.8087585 ,\n",
       "           2.8087585 ,  2.7578456 ,  2.4905527 ,  2.8087585 ,\n",
       "           2.8087585 ,  1.3577399 , -0.42421296, -0.42421296,\n",
       "          -0.42421296, -0.42421296, -0.42421296, -0.42421296],\n",
       "         [-0.42421296, -0.42421296, -0.42421296, -0.42421296,\n",
       "          -0.42421296, -0.42421296, -0.42421296, -0.42421296,\n",
       "          -0.42421296, -0.42421296, -0.42421296, -0.20783298,\n",
       "           0.41585052, -0.2460177 ,  0.42857873,  0.42857873,\n",
       "           0.42857873,  0.32675284, -0.15692005,  2.5796502 ,\n",
       "           2.8087585 ,  0.9249798 , -0.42421296, -0.42421296,\n",
       "          -0.42421296, -0.42421296, -0.42421296, -0.42421296],\n",
       "         [-0.42421296, -0.42421296, -0.42421296, -0.42421296,\n",
       "          -0.42421296, -0.42421296, -0.42421296, -0.42421296,\n",
       "          -0.42421296, -0.42421296, -0.42421296, -0.42421296,\n",
       "          -0.42421296, -0.42421296, -0.42421296, -0.42421296,\n",
       "          -0.42421296, -0.42421296,  0.63223046,  2.7960303 ,\n",
       "           2.235988  , -0.19510475, -0.42421296, -0.42421296,\n",
       "          -0.42421296, -0.42421296, -0.42421296, -0.42421296],\n",
       "         [-0.42421296, -0.42421296, -0.42421296, -0.42421296,\n",
       "          -0.42421296, -0.42421296, -0.42421296, -0.42421296,\n",
       "          -0.42421296, -0.42421296, -0.42421296, -0.42421296,\n",
       "          -0.42421296, -0.42421296, -0.42421296, -0.42421296,\n",
       "          -0.42421296, -0.14419182,  2.5414655 ,  2.8214867 ,\n",
       "           0.63223046, -0.42421296, -0.42421296, -0.42421296,\n",
       "          -0.42421296, -0.42421296, -0.42421296, -0.42421296],\n",
       "         [-0.42421296, -0.42421296, -0.42421296, -0.42421296,\n",
       "          -0.42421296, -0.42421296, -0.42421296, -0.42421296,\n",
       "          -0.42421296, -0.42421296, -0.42421296, -0.42421296,\n",
       "          -0.42421296, -0.42421296, -0.42421296, -0.42421296,\n",
       "          -0.42421296,  1.2177293 ,  2.8087585 ,  2.6051068 ,\n",
       "           0.13582934, -0.42421296, -0.42421296, -0.42421296,\n",
       "          -0.42421296, -0.42421296, -0.42421296, -0.42421296],\n",
       "         [-0.42421296, -0.42421296, -0.42421296, -0.42421296,\n",
       "          -0.42421296, -0.42421296, -0.42421296, -0.42421296,\n",
       "          -0.42421296, -0.42421296, -0.42421296, -0.42421296,\n",
       "          -0.42421296, -0.42421296, -0.42421296, -0.42421296,\n",
       "           0.32675284,  2.7451172 ,  2.8087585 ,  0.36493754,\n",
       "          -0.42421296, -0.42421296, -0.42421296, -0.42421296,\n",
       "          -0.42421296, -0.42421296, -0.42421296, -0.42421296],\n",
       "         [-0.42421296, -0.42421296, -0.42421296, -0.42421296,\n",
       "          -0.42421296, -0.42421296, -0.42421296, -0.42421296,\n",
       "          -0.42421296, -0.42421296, -0.42421296, -0.42421296,\n",
       "          -0.42421296, -0.42421296, -0.42421296, -0.42421296,\n",
       "           1.2686423 ,  2.8087585 ,  1.9559668 , -0.3605718 ,\n",
       "          -0.42421296, -0.42421296, -0.42421296, -0.42421296,\n",
       "          -0.42421296, -0.42421296, -0.42421296, -0.42421296],\n",
       "         [-0.42421296, -0.42421296, -0.42421296, -0.42421296,\n",
       "          -0.42421296, -0.42421296, -0.42421296, -0.42421296,\n",
       "          -0.42421296, -0.42421296, -0.42421296, -0.42421296,\n",
       "          -0.42421296, -0.42421296, -0.42421296, -0.30965886,\n",
       "           2.185075  ,  2.732389  ,  0.3140246 , -0.42421296,\n",
       "          -0.42421296, -0.42421296, -0.42421296, -0.42421296,\n",
       "          -0.42421296, -0.42421296, -0.42421296, -0.42421296],\n",
       "         [-0.42421296, -0.42421296, -0.42421296, -0.42421296,\n",
       "          -0.42421296, -0.42421296, -0.42421296, -0.42421296,\n",
       "          -0.42421296, -0.42421296, -0.42421296, -0.42421296,\n",
       "          -0.42421296, -0.42421296, -0.42421296,  1.1795444 ,\n",
       "           2.8087585 ,  1.8923256 , -0.42421296, -0.42421296,\n",
       "          -0.42421296, -0.42421296, -0.42421296, -0.42421296,\n",
       "          -0.42421296, -0.42421296, -0.42421296, -0.42421296],\n",
       "         [-0.42421296, -0.42421296, -0.42421296, -0.42421296,\n",
       "          -0.42421296, -0.42421296, -0.42421296, -0.42421296,\n",
       "          -0.42421296, -0.42421296, -0.42421296, -0.42421296,\n",
       "          -0.42421296, -0.42421296,  0.5304046 ,  2.7705739 ,\n",
       "           2.6305633 ,  0.30129635, -0.42421296, -0.42421296,\n",
       "          -0.42421296, -0.42421296, -0.42421296, -0.42421296,\n",
       "          -0.42421296, -0.42421296, -0.42421296, -0.42421296],\n",
       "         [-0.42421296, -0.42421296, -0.42421296, -0.42421296,\n",
       "          -0.42421296, -0.42421296, -0.42421296, -0.42421296,\n",
       "          -0.42421296, -0.42421296, -0.42421296, -0.42421296,\n",
       "          -0.42421296, -0.1823765 ,  2.3887267 ,  2.8087585 ,\n",
       "           1.688674  , -0.42421296, -0.42421296, -0.42421296,\n",
       "          -0.42421296, -0.42421296, -0.42421296, -0.42421296,\n",
       "          -0.42421296, -0.42421296, -0.42421296, -0.42421296],\n",
       "         [-0.42421296, -0.42421296, -0.42421296, -0.42421296,\n",
       "          -0.42421296, -0.42421296, -0.42421296, -0.42421296,\n",
       "          -0.42421296, -0.42421296, -0.42421296, -0.42421296,\n",
       "          -0.38602826,  2.1596186 ,  2.8087585 ,  2.3632703 ,\n",
       "           0.02127524, -0.42421296, -0.42421296, -0.42421296,\n",
       "          -0.42421296, -0.42421296, -0.42421296, -0.42421296,\n",
       "          -0.42421296, -0.42421296, -0.42421296, -0.42421296],\n",
       "         [-0.42421296, -0.42421296, -0.42421296, -0.42421296,\n",
       "          -0.42421296, -0.42421296, -0.42421296, -0.42421296,\n",
       "          -0.42421296, -0.42421296, -0.42421296, -0.42421296,\n",
       "           0.05945994,  2.8087585 ,  2.8087585 ,  0.55586106,\n",
       "          -0.42421296, -0.42421296, -0.42421296, -0.42421296,\n",
       "          -0.42421296, -0.42421296, -0.42421296, -0.42421296,\n",
       "          -0.42421296, -0.42421296, -0.42421296, -0.42421296],\n",
       "         [-0.42421296, -0.42421296, -0.42421296, -0.42421296,\n",
       "          -0.42421296, -0.42421296, -0.42421296, -0.42421296,\n",
       "          -0.42421296, -0.42421296, -0.42421296, -0.02963771,\n",
       "           2.4269114 ,  2.8087585 ,  1.0395339 , -0.41148472,\n",
       "          -0.42421296, -0.42421296, -0.42421296, -0.42421296,\n",
       "          -0.42421296, -0.42421296, -0.42421296, -0.42421296,\n",
       "          -0.42421296, -0.42421296, -0.42421296, -0.42421296],\n",
       "         [-0.42421296, -0.42421296, -0.42421296, -0.42421296,\n",
       "          -0.42421296, -0.42421296, -0.42421296, -0.42421296,\n",
       "          -0.42421296, -0.42421296, -0.42421296,  1.2686423 ,\n",
       "           2.8087585 ,  2.8087585 ,  0.23765521, -0.42421296,\n",
       "          -0.42421296, -0.42421296, -0.42421296, -0.42421296,\n",
       "          -0.42421296, -0.42421296, -0.42421296, -0.42421296,\n",
       "          -0.42421296, -0.42421296, -0.42421296, -0.42421296],\n",
       "         [-0.42421296, -0.42421296, -0.42421296, -0.42421296,\n",
       "          -0.42421296, -0.42421296, -0.42421296, -0.42421296,\n",
       "          -0.42421296, -0.42421296,  0.3522093 ,  2.6560197 ,\n",
       "           2.8087585 ,  2.8087585 ,  0.23765521, -0.42421296,\n",
       "          -0.42421296, -0.42421296, -0.42421296, -0.42421296,\n",
       "          -0.42421296, -0.42421296, -0.42421296, -0.42421296,\n",
       "          -0.42421296, -0.42421296, -0.42421296, -0.42421296],\n",
       "         [-0.42421296, -0.42421296, -0.42421296, -0.42421296,\n",
       "          -0.42421296, -0.42421296, -0.42421296, -0.42421296,\n",
       "          -0.42421296, -0.42421296,  1.1159033 ,  2.8087585 ,\n",
       "           2.8087585 ,  2.3632703 ,  0.08491641, -0.42421296,\n",
       "          -0.42421296, -0.42421296, -0.42421296, -0.42421296,\n",
       "          -0.42421296, -0.42421296, -0.42421296, -0.42421296,\n",
       "          -0.42421296, -0.42421296, -0.42421296, -0.42421296],\n",
       "         [-0.42421296, -0.42421296, -0.42421296, -0.42421296,\n",
       "          -0.42421296, -0.42421296, -0.42421296, -0.42421296,\n",
       "          -0.42421296, -0.42421296,  1.1159033 ,  2.8087585 ,\n",
       "           2.2105315 , -0.19510475, -0.42421296, -0.42421296,\n",
       "          -0.42421296, -0.42421296, -0.42421296, -0.42421296,\n",
       "          -0.42421296, -0.42421296, -0.42421296, -0.42421296,\n",
       "          -0.42421296, -0.42421296, -0.42421296, -0.42421296],\n",
       "         [-0.42421296, -0.42421296, -0.42421296, -0.42421296,\n",
       "          -0.42421296, -0.42421296, -0.42421296, -0.42421296,\n",
       "          -0.42421296, -0.42421296, -0.42421296, -0.42421296,\n",
       "          -0.42421296, -0.42421296, -0.42421296, -0.42421296,\n",
       "          -0.42421296, -0.42421296, -0.42421296, -0.42421296,\n",
       "          -0.42421296, -0.42421296, -0.42421296, -0.42421296,\n",
       "          -0.42421296, -0.42421296, -0.42421296, -0.42421296]]]],\n",
       "      dtype=float32)"
      ]
     },
     "execution_count": 34,
     "metadata": {},
     "output_type": "execute_result"
    }
   ],
   "source": [
    "model_input"
   ]
  },
  {
   "cell_type": "code",
   "execution_count": 33,
   "id": "95353bbf-b0bc-468c-af65-e03429ee4f38",
   "metadata": {},
   "outputs": [
    {
     "name": "stdout",
     "output_type": "stream",
     "text": [
      "{'predictions': [[-19.536849975585938, -19.36157989501953, -15.855398178100586, -18.154205322265625, -20.801715850830078, -23.747478485107422, -28.796581268310547, -2.3841855067985307e-07, -20.899829864501953, -16.10333824157715]]}\n"
     ]
    }
   ],
   "source": [
    "prediction = client.predict(model_version_id=response.id, model_input=model_input.tolist())\n",
    "\n",
    "print(prediction['model_response'])"
   ]
  },
  {
   "cell_type": "code",
   "execution_count": 31,
   "id": "9937d4fd-049a-45ab-bde2-28344383e844",
   "metadata": {},
   "outputs": [
    {
     "ename": "TypeError",
     "evalue": "Object of type ndarray is not JSON serializable",
     "output_type": "error",
     "traceback": [
      "\u001b[0;31m---------------------------------------------------------------------------\u001b[0m",
      "\u001b[0;31mTypeError\u001b[0m                                 Traceback (most recent call last)",
      "Cell \u001b[0;32mIn[31], line 3\u001b[0m\n\u001b[1;32m      1\u001b[0m \u001b[38;5;28;01mimport\u001b[39;00m \u001b[38;5;21;01mbaseten\u001b[39;00m\n\u001b[1;32m      2\u001b[0m model \u001b[38;5;241m=\u001b[39m baseten\u001b[38;5;241m.\u001b[39mdeployed_model_id(\u001b[38;5;124m'\u001b[39m\u001b[38;5;124ma0z3GaP\u001b[39m\u001b[38;5;124m'\u001b[39m)\n\u001b[0;32m----> 3\u001b[0m \u001b[43mmodel\u001b[49m\u001b[38;5;241;43m.\u001b[39;49m\u001b[43mpredict\u001b[49m\u001b[43m(\u001b[49m\u001b[43mmodel_input\u001b[49m\u001b[43m)\u001b[49m\n",
      "File \u001b[0;32m~/workspace/experiments/live_projects/slashml/sdk_tests/venv-3.9.1/lib/python3.9/site-packages/baseten/common/core.py:91\u001b[0m, in \u001b[0;36mraises_api_error.<locals>.wrapper\u001b[0;34m(*args, **kwargs)\u001b[0m\n\u001b[1;32m     88\u001b[0m \u001b[38;5;129m@functools\u001b[39m\u001b[38;5;241m.\u001b[39mwraps(func)\n\u001b[1;32m     89\u001b[0m \u001b[38;5;28;01mdef\u001b[39;00m \u001b[38;5;21mwrapper\u001b[39m(\u001b[38;5;241m*\u001b[39margs, \u001b[38;5;241m*\u001b[39m\u001b[38;5;241m*\u001b[39mkwargs):\n\u001b[1;32m     90\u001b[0m     \u001b[38;5;28;01mtry\u001b[39;00m:\n\u001b[0;32m---> 91\u001b[0m         \u001b[38;5;28;01mreturn\u001b[39;00m \u001b[43mfunc\u001b[49m\u001b[43m(\u001b[49m\u001b[38;5;241;43m*\u001b[39;49m\u001b[43margs\u001b[49m\u001b[43m,\u001b[49m\u001b[43m \u001b[49m\u001b[38;5;241;43m*\u001b[39;49m\u001b[38;5;241;43m*\u001b[39;49m\u001b[43mkwargs\u001b[49m\u001b[43m)\u001b[49m\n\u001b[1;32m     92\u001b[0m     \u001b[38;5;28;01mexcept\u001b[39;00m RequestException \u001b[38;5;28;01mas\u001b[39;00m err:\n\u001b[1;32m     93\u001b[0m         \u001b[38;5;28;01mraise\u001b[39;00m ApiError(\u001b[38;5;124mf\u001b[39m\u001b[38;5;124m\"\u001b[39m\u001b[38;5;124mError calling \u001b[39m\u001b[38;5;132;01m{\u001b[39;00mfunc\u001b[38;5;241m.\u001b[39m\u001b[38;5;18m__name__\u001b[39m\u001b[38;5;132;01m}\u001b[39;00m\u001b[38;5;124m.\u001b[39m\u001b[38;5;124m\"\u001b[39m, response\u001b[38;5;241m=\u001b[39merr\u001b[38;5;241m.\u001b[39mresponse) \u001b[38;5;28;01mfrom\u001b[39;00m \u001b[38;5;21;01merr\u001b[39;00m\n",
      "File \u001b[0;32m~/workspace/experiments/live_projects/slashml/sdk_tests/venv-3.9.1/lib/python3.9/site-packages/baseten/common/error_handler.py:43\u001b[0m, in \u001b[0;36merror_handling.<locals>.inner.<locals>.wrapper\u001b[0;34m(*args, **kwargs)\u001b[0m\n\u001b[1;32m     40\u001b[0m \u001b[38;5;129m@functools\u001b[39m\u001b[38;5;241m.\u001b[39mwraps(func)\n\u001b[1;32m     41\u001b[0m \u001b[38;5;28;01mdef\u001b[39;00m \u001b[38;5;21mwrapper\u001b[39m(\u001b[38;5;241m*\u001b[39margs, \u001b[38;5;241m*\u001b[39m\u001b[38;5;241m*\u001b[39mkwargs):\n\u001b[1;32m     42\u001b[0m     \u001b[38;5;28;01mwith\u001b[39;00m error_handling_context(error_prefix):\n\u001b[0;32m---> 43\u001b[0m         \u001b[38;5;28;01mreturn\u001b[39;00m \u001b[43mfunc\u001b[49m\u001b[43m(\u001b[49m\u001b[38;5;241;43m*\u001b[39;49m\u001b[43margs\u001b[49m\u001b[43m,\u001b[49m\u001b[43m \u001b[49m\u001b[38;5;241;43m*\u001b[39;49m\u001b[38;5;241;43m*\u001b[39;49m\u001b[43mkwargs\u001b[49m\u001b[43m)\u001b[49m\n",
      "File \u001b[0;32m~/workspace/experiments/live_projects/slashml/sdk_tests/venv-3.9.1/lib/python3.9/site-packages/baseten/baseten_deployed_model.py:179\u001b[0m, in \u001b[0;36mBasetenDeployedModel.predict\u001b[0;34m(self, inputs)\u001b[0m\n\u001b[1;32m    177\u001b[0m \u001b[38;5;28;01mif\u001b[39;00m \u001b[38;5;28mself\u001b[39m\u001b[38;5;241m.\u001b[39m_model_version_id:\n\u001b[1;32m    178\u001b[0m     \u001b[38;5;28;01mreturn\u001b[39;00m api\u001b[38;5;241m.\u001b[39mpredict_for_model_version(\u001b[38;5;28mself\u001b[39m\u001b[38;5;241m.\u001b[39m_model_version_id, inputs)\n\u001b[0;32m--> 179\u001b[0m \u001b[38;5;28;01mreturn\u001b[39;00m \u001b[43mapi\u001b[49m\u001b[38;5;241;43m.\u001b[39;49m\u001b[43mpredict_for_model\u001b[49m\u001b[43m(\u001b[49m\u001b[38;5;28;43mself\u001b[39;49m\u001b[38;5;241;43m.\u001b[39;49m\u001b[43m_model_id\u001b[49m\u001b[43m,\u001b[49m\u001b[43m \u001b[49m\u001b[43minputs\u001b[49m\u001b[43m)\u001b[49m\n",
      "File \u001b[0;32m~/workspace/experiments/live_projects/slashml/sdk_tests/venv-3.9.1/lib/python3.9/site-packages/baseten/common/api.py:70\u001b[0m, in \u001b[0;36mwith_api_key_or_jwt.<locals>.wrapper\u001b[0;34m(*args, **kwargs)\u001b[0m\n\u001b[1;32m     67\u001b[0m config \u001b[38;5;241m=\u001b[39m settings\u001b[38;5;241m.\u001b[39mread_config()\n\u001b[1;32m     69\u001b[0m \u001b[38;5;28;01mif\u001b[39;00m config\u001b[38;5;241m.\u001b[39mhas_option(\u001b[38;5;124m\"\u001b[39m\u001b[38;5;124mapi\u001b[39m\u001b[38;5;124m\"\u001b[39m, \u001b[38;5;124m\"\u001b[39m\u001b[38;5;124mapi_key\u001b[39m\u001b[38;5;124m\"\u001b[39m):\n\u001b[0;32m---> 70\u001b[0m     result \u001b[38;5;241m=\u001b[39m \u001b[43mfunc\u001b[49m\u001b[43m(\u001b[49m\u001b[43mApiKey\u001b[49m\u001b[43m(\u001b[49m\u001b[43mconfig\u001b[49m\u001b[38;5;241;43m.\u001b[39;49m\u001b[43mget\u001b[49m\u001b[43m(\u001b[49m\u001b[38;5;124;43m\"\u001b[39;49m\u001b[38;5;124;43mapi\u001b[39;49m\u001b[38;5;124;43m\"\u001b[39;49m\u001b[43m,\u001b[49m\u001b[43m \u001b[49m\u001b[38;5;124;43m\"\u001b[39;49m\u001b[38;5;124;43mapi_key\u001b[39;49m\u001b[38;5;124;43m\"\u001b[39;49m\u001b[43m)\u001b[49m\u001b[43m)\u001b[49m\u001b[43m,\u001b[49m\u001b[43m \u001b[49m\u001b[38;5;241;43m*\u001b[39;49m\u001b[43margs\u001b[49m\u001b[43m,\u001b[49m\u001b[43m \u001b[49m\u001b[38;5;241;43m*\u001b[39;49m\u001b[38;5;241;43m*\u001b[39;49m\u001b[43mkwargs\u001b[49m\u001b[43m)\u001b[49m\n\u001b[1;32m     71\u001b[0m     \u001b[38;5;28;01mreturn\u001b[39;00m result\n\u001b[1;32m     72\u001b[0m \u001b[38;5;28;01melif\u001b[39;00m settings\u001b[38;5;241m.\u001b[39mget_jwt_auth_token():\n",
      "File \u001b[0;32m~/workspace/experiments/live_projects/slashml/sdk_tests/venv-3.9.1/lib/python3.9/site-packages/baseten/common/api.py:537\u001b[0m, in \u001b[0;36mpredict_for_model\u001b[0;34m(auth_token, model_id, inputs)\u001b[0m\n\u001b[1;32m    534\u001b[0m \u001b[38;5;28;01melif\u001b[39;00m \u001b[38;5;28misinstance\u001b[39m(auth_token, JWT):\n\u001b[1;32m    535\u001b[0m     predict_url \u001b[38;5;241m=\u001b[39m \u001b[38;5;124mf\u001b[39m\u001b[38;5;124m\"\u001b[39m\u001b[38;5;132;01m{\u001b[39;00msettings\u001b[38;5;241m.\u001b[39mget_server_url()\u001b[38;5;132;01m}\u001b[39;00m\u001b[38;5;124m/models/\u001b[39m\u001b[38;5;132;01m{\u001b[39;00mmodel_id\u001b[38;5;132;01m}\u001b[39;00m\u001b[38;5;124m/predict_internal\u001b[39m\u001b[38;5;124m\"\u001b[39m\n\u001b[0;32m--> 537\u001b[0m \u001b[38;5;28;01mreturn\u001b[39;00m \u001b[43m_predict\u001b[49m\u001b[43m(\u001b[49m\u001b[43mauth_token\u001b[49m\u001b[43m,\u001b[49m\u001b[43m \u001b[49m\u001b[43mpredict_url\u001b[49m\u001b[43m,\u001b[49m\u001b[43m \u001b[49m\u001b[43minputs\u001b[49m\u001b[43m)\u001b[49m\n",
      "File \u001b[0;32m~/workspace/experiments/live_projects/slashml/sdk_tests/venv-3.9.1/lib/python3.9/site-packages/baseten/common/api.py:664\u001b[0m, in \u001b[0;36m_predict\u001b[0;34m(auth_token, predict_url, inputs)\u001b[0m\n\u001b[1;32m    659\u001b[0m \u001b[38;5;28;01mdef\u001b[39;00m \u001b[38;5;21m_predict\u001b[39m(\n\u001b[1;32m    660\u001b[0m     auth_token: AuthToken,\n\u001b[1;32m    661\u001b[0m     predict_url: \u001b[38;5;28mstr\u001b[39m,\n\u001b[1;32m    662\u001b[0m     inputs: Union[List, Dict],\n\u001b[1;32m    663\u001b[0m ):\n\u001b[0;32m--> 664\u001b[0m     resp \u001b[38;5;241m=\u001b[39m \u001b[43m_post_rest_query\u001b[49m\u001b[43m(\u001b[49m\u001b[43mauth_token\u001b[49m\u001b[43m,\u001b[49m\u001b[43m \u001b[49m\u001b[43mpredict_url\u001b[49m\u001b[43m,\u001b[49m\u001b[43m \u001b[49m\u001b[43minputs\u001b[49m\u001b[43m,\u001b[49m\u001b[43m \u001b[49m\u001b[43mstream\u001b[49m\u001b[38;5;241;43m=\u001b[39;49m\u001b[38;5;28;43;01mTrue\u001b[39;49;00m\u001b[43m)\u001b[49m\n\u001b[1;32m    666\u001b[0m     \u001b[38;5;28;01mif\u001b[39;00m resp\u001b[38;5;241m.\u001b[39mheaders\u001b[38;5;241m.\u001b[39mget(\u001b[38;5;124m\"\u001b[39m\u001b[38;5;124mtransfer-encoding\u001b[39m\u001b[38;5;124m\"\u001b[39m) \u001b[38;5;241m==\u001b[39m \u001b[38;5;124m\"\u001b[39m\u001b[38;5;124mchunked\u001b[39m\u001b[38;5;124m\"\u001b[39m:\n\u001b[1;32m    667\u001b[0m         \u001b[38;5;66;03m# Case of streaming response\u001b[39;00m\n\u001b[1;32m    668\u001b[0m         \u001b[38;5;28;01mreturn\u001b[39;00m resp\u001b[38;5;241m.\u001b[39mraw\u001b[38;5;241m.\u001b[39mstream()\n",
      "File \u001b[0;32m~/workspace/experiments/live_projects/slashml/sdk_tests/venv-3.9.1/lib/python3.9/site-packages/baseten/common/api.py:695\u001b[0m, in \u001b[0;36m_post_rest_query\u001b[0;34m(auth_token, url, post_body_dict, **request_options)\u001b[0m\n\u001b[1;32m    690\u001b[0m \u001b[38;5;28;01mdef\u001b[39;00m \u001b[38;5;21m_post_rest_query\u001b[39m(\n\u001b[1;32m    691\u001b[0m     auth_token: AuthToken, url: \u001b[38;5;28mstr\u001b[39m, post_body_dict: Union[List, Dict], \u001b[38;5;241m*\u001b[39m\u001b[38;5;241m*\u001b[39mrequest_options\n\u001b[1;32m    692\u001b[0m ):\n\u001b[1;32m    693\u001b[0m     headers \u001b[38;5;241m=\u001b[39m auth_token\u001b[38;5;241m.\u001b[39mheaders()\n\u001b[0;32m--> 695\u001b[0m     resp \u001b[38;5;241m=\u001b[39m \u001b[43mrequests\u001b[49m\u001b[38;5;241;43m.\u001b[39;49m\u001b[43mpost\u001b[49m\u001b[43m(\u001b[49m\u001b[43murl\u001b[49m\u001b[43m,\u001b[49m\u001b[43m \u001b[49m\u001b[43mjson\u001b[49m\u001b[38;5;241;43m=\u001b[39;49m\u001b[43mpost_body_dict\u001b[49m\u001b[43m,\u001b[49m\u001b[43m \u001b[49m\u001b[43mheaders\u001b[49m\u001b[38;5;241;43m=\u001b[39;49m\u001b[43mheaders\u001b[49m\u001b[43m,\u001b[49m\u001b[43m \u001b[49m\u001b[38;5;241;43m*\u001b[39;49m\u001b[38;5;241;43m*\u001b[39;49m\u001b[43mrequest_options\u001b[49m\u001b[43m)\u001b[49m\n\u001b[1;32m    696\u001b[0m     resp\u001b[38;5;241m.\u001b[39mraise_for_status()\n\u001b[1;32m    697\u001b[0m     \u001b[38;5;28;01mreturn\u001b[39;00m resp\n",
      "File \u001b[0;32m~/workspace/experiments/live_projects/slashml/sdk_tests/venv-3.9.1/lib/python3.9/site-packages/requests/api.py:115\u001b[0m, in \u001b[0;36mpost\u001b[0;34m(url, data, json, **kwargs)\u001b[0m\n\u001b[1;32m    103\u001b[0m \u001b[38;5;28;01mdef\u001b[39;00m \u001b[38;5;21mpost\u001b[39m(url, data\u001b[38;5;241m=\u001b[39m\u001b[38;5;28;01mNone\u001b[39;00m, json\u001b[38;5;241m=\u001b[39m\u001b[38;5;28;01mNone\u001b[39;00m, \u001b[38;5;241m*\u001b[39m\u001b[38;5;241m*\u001b[39mkwargs):\n\u001b[1;32m    104\u001b[0m \u001b[38;5;250m    \u001b[39m\u001b[38;5;124mr\u001b[39m\u001b[38;5;124;03m\"\"\"Sends a POST request.\u001b[39;00m\n\u001b[1;32m    105\u001b[0m \n\u001b[1;32m    106\u001b[0m \u001b[38;5;124;03m    :param url: URL for the new :class:`Request` object.\u001b[39;00m\n\u001b[0;32m   (...)\u001b[0m\n\u001b[1;32m    112\u001b[0m \u001b[38;5;124;03m    :rtype: requests.Response\u001b[39;00m\n\u001b[1;32m    113\u001b[0m \u001b[38;5;124;03m    \"\"\"\u001b[39;00m\n\u001b[0;32m--> 115\u001b[0m     \u001b[38;5;28;01mreturn\u001b[39;00m \u001b[43mrequest\u001b[49m\u001b[43m(\u001b[49m\u001b[38;5;124;43m\"\u001b[39;49m\u001b[38;5;124;43mpost\u001b[39;49m\u001b[38;5;124;43m\"\u001b[39;49m\u001b[43m,\u001b[49m\u001b[43m \u001b[49m\u001b[43murl\u001b[49m\u001b[43m,\u001b[49m\u001b[43m \u001b[49m\u001b[43mdata\u001b[49m\u001b[38;5;241;43m=\u001b[39;49m\u001b[43mdata\u001b[49m\u001b[43m,\u001b[49m\u001b[43m \u001b[49m\u001b[43mjson\u001b[49m\u001b[38;5;241;43m=\u001b[39;49m\u001b[43mjson\u001b[49m\u001b[43m,\u001b[49m\u001b[43m \u001b[49m\u001b[38;5;241;43m*\u001b[39;49m\u001b[38;5;241;43m*\u001b[39;49m\u001b[43mkwargs\u001b[49m\u001b[43m)\u001b[49m\n",
      "File \u001b[0;32m~/workspace/experiments/live_projects/slashml/sdk_tests/venv-3.9.1/lib/python3.9/site-packages/requests/api.py:59\u001b[0m, in \u001b[0;36mrequest\u001b[0;34m(method, url, **kwargs)\u001b[0m\n\u001b[1;32m     55\u001b[0m \u001b[38;5;66;03m# By using the 'with' statement we are sure the session is closed, thus we\u001b[39;00m\n\u001b[1;32m     56\u001b[0m \u001b[38;5;66;03m# avoid leaving sockets open which can trigger a ResourceWarning in some\u001b[39;00m\n\u001b[1;32m     57\u001b[0m \u001b[38;5;66;03m# cases, and look like a memory leak in others.\u001b[39;00m\n\u001b[1;32m     58\u001b[0m \u001b[38;5;28;01mwith\u001b[39;00m sessions\u001b[38;5;241m.\u001b[39mSession() \u001b[38;5;28;01mas\u001b[39;00m session:\n\u001b[0;32m---> 59\u001b[0m     \u001b[38;5;28;01mreturn\u001b[39;00m \u001b[43msession\u001b[49m\u001b[38;5;241;43m.\u001b[39;49m\u001b[43mrequest\u001b[49m\u001b[43m(\u001b[49m\u001b[43mmethod\u001b[49m\u001b[38;5;241;43m=\u001b[39;49m\u001b[43mmethod\u001b[49m\u001b[43m,\u001b[49m\u001b[43m \u001b[49m\u001b[43murl\u001b[49m\u001b[38;5;241;43m=\u001b[39;49m\u001b[43murl\u001b[49m\u001b[43m,\u001b[49m\u001b[43m \u001b[49m\u001b[38;5;241;43m*\u001b[39;49m\u001b[38;5;241;43m*\u001b[39;49m\u001b[43mkwargs\u001b[49m\u001b[43m)\u001b[49m\n",
      "File \u001b[0;32m~/workspace/experiments/live_projects/slashml/sdk_tests/venv-3.9.1/lib/python3.9/site-packages/requests/sessions.py:575\u001b[0m, in \u001b[0;36mSession.request\u001b[0;34m(self, method, url, params, data, headers, cookies, files, auth, timeout, allow_redirects, proxies, hooks, stream, verify, cert, json)\u001b[0m\n\u001b[1;32m    562\u001b[0m \u001b[38;5;66;03m# Create the Request.\u001b[39;00m\n\u001b[1;32m    563\u001b[0m req \u001b[38;5;241m=\u001b[39m Request(\n\u001b[1;32m    564\u001b[0m     method\u001b[38;5;241m=\u001b[39mmethod\u001b[38;5;241m.\u001b[39mupper(),\n\u001b[1;32m    565\u001b[0m     url\u001b[38;5;241m=\u001b[39murl,\n\u001b[0;32m   (...)\u001b[0m\n\u001b[1;32m    573\u001b[0m     hooks\u001b[38;5;241m=\u001b[39mhooks,\n\u001b[1;32m    574\u001b[0m )\n\u001b[0;32m--> 575\u001b[0m prep \u001b[38;5;241m=\u001b[39m \u001b[38;5;28;43mself\u001b[39;49m\u001b[38;5;241;43m.\u001b[39;49m\u001b[43mprepare_request\u001b[49m\u001b[43m(\u001b[49m\u001b[43mreq\u001b[49m\u001b[43m)\u001b[49m\n\u001b[1;32m    577\u001b[0m proxies \u001b[38;5;241m=\u001b[39m proxies \u001b[38;5;129;01mor\u001b[39;00m {}\n\u001b[1;32m    579\u001b[0m settings \u001b[38;5;241m=\u001b[39m \u001b[38;5;28mself\u001b[39m\u001b[38;5;241m.\u001b[39mmerge_environment_settings(\n\u001b[1;32m    580\u001b[0m     prep\u001b[38;5;241m.\u001b[39murl, proxies, stream, verify, cert\n\u001b[1;32m    581\u001b[0m )\n",
      "File \u001b[0;32m~/workspace/experiments/live_projects/slashml/sdk_tests/venv-3.9.1/lib/python3.9/site-packages/requests/sessions.py:486\u001b[0m, in \u001b[0;36mSession.prepare_request\u001b[0;34m(self, request)\u001b[0m\n\u001b[1;32m    483\u001b[0m     auth \u001b[38;5;241m=\u001b[39m get_netrc_auth(request\u001b[38;5;241m.\u001b[39murl)\n\u001b[1;32m    485\u001b[0m p \u001b[38;5;241m=\u001b[39m PreparedRequest()\n\u001b[0;32m--> 486\u001b[0m \u001b[43mp\u001b[49m\u001b[38;5;241;43m.\u001b[39;49m\u001b[43mprepare\u001b[49m\u001b[43m(\u001b[49m\n\u001b[1;32m    487\u001b[0m \u001b[43m    \u001b[49m\u001b[43mmethod\u001b[49m\u001b[38;5;241;43m=\u001b[39;49m\u001b[43mrequest\u001b[49m\u001b[38;5;241;43m.\u001b[39;49m\u001b[43mmethod\u001b[49m\u001b[38;5;241;43m.\u001b[39;49m\u001b[43mupper\u001b[49m\u001b[43m(\u001b[49m\u001b[43m)\u001b[49m\u001b[43m,\u001b[49m\n\u001b[1;32m    488\u001b[0m \u001b[43m    \u001b[49m\u001b[43murl\u001b[49m\u001b[38;5;241;43m=\u001b[39;49m\u001b[43mrequest\u001b[49m\u001b[38;5;241;43m.\u001b[39;49m\u001b[43murl\u001b[49m\u001b[43m,\u001b[49m\n\u001b[1;32m    489\u001b[0m \u001b[43m    \u001b[49m\u001b[43mfiles\u001b[49m\u001b[38;5;241;43m=\u001b[39;49m\u001b[43mrequest\u001b[49m\u001b[38;5;241;43m.\u001b[39;49m\u001b[43mfiles\u001b[49m\u001b[43m,\u001b[49m\n\u001b[1;32m    490\u001b[0m \u001b[43m    \u001b[49m\u001b[43mdata\u001b[49m\u001b[38;5;241;43m=\u001b[39;49m\u001b[43mrequest\u001b[49m\u001b[38;5;241;43m.\u001b[39;49m\u001b[43mdata\u001b[49m\u001b[43m,\u001b[49m\n\u001b[1;32m    491\u001b[0m \u001b[43m    \u001b[49m\u001b[43mjson\u001b[49m\u001b[38;5;241;43m=\u001b[39;49m\u001b[43mrequest\u001b[49m\u001b[38;5;241;43m.\u001b[39;49m\u001b[43mjson\u001b[49m\u001b[43m,\u001b[49m\n\u001b[1;32m    492\u001b[0m \u001b[43m    \u001b[49m\u001b[43mheaders\u001b[49m\u001b[38;5;241;43m=\u001b[39;49m\u001b[43mmerge_setting\u001b[49m\u001b[43m(\u001b[49m\n\u001b[1;32m    493\u001b[0m \u001b[43m        \u001b[49m\u001b[43mrequest\u001b[49m\u001b[38;5;241;43m.\u001b[39;49m\u001b[43mheaders\u001b[49m\u001b[43m,\u001b[49m\u001b[43m \u001b[49m\u001b[38;5;28;43mself\u001b[39;49m\u001b[38;5;241;43m.\u001b[39;49m\u001b[43mheaders\u001b[49m\u001b[43m,\u001b[49m\u001b[43m \u001b[49m\u001b[43mdict_class\u001b[49m\u001b[38;5;241;43m=\u001b[39;49m\u001b[43mCaseInsensitiveDict\u001b[49m\n\u001b[1;32m    494\u001b[0m \u001b[43m    \u001b[49m\u001b[43m)\u001b[49m\u001b[43m,\u001b[49m\n\u001b[1;32m    495\u001b[0m \u001b[43m    \u001b[49m\u001b[43mparams\u001b[49m\u001b[38;5;241;43m=\u001b[39;49m\u001b[43mmerge_setting\u001b[49m\u001b[43m(\u001b[49m\u001b[43mrequest\u001b[49m\u001b[38;5;241;43m.\u001b[39;49m\u001b[43mparams\u001b[49m\u001b[43m,\u001b[49m\u001b[43m \u001b[49m\u001b[38;5;28;43mself\u001b[39;49m\u001b[38;5;241;43m.\u001b[39;49m\u001b[43mparams\u001b[49m\u001b[43m)\u001b[49m\u001b[43m,\u001b[49m\n\u001b[1;32m    496\u001b[0m \u001b[43m    \u001b[49m\u001b[43mauth\u001b[49m\u001b[38;5;241;43m=\u001b[39;49m\u001b[43mmerge_setting\u001b[49m\u001b[43m(\u001b[49m\u001b[43mauth\u001b[49m\u001b[43m,\u001b[49m\u001b[43m \u001b[49m\u001b[38;5;28;43mself\u001b[39;49m\u001b[38;5;241;43m.\u001b[39;49m\u001b[43mauth\u001b[49m\u001b[43m)\u001b[49m\u001b[43m,\u001b[49m\n\u001b[1;32m    497\u001b[0m \u001b[43m    \u001b[49m\u001b[43mcookies\u001b[49m\u001b[38;5;241;43m=\u001b[39;49m\u001b[43mmerged_cookies\u001b[49m\u001b[43m,\u001b[49m\n\u001b[1;32m    498\u001b[0m \u001b[43m    \u001b[49m\u001b[43mhooks\u001b[49m\u001b[38;5;241;43m=\u001b[39;49m\u001b[43mmerge_hooks\u001b[49m\u001b[43m(\u001b[49m\u001b[43mrequest\u001b[49m\u001b[38;5;241;43m.\u001b[39;49m\u001b[43mhooks\u001b[49m\u001b[43m,\u001b[49m\u001b[43m \u001b[49m\u001b[38;5;28;43mself\u001b[39;49m\u001b[38;5;241;43m.\u001b[39;49m\u001b[43mhooks\u001b[49m\u001b[43m)\u001b[49m\u001b[43m,\u001b[49m\n\u001b[1;32m    499\u001b[0m \u001b[43m\u001b[49m\u001b[43m)\u001b[49m\n\u001b[1;32m    500\u001b[0m \u001b[38;5;28;01mreturn\u001b[39;00m p\n",
      "File \u001b[0;32m~/workspace/experiments/live_projects/slashml/sdk_tests/venv-3.9.1/lib/python3.9/site-packages/requests/models.py:371\u001b[0m, in \u001b[0;36mPreparedRequest.prepare\u001b[0;34m(self, method, url, headers, files, data, params, auth, cookies, hooks, json)\u001b[0m\n\u001b[1;32m    369\u001b[0m \u001b[38;5;28mself\u001b[39m\u001b[38;5;241m.\u001b[39mprepare_headers(headers)\n\u001b[1;32m    370\u001b[0m \u001b[38;5;28mself\u001b[39m\u001b[38;5;241m.\u001b[39mprepare_cookies(cookies)\n\u001b[0;32m--> 371\u001b[0m \u001b[38;5;28;43mself\u001b[39;49m\u001b[38;5;241;43m.\u001b[39;49m\u001b[43mprepare_body\u001b[49m\u001b[43m(\u001b[49m\u001b[43mdata\u001b[49m\u001b[43m,\u001b[49m\u001b[43m \u001b[49m\u001b[43mfiles\u001b[49m\u001b[43m,\u001b[49m\u001b[43m \u001b[49m\u001b[43mjson\u001b[49m\u001b[43m)\u001b[49m\n\u001b[1;32m    372\u001b[0m \u001b[38;5;28mself\u001b[39m\u001b[38;5;241m.\u001b[39mprepare_auth(auth, url)\n\u001b[1;32m    374\u001b[0m \u001b[38;5;66;03m# Note that prepare_auth must be last to enable authentication schemes\u001b[39;00m\n\u001b[1;32m    375\u001b[0m \u001b[38;5;66;03m# such as OAuth to work on a fully prepared request.\u001b[39;00m\n\u001b[1;32m    376\u001b[0m \n\u001b[1;32m    377\u001b[0m \u001b[38;5;66;03m# This MUST go after prepare_auth. Authenticators could add a hook\u001b[39;00m\n",
      "File \u001b[0;32m~/workspace/experiments/live_projects/slashml/sdk_tests/venv-3.9.1/lib/python3.9/site-packages/requests/models.py:511\u001b[0m, in \u001b[0;36mPreparedRequest.prepare_body\u001b[0;34m(self, data, files, json)\u001b[0m\n\u001b[1;32m    508\u001b[0m content_type \u001b[38;5;241m=\u001b[39m \u001b[38;5;124m\"\u001b[39m\u001b[38;5;124mapplication/json\u001b[39m\u001b[38;5;124m\"\u001b[39m\n\u001b[1;32m    510\u001b[0m \u001b[38;5;28;01mtry\u001b[39;00m:\n\u001b[0;32m--> 511\u001b[0m     body \u001b[38;5;241m=\u001b[39m \u001b[43mcomplexjson\u001b[49m\u001b[38;5;241;43m.\u001b[39;49m\u001b[43mdumps\u001b[49m\u001b[43m(\u001b[49m\u001b[43mjson\u001b[49m\u001b[43m,\u001b[49m\u001b[43m \u001b[49m\u001b[43mallow_nan\u001b[49m\u001b[38;5;241;43m=\u001b[39;49m\u001b[38;5;28;43;01mFalse\u001b[39;49;00m\u001b[43m)\u001b[49m\n\u001b[1;32m    512\u001b[0m \u001b[38;5;28;01mexcept\u001b[39;00m \u001b[38;5;167;01mValueError\u001b[39;00m \u001b[38;5;28;01mas\u001b[39;00m ve:\n\u001b[1;32m    513\u001b[0m     \u001b[38;5;28;01mraise\u001b[39;00m InvalidJSONError(ve, request\u001b[38;5;241m=\u001b[39m\u001b[38;5;28mself\u001b[39m)\n",
      "File \u001b[0;32m~/.pyenv/versions/3.9.1/lib/python3.9/json/__init__.py:234\u001b[0m, in \u001b[0;36mdumps\u001b[0;34m(obj, skipkeys, ensure_ascii, check_circular, allow_nan, cls, indent, separators, default, sort_keys, **kw)\u001b[0m\n\u001b[1;32m    232\u001b[0m \u001b[38;5;28;01mif\u001b[39;00m \u001b[38;5;28mcls\u001b[39m \u001b[38;5;129;01mis\u001b[39;00m \u001b[38;5;28;01mNone\u001b[39;00m:\n\u001b[1;32m    233\u001b[0m     \u001b[38;5;28mcls\u001b[39m \u001b[38;5;241m=\u001b[39m JSONEncoder\n\u001b[0;32m--> 234\u001b[0m \u001b[38;5;28;01mreturn\u001b[39;00m \u001b[38;5;28;43mcls\u001b[39;49m\u001b[43m(\u001b[49m\n\u001b[1;32m    235\u001b[0m \u001b[43m    \u001b[49m\u001b[43mskipkeys\u001b[49m\u001b[38;5;241;43m=\u001b[39;49m\u001b[43mskipkeys\u001b[49m\u001b[43m,\u001b[49m\u001b[43m \u001b[49m\u001b[43mensure_ascii\u001b[49m\u001b[38;5;241;43m=\u001b[39;49m\u001b[43mensure_ascii\u001b[49m\u001b[43m,\u001b[49m\n\u001b[1;32m    236\u001b[0m \u001b[43m    \u001b[49m\u001b[43mcheck_circular\u001b[49m\u001b[38;5;241;43m=\u001b[39;49m\u001b[43mcheck_circular\u001b[49m\u001b[43m,\u001b[49m\u001b[43m \u001b[49m\u001b[43mallow_nan\u001b[49m\u001b[38;5;241;43m=\u001b[39;49m\u001b[43mallow_nan\u001b[49m\u001b[43m,\u001b[49m\u001b[43m \u001b[49m\u001b[43mindent\u001b[49m\u001b[38;5;241;43m=\u001b[39;49m\u001b[43mindent\u001b[49m\u001b[43m,\u001b[49m\n\u001b[1;32m    237\u001b[0m \u001b[43m    \u001b[49m\u001b[43mseparators\u001b[49m\u001b[38;5;241;43m=\u001b[39;49m\u001b[43mseparators\u001b[49m\u001b[43m,\u001b[49m\u001b[43m \u001b[49m\u001b[43mdefault\u001b[49m\u001b[38;5;241;43m=\u001b[39;49m\u001b[43mdefault\u001b[49m\u001b[43m,\u001b[49m\u001b[43m \u001b[49m\u001b[43msort_keys\u001b[49m\u001b[38;5;241;43m=\u001b[39;49m\u001b[43msort_keys\u001b[49m\u001b[43m,\u001b[49m\n\u001b[1;32m    238\u001b[0m \u001b[43m    \u001b[49m\u001b[38;5;241;43m*\u001b[39;49m\u001b[38;5;241;43m*\u001b[39;49m\u001b[43mkw\u001b[49m\u001b[43m)\u001b[49m\u001b[38;5;241;43m.\u001b[39;49m\u001b[43mencode\u001b[49m\u001b[43m(\u001b[49m\u001b[43mobj\u001b[49m\u001b[43m)\u001b[49m\n",
      "File \u001b[0;32m~/.pyenv/versions/3.9.1/lib/python3.9/json/encoder.py:199\u001b[0m, in \u001b[0;36mJSONEncoder.encode\u001b[0;34m(self, o)\u001b[0m\n\u001b[1;32m    195\u001b[0m         \u001b[38;5;28;01mreturn\u001b[39;00m encode_basestring(o)\n\u001b[1;32m    196\u001b[0m \u001b[38;5;66;03m# This doesn't pass the iterator directly to ''.join() because the\u001b[39;00m\n\u001b[1;32m    197\u001b[0m \u001b[38;5;66;03m# exceptions aren't as detailed.  The list call should be roughly\u001b[39;00m\n\u001b[1;32m    198\u001b[0m \u001b[38;5;66;03m# equivalent to the PySequence_Fast that ''.join() would do.\u001b[39;00m\n\u001b[0;32m--> 199\u001b[0m chunks \u001b[38;5;241m=\u001b[39m \u001b[38;5;28;43mself\u001b[39;49m\u001b[38;5;241;43m.\u001b[39;49m\u001b[43miterencode\u001b[49m\u001b[43m(\u001b[49m\u001b[43mo\u001b[49m\u001b[43m,\u001b[49m\u001b[43m \u001b[49m\u001b[43m_one_shot\u001b[49m\u001b[38;5;241;43m=\u001b[39;49m\u001b[38;5;28;43;01mTrue\u001b[39;49;00m\u001b[43m)\u001b[49m\n\u001b[1;32m    200\u001b[0m \u001b[38;5;28;01mif\u001b[39;00m \u001b[38;5;129;01mnot\u001b[39;00m \u001b[38;5;28misinstance\u001b[39m(chunks, (\u001b[38;5;28mlist\u001b[39m, \u001b[38;5;28mtuple\u001b[39m)):\n\u001b[1;32m    201\u001b[0m     chunks \u001b[38;5;241m=\u001b[39m \u001b[38;5;28mlist\u001b[39m(chunks)\n",
      "File \u001b[0;32m~/.pyenv/versions/3.9.1/lib/python3.9/json/encoder.py:257\u001b[0m, in \u001b[0;36mJSONEncoder.iterencode\u001b[0;34m(self, o, _one_shot)\u001b[0m\n\u001b[1;32m    252\u001b[0m \u001b[38;5;28;01melse\u001b[39;00m:\n\u001b[1;32m    253\u001b[0m     _iterencode \u001b[38;5;241m=\u001b[39m _make_iterencode(\n\u001b[1;32m    254\u001b[0m         markers, \u001b[38;5;28mself\u001b[39m\u001b[38;5;241m.\u001b[39mdefault, _encoder, \u001b[38;5;28mself\u001b[39m\u001b[38;5;241m.\u001b[39mindent, floatstr,\n\u001b[1;32m    255\u001b[0m         \u001b[38;5;28mself\u001b[39m\u001b[38;5;241m.\u001b[39mkey_separator, \u001b[38;5;28mself\u001b[39m\u001b[38;5;241m.\u001b[39mitem_separator, \u001b[38;5;28mself\u001b[39m\u001b[38;5;241m.\u001b[39msort_keys,\n\u001b[1;32m    256\u001b[0m         \u001b[38;5;28mself\u001b[39m\u001b[38;5;241m.\u001b[39mskipkeys, _one_shot)\n\u001b[0;32m--> 257\u001b[0m \u001b[38;5;28;01mreturn\u001b[39;00m \u001b[43m_iterencode\u001b[49m\u001b[43m(\u001b[49m\u001b[43mo\u001b[49m\u001b[43m,\u001b[49m\u001b[43m \u001b[49m\u001b[38;5;241;43m0\u001b[39;49m\u001b[43m)\u001b[49m\n",
      "File \u001b[0;32m~/.pyenv/versions/3.9.1/lib/python3.9/json/encoder.py:179\u001b[0m, in \u001b[0;36mJSONEncoder.default\u001b[0;34m(self, o)\u001b[0m\n\u001b[1;32m    160\u001b[0m \u001b[38;5;28;01mdef\u001b[39;00m \u001b[38;5;21mdefault\u001b[39m(\u001b[38;5;28mself\u001b[39m, o):\n\u001b[1;32m    161\u001b[0m \u001b[38;5;250m    \u001b[39m\u001b[38;5;124;03m\"\"\"Implement this method in a subclass such that it returns\u001b[39;00m\n\u001b[1;32m    162\u001b[0m \u001b[38;5;124;03m    a serializable object for ``o``, or calls the base implementation\u001b[39;00m\n\u001b[1;32m    163\u001b[0m \u001b[38;5;124;03m    (to raise a ``TypeError``).\u001b[39;00m\n\u001b[0;32m   (...)\u001b[0m\n\u001b[1;32m    177\u001b[0m \n\u001b[1;32m    178\u001b[0m \u001b[38;5;124;03m    \"\"\"\u001b[39;00m\n\u001b[0;32m--> 179\u001b[0m     \u001b[38;5;28;01mraise\u001b[39;00m \u001b[38;5;167;01mTypeError\u001b[39;00m(\u001b[38;5;124mf\u001b[39m\u001b[38;5;124m'\u001b[39m\u001b[38;5;124mObject of type \u001b[39m\u001b[38;5;132;01m{\u001b[39;00mo\u001b[38;5;241m.\u001b[39m\u001b[38;5;18m__class__\u001b[39m\u001b[38;5;241m.\u001b[39m\u001b[38;5;18m__name__\u001b[39m\u001b[38;5;132;01m}\u001b[39;00m\u001b[38;5;124m \u001b[39m\u001b[38;5;124m'\u001b[39m\n\u001b[1;32m    180\u001b[0m                     \u001b[38;5;124mf\u001b[39m\u001b[38;5;124m'\u001b[39m\u001b[38;5;124mis not JSON serializable\u001b[39m\u001b[38;5;124m'\u001b[39m)\n",
      "\u001b[0;31mTypeError\u001b[0m: Object of type ndarray is not JSON serializable"
     ]
    }
   ],
   "source": [
    "import baseten\n",
    "model = baseten.deployed_model_id('a0z3GaP')\n",
    "model.predict(model_input)"
   ]
  },
  {
   "cell_type": "code",
   "execution_count": 35,
   "id": "a3ab9479-664b-4911-82eb-0fa3953531b7",
   "metadata": {},
   "outputs": [],
   "source": [
    "# Function to show an image\n",
    "def imshow(img):\n",
    "    img = img * 0.3081 + 0.1307  # Inverse normalization\n",
    "    img = img.squeeze()  # Remove the batch dimension (1 in this case)\n",
    "    plt.imshow(img, cmap='gray')\n",
    "    plt.show()"
   ]
  },
  {
   "cell_type": "code",
   "execution_count": 37,
   "id": "6d1ecddf-9aa6-4297-b981-e6c9d12cfe79",
   "metadata": {},
   "outputs": [],
   "source": [
    "import matplotlib.pyplot as plt\n"
   ]
  },
  {
   "cell_type": "code",
   "execution_count": 38,
   "id": "f7ed79cc-90bf-4617-8f44-737e70c84b05",
   "metadata": {},
   "outputs": [
    {
     "name": "stdout",
     "output_type": "stream",
     "text": [
      "Label: 7\n"
     ]
    },
    {
     "data": {
      "image/png": "[encoded data removed]",
      "text/plain": [
       "<Figure size 640x480 with 1 Axes>"
      ]
     },
     "metadata": {},
     "output_type": "display_data"
    },
    {
     "name": "stdout",
     "output_type": "stream",
     "text": [
      "Label: 2\n"
     ]
    },
    {
     "data": {
      "image/png": "[encoded data removed]",
      "text/plain": [
       "<Figure size 640x480 with 1 Axes>"
      ]
     },
     "metadata": {},
     "output_type": "display_data"
    },
    {
     "name": "stdout",
     "output_type": "stream",
     "text": [
      "Label: 1\n"
     ]
    },
    {
     "data": {
      "image/png": "[encoded data removed]",
      "text/plain": [
       "<Figure size 640x480 with 1 Axes>"
      ]
     },
     "metadata": {},
     "output_type": "display_data"
    },
    {
     "name": "stdout",
     "output_type": "stream",
     "text": [
      "Label: 0\n"
     ]
    },
    {
     "data": {
      "image/png": "[encoded data removed]",
      "text/plain": [
       "<Figure size 640x480 with 1 Axes>"
      ]
     },
     "metadata": {},
     "output_type": "display_data"
    },
    {
     "name": "stdout",
     "output_type": "stream",
     "text": [
      "Label: 4\n"
     ]
    },
    {
     "data": {
      "image/png": "[encoded data removed]",
      "text/plain": [
       "<Figure size 640x480 with 1 Axes>"
      ]
     },
     "metadata": {},
     "output_type": "display_data"
    }
   ],
   "source": [
    "# Iterate through the DataLoader and display a few images\n",
    "for i, (image, label) in enumerate(dataset):\n",
    "    print(f\"Label: {label.item()}\")\n",
    "    imshow(image)\n",
    "    if i >= 4:  # Display the first 5 images\n",
    "        break"
   ]
  },
  {
   "cell_type": "code",
   "execution_count": 43,
   "id": "080eef8d-d41f-4312-82e3-44617987eea8",
   "metadata": {},
   "outputs": [
    {
     "data": {
      "text/plain": [
       "{'predictions': [[-19.536849975585938,\n",
       "   -19.36157989501953,\n",
       "   -15.855398178100586,\n",
       "   -18.154205322265625,\n",
       "   -20.801715850830078,\n",
       "   -23.747478485107422,\n",
       "   -28.796581268310547,\n",
       "   -2.3841855067985307e-07,\n",
       "   -20.899829864501953,\n",
       "   -16.10333824157715]]}"
      ]
     },
     "execution_count": 43,
     "metadata": {},
     "output_type": "execute_result"
    }
   ],
   "source": [
    "scores"
   ]
  },
  {
   "cell_type": "code",
   "execution_count": 45,
   "id": "9803b072-2fdc-4455-a4dc-6105317406da",
   "metadata": {},
   "outputs": [
    {
     "data": {
      "image/png": "[encoded data removed]",
      "text/plain": [
       "<Figure size 1000x400 with 1 Axes>"
      ]
     },
     "metadata": {},
     "output_type": "display_data"
    }
   ],
   "source": [
    "scores = prediction['model_response']['predictions']\n",
    "# Convert the scores to a 1D NumPy array\n",
    "scores = np.array(scores)\n",
    "\n",
    "# # Create a bar chart or heatmap for the scores\n",
    "fig, ax = plt.subplots(figsize=(10, 4))\n"
   ]
  },
  {
   "cell_type": "code",
   "execution_count": null,
   "id": "007c525c-fce3-4b37-88af-85755ea370c5",
   "metadata": {},
   "outputs": [],
   "source": []
  }
 ],
 "metadata": {
  "kernelspec": {
   "display_name": "Python 3 (ipykernel)",
   "language": "python",
   "name": "python3"
  },
  "language_info": {
   "codemirror_mode": {
    "name": "ipython",
    "version": 3
   },
   "file_extension": ".py",
   "mimetype": "text/x-python",
   "name": "python",
   "nbconvert_exporter": "python",
   "pygments_lexer": "ipython3",
   "version": "3.9.1"
  }
 },
 "nbformat": 4,
 "nbformat_minor": 5
}
