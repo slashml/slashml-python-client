{
 "cells": [
  {
   "cell_type": "code",
   "execution_count": null,
   "id": "f0032a44-2b5d-4778-8035-e3fcdbb5a31d",
   "metadata": {},
   "outputs": [],
   "source": [
    "%pip install --upgrade torch torchvision baseten"
   ]
  },
  {
   "cell_type": "code",
   "execution_count": 1,
   "id": "50824605-66f1-4eeb-95f1-8c124e9b4390",
   "metadata": {},
   "outputs": [],
   "source": [
    "from slashml import ModelDeployment\n",
    "import time\n",
    "\n",
    "import torch.nn as nn\n",
    "import torch.nn.functional as F\n",
    "import torch.optim as optim\n",
    "from torch.optim.lr_scheduler import StepLR\n",
    "from torchvision import datasets, transforms\n",
    "import torch.nn.functional as F"
   ]
  },
  {
   "cell_type": "code",
   "execution_count": 2,
   "id": "75312ed4-650c-4be8-9d91-469e6174c1bc",
   "metadata": {},
   "outputs": [],
   "source": [
    "class MNISTNet(nn.Module):\n",
    "    def __init__(self):\n",
    "        super(MNISTNet, self).__init__()\n",
    "        self.conv1 = nn.Conv2d(1, 32, 3, 1)\n",
    "        self.conv2 = nn.Conv2d(32, 64, 3, 1)\n",
    "        self.dropout1 = nn.Dropout(0.25)\n",
    "        self.dropout2 = nn.Dropout(0.5)\n",
    "        self.fc1 = nn.Linear(9216, 128)\n",
    "        self.fc2 = nn.Linear(128, 10)\n",
    "\n",
    "    def forward(self, x):\n",
    "        x = self.conv1(x)\n",
    "        x = F.relu(x)\n",
    "        x = self.conv2(x)\n",
    "        x = F.relu(x)\n",
    "        x = F.max_pool2d(x, 2)\n",
    "        x = self.dropout1(x)\n",
    "        x = torch.flatten(x, 1)\n",
    "        x = self.fc1(x)\n",
    "        x = F.relu(x)\n",
    "        x = self.dropout2(x)\n",
    "        x = self.fc2(x)\n",
    "        output = F.log_softmax(x, dim=1)\n",
    "        return output"
   ]
  },
  {
   "cell_type": "code",
   "execution_count": 3,
   "id": "9e06867f-d285-445d-91f5-525afbc99565",
   "metadata": {},
   "outputs": [],
   "source": [
    "def train(model, device, train_loader, optimizer, epoch, log_interval=10):\n",
    "    model.train()\n",
    "    for batch_idx, (data, target) in enumerate(train_loader):\n",
    "        data, target = data.to(device), target.to(device)\n",
    "        optimizer.zero_grad()\n",
    "        output = model(data)\n",
    "        loss = F.nll_loss(output, target)\n",
    "        loss.backward()\n",
    "        optimizer.step()\n",
    "        if batch_idx % log_interval == 0:\n",
    "            print(\n",
    "                \"Train Epoch: {} [{}/{} ({:.0f}%)]\\tLoss: {:.6f}\".format(\n",
    "                    epoch,\n",
    "                    batch_idx * len(data),\n",
    "                    len(train_loader.dataset),\n",
    "                    100.0 * batch_idx / len(train_loader),\n",
    "                    loss.item(),\n",
    "                )\n",
    "            )"
   ]
  },
  {
   "cell_type": "code",
   "execution_count": 4,
   "id": "4af8ceb3-457c-428d-8f40-6fc5a41e710f",
   "metadata": {},
   "outputs": [],
   "source": [
    "def test(model, device, test_loader):\n",
    "    model.eval()\n",
    "    test_loss = 0\n",
    "    correct = 0\n",
    "    with torch.no_grad():\n",
    "        for data, target in test_loader:\n",
    "            data, target = data.to(device), target.to(device)\n",
    "            output = model(data)\n",
    "            test_loss += F.nll_loss(\n",
    "                output, target, reduction=\"sum\"\n",
    "            ).item()  # sum up batch loss\n",
    "            pred = output.argmax(\n",
    "                dim=1, keepdim=True\n",
    "            )  # get the index of the max log-probability\n",
    "            correct += pred.eq(target.view_as(pred)).sum().item()\n",
    "\n",
    "    test_loss /= len(test_loader.dataset)\n",
    "\n",
    "    print(\n",
    "        \"\\nTest set: Average loss: {:.4f}, Accuracy: {}/{} ({:.0f}%)\\n\".format(\n",
    "            test_loss,\n",
    "            correct,\n",
    "            len(test_loader.dataset),\n",
    "            100.0 * correct / len(test_loader.dataset),\n",
    "        )\n",
    "    )"
   ]
  },
  {
   "cell_type": "code",
   "execution_count": 5,
   "id": "1c78b761-16b4-40f8-bbb0-2d73cd66ff75",
   "metadata": {},
   "outputs": [],
   "source": [
    "def train_model():\n",
    "    device = \"cpu\"\n",
    "    epochs = 1\n",
    "    train_kwargs = {\"batch_size\": 64}\n",
    "    test_kwargs = {\"batch_size\": 1000}\n",
    "    transform = transforms.Compose(\n",
    "        [transforms.ToTensor(), transforms.Normalize((0.1307,), (0.3081,))]\n",
    "    )\n",
    "    dataset1 = datasets.MNIST(\"../data\", train=True, download=True, transform=transform)\n",
    "    dataset2 = datasets.MNIST(\"../data\", train=False, transform=transform)\n",
    "    train_loader = torch.utils.data.DataLoader(dataset1, **train_kwargs)\n",
    "    test_loader = torch.utils.data.DataLoader(dataset2, **test_kwargs)\n",
    "    model = MNISTNet().to(device)\n",
    "    optimizer = optim.Adadelta(model.parameters(), lr=1.0)\n",
    "\n",
    "    scheduler = StepLR(optimizer, step_size=1, gamma=0.7)\n",
    "    for epoch in range(1, epochs + 1):\n",
    "        train(model, device, train_loader, optimizer, epoch)\n",
    "        test(model, device, test_loader)\n",
    "        scheduler.step()\n",
    "    return model"
   ]
  },
  {
   "cell_type": "code",
   "execution_count": 6,
   "id": "741acab2-a3ec-4e82-b633-30d5f3734b58",
   "metadata": {},
   "outputs": [],
   "source": [
    "# Model training\n",
    "\n",
    "import torch\n",
    "import torch.optim as optim\n",
    "from torch.optim.lr_scheduler import StepLR\n",
    "from torchvision import datasets, transforms\n",
    "import torch.nn.functional as F\n",
    "\n",
    "model_py_string = \"\"\"\n",
    "import torch\n",
    "import torch.nn as nn\n",
    "import torch.nn.functional as F\n",
    "\n",
    "class MNISTNet(nn.Module):\n",
    "    def __init__(self):\n",
    "        super(MNISTNet, self).__init__()\n",
    "        self.conv1 = nn.Conv2d(1, 32, 3, 1)\n",
    "        self.conv2 = nn.Conv2d(32, 64, 3, 1)\n",
    "        self.dropout1 = nn.Dropout(0.25)\n",
    "        self.dropout2 = nn.Dropout(0.5)\n",
    "        self.fc1 = nn.Linear(9216, 128)\n",
    "        self.fc2 = nn.Linear(128, 10)\n",
    "\n",
    "    def forward(self, x):\n",
    "        x = self.conv1(x)\n",
    "        x = F.relu(x)\n",
    "        x = self.conv2(x)\n",
    "        x = F.relu(x)\n",
    "        x = F.max_pool2d(x, 2)\n",
    "        x = self.dropout1(x)\n",
    "        x = torch.flatten(x, 1)\n",
    "        x = self.fc1(x)\n",
    "        x = F.relu(x)\n",
    "        x = self.dropout2(x)\n",
    "        x = self.fc2(x)\n",
    "        output = F.log_softmax(x, dim=1)\n",
    "        return output\n",
    "\"\"\"\n",
    "\n",
    "with open('model.py', 'w') as model_py_file:\n",
    "    model_py_file.write(model_py_string)\n",
    "\n",
    "\n",
    "\n",
    "\n",
    "\n",
    "\n"
   ]
  },
  {
   "cell_type": "code",
   "execution_count": 7,
   "id": "853e1568-ec72-4fb0-bf32-9d4b43fc6fcc",
   "metadata": {},
   "outputs": [
    {
     "name": "stdout",
     "output_type": "stream",
     "text": [
      "Train Epoch: 1 [0/60000 (0%)]\tLoss: 2.284733\n",
      "Train Epoch: 1 [640/60000 (1%)]\tLoss: 1.395781\n",
      "Train Epoch: 1 [1280/60000 (2%)]\tLoss: 0.770145\n",
      "Train Epoch: 1 [1920/60000 (3%)]\tLoss: 0.569007\n",
      "Train Epoch: 1 [2560/60000 (4%)]\tLoss: 0.407825\n",
      "Train Epoch: 1 [3200/60000 (5%)]\tLoss: 0.322430\n",
      "Train Epoch: 1 [3840/60000 (6%)]\tLoss: 0.279010\n",
      "Train Epoch: 1 [4480/60000 (7%)]\tLoss: 0.210277\n",
      "Train Epoch: 1 [5120/60000 (9%)]\tLoss: 0.367257\n",
      "Train Epoch: 1 [5760/60000 (10%)]\tLoss: 0.286512\n",
      "Train Epoch: 1 [6400/60000 (11%)]\tLoss: 0.258308\n",
      "Train Epoch: 1 [7040/60000 (12%)]\tLoss: 0.176819\n",
      "Train Epoch: 1 [7680/60000 (13%)]\tLoss: 0.174119\n",
      "Train Epoch: 1 [8320/60000 (14%)]\tLoss: 0.127595\n",
      "Train Epoch: 1 [8960/60000 (15%)]\tLoss: 0.177771\n",
      "Train Epoch: 1 [9600/60000 (16%)]\tLoss: 0.153454\n",
      "Train Epoch: 1 [10240/60000 (17%)]\tLoss: 0.388022\n",
      "Train Epoch: 1 [10880/60000 (18%)]\tLoss: 0.152137\n",
      "Train Epoch: 1 [11520/60000 (19%)]\tLoss: 0.378497\n",
      "Train Epoch: 1 [12160/60000 (20%)]\tLoss: 0.227217\n",
      "Train Epoch: 1 [12800/60000 (21%)]\tLoss: 0.182880\n",
      "Train Epoch: 1 [13440/60000 (22%)]\tLoss: 0.067578\n",
      "Train Epoch: 1 [14080/60000 (23%)]\tLoss: 0.250705\n",
      "Train Epoch: 1 [14720/60000 (25%)]\tLoss: 0.374582\n",
      "Train Epoch: 1 [15360/60000 (26%)]\tLoss: 0.242831\n",
      "Train Epoch: 1 [16000/60000 (27%)]\tLoss: 0.143684\n",
      "Train Epoch: 1 [16640/60000 (28%)]\tLoss: 0.242653\n",
      "Train Epoch: 1 [17280/60000 (29%)]\tLoss: 0.059269\n",
      "Train Epoch: 1 [17920/60000 (30%)]\tLoss: 0.166409\n",
      "Train Epoch: 1 [18560/60000 (31%)]\tLoss: 0.090956\n",
      "Train Epoch: 1 [19200/60000 (32%)]\tLoss: 0.153429\n",
      "Train Epoch: 1 [19840/60000 (33%)]\tLoss: 0.328053\n",
      "Train Epoch: 1 [20480/60000 (34%)]\tLoss: 0.079373\n",
      "Train Epoch: 1 [21120/60000 (35%)]\tLoss: 0.181041\n",
      "Train Epoch: 1 [21760/60000 (36%)]\tLoss: 0.017867\n",
      "Train Epoch: 1 [22400/60000 (37%)]\tLoss: 0.056590\n",
      "Train Epoch: 1 [23040/60000 (38%)]\tLoss: 0.168540\n",
      "Train Epoch: 1 [23680/60000 (39%)]\tLoss: 0.158992\n",
      "Train Epoch: 1 [24320/60000 (41%)]\tLoss: 0.018040\n",
      "Train Epoch: 1 [24960/60000 (42%)]\tLoss: 0.078236\n",
      "Train Epoch: 1 [25600/60000 (43%)]\tLoss: 0.107841\n",
      "Train Epoch: 1 [26240/60000 (44%)]\tLoss: 0.084637\n",
      "Train Epoch: 1 [26880/60000 (45%)]\tLoss: 0.287276\n",
      "Train Epoch: 1 [27520/60000 (46%)]\tLoss: 0.202306\n",
      "Train Epoch: 1 [28160/60000 (47%)]\tLoss: 0.127600\n",
      "Train Epoch: 1 [28800/60000 (48%)]\tLoss: 0.081309\n",
      "Train Epoch: 1 [29440/60000 (49%)]\tLoss: 0.106143\n",
      "Train Epoch: 1 [30080/60000 (50%)]\tLoss: 0.064344\n",
      "Train Epoch: 1 [30720/60000 (51%)]\tLoss: 0.077251\n",
      "Train Epoch: 1 [31360/60000 (52%)]\tLoss: 0.049459\n",
      "Train Epoch: 1 [32000/60000 (53%)]\tLoss: 0.153992\n",
      "Train Epoch: 1 [32640/60000 (54%)]\tLoss: 0.106493\n",
      "Train Epoch: 1 [33280/60000 (55%)]\tLoss: 0.074693\n",
      "Train Epoch: 1 [33920/60000 (57%)]\tLoss: 0.020821\n",
      "Train Epoch: 1 [34560/60000 (58%)]\tLoss: 0.058728\n",
      "Train Epoch: 1 [35200/60000 (59%)]\tLoss: 0.185050\n",
      "Train Epoch: 1 [35840/60000 (60%)]\tLoss: 0.184601\n",
      "Train Epoch: 1 [36480/60000 (61%)]\tLoss: 0.036458\n",
      "Train Epoch: 1 [37120/60000 (62%)]\tLoss: 0.058921\n",
      "Train Epoch: 1 [37760/60000 (63%)]\tLoss: 0.155614\n",
      "Train Epoch: 1 [38400/60000 (64%)]\tLoss: 0.166400\n",
      "Train Epoch: 1 [39040/60000 (65%)]\tLoss: 0.009176\n",
      "Train Epoch: 1 [39680/60000 (66%)]\tLoss: 0.062725\n",
      "Train Epoch: 1 [40320/60000 (67%)]\tLoss: 0.090609\n",
      "Train Epoch: 1 [40960/60000 (68%)]\tLoss: 0.182235\n",
      "Train Epoch: 1 [41600/60000 (69%)]\tLoss: 0.050079\n",
      "Train Epoch: 1 [42240/60000 (70%)]\tLoss: 0.080256\n",
      "Train Epoch: 1 [42880/60000 (71%)]\tLoss: 0.233334\n",
      "Train Epoch: 1 [43520/60000 (72%)]\tLoss: 0.114573\n",
      "Train Epoch: 1 [44160/60000 (74%)]\tLoss: 0.003709\n",
      "Train Epoch: 1 [44800/60000 (75%)]\tLoss: 0.173293\n",
      "Train Epoch: 1 [45440/60000 (76%)]\tLoss: 0.139897\n",
      "Train Epoch: 1 [46080/60000 (77%)]\tLoss: 0.176583\n",
      "Train Epoch: 1 [46720/60000 (78%)]\tLoss: 0.156251\n",
      "Train Epoch: 1 [47360/60000 (79%)]\tLoss: 0.136887\n",
      "Train Epoch: 1 [48000/60000 (80%)]\tLoss: 0.065438\n",
      "Train Epoch: 1 [48640/60000 (81%)]\tLoss: 0.020145\n",
      "Train Epoch: 1 [49280/60000 (82%)]\tLoss: 0.073343\n",
      "Train Epoch: 1 [49920/60000 (83%)]\tLoss: 0.054227\n",
      "Train Epoch: 1 [50560/60000 (84%)]\tLoss: 0.145155\n",
      "Train Epoch: 1 [51200/60000 (85%)]\tLoss: 0.171453\n",
      "Train Epoch: 1 [51840/60000 (86%)]\tLoss: 0.088392\n",
      "Train Epoch: 1 [52480/60000 (87%)]\tLoss: 0.013878\n",
      "Train Epoch: 1 [53120/60000 (88%)]\tLoss: 0.126841\n",
      "Train Epoch: 1 [53760/60000 (90%)]\tLoss: 0.085010\n",
      "Train Epoch: 1 [54400/60000 (91%)]\tLoss: 0.079566\n",
      "Train Epoch: 1 [55040/60000 (92%)]\tLoss: 0.062012\n",
      "Train Epoch: 1 [55680/60000 (93%)]\tLoss: 0.188463\n",
      "Train Epoch: 1 [56320/60000 (94%)]\tLoss: 0.084765\n",
      "Train Epoch: 1 [56960/60000 (95%)]\tLoss: 0.021545\n",
      "Train Epoch: 1 [57600/60000 (96%)]\tLoss: 0.210227\n",
      "Train Epoch: 1 [58240/60000 (97%)]\tLoss: 0.019627\n",
      "Train Epoch: 1 [58880/60000 (98%)]\tLoss: 0.012372\n",
      "Train Epoch: 1 [59520/60000 (99%)]\tLoss: 0.003833\n",
      "\n",
      "Test set: Average loss: 0.0470, Accuracy: 9853/10000 (99%)\n",
      "\n"
     ]
    }
   ],
   "source": [
    "my_model = train_model()\n"
   ]
  },
  {
   "cell_type": "code",
   "execution_count": 8,
   "id": "3c9532c4-8671-43b1-8f86-4aa74dac30dd",
   "metadata": {},
   "outputs": [],
   "source": [
    "\n",
    "# Replace `API_KEY` with your SlasML API token.\n",
    "client = ModelDeployment(api_key=\"68b50f46b97f8c0f98fe419df240a22af3da392f\")\n"
   ]
  },
  {
   "cell_type": "code",
   "execution_count": 9,
   "id": "6a4a387c-f45a-452b-962e-3aecf8ed170b",
   "metadata": {},
   "outputs": [
    {
     "name": "stdout",
     "output_type": "stream",
     "text": [
      "> \u001b[0;32m/Users/faizank/workspace/experiments/live_projects/slashml/sdk_tests/venv-3.9.1/lib/python3.9/site-packages/truss/model_frameworks/pytorch.py\u001b[0m(61)\u001b[0;36m_torch_package\u001b[0;34m()\u001b[0m\n",
      "\u001b[0;32m     59 \u001b[0;31m        \u001b[0;32mimport\u001b[0m \u001b[0mpdb\u001b[0m\u001b[0;34m\u001b[0m\u001b[0;34m\u001b[0m\u001b[0m\n",
      "\u001b[0m\u001b[0;32m     60 \u001b[0;31m        \u001b[0mpdb\u001b[0m\u001b[0;34m.\u001b[0m\u001b[0mset_trace\u001b[0m\u001b[0;34m(\u001b[0m\u001b[0;34m)\u001b[0m\u001b[0;34m\u001b[0m\u001b[0;34m\u001b[0m\u001b[0m\n",
      "\u001b[0m\u001b[0;32m---> 61 \u001b[0;31m        \u001b[0mexp\u001b[0m\u001b[0;34m.\u001b[0m\u001b[0msave_pickle\u001b[0m\u001b[0;34m(\u001b[0m\u001b[0mTORCH_MODEL_PACKAGE_NAME\u001b[0m\u001b[0;34m,\u001b[0m \u001b[0mTORCH_MODEL_PICKLE_FILENAME\u001b[0m\u001b[0;34m,\u001b[0m \u001b[0mmodel\u001b[0m\u001b[0;34m)\u001b[0m\u001b[0;34m\u001b[0m\u001b[0;34m\u001b[0m\u001b[0m\n",
      "\u001b[0m\u001b[0;32m     62 \u001b[0;31m\u001b[0;34m\u001b[0m\u001b[0m\n",
      "\u001b[0m\u001b[0;32m     63 \u001b[0;31m\u001b[0;34m\u001b[0m\u001b[0m\n",
      "\u001b[0m\n"
     ]
    },
    {
     "name": "stdin",
     "output_type": "stream",
     "text": [
      "ipdb>  c\n"
     ]
    },
    {
     "name": "stderr",
     "output_type": "stream",
     "text": [
      "/Users/faizank/workspace/experiments/live_projects/slashml/sdk_tests/venv-3.9.1/lib/python3.9/site-packages/torch/package/package_exporter.py:925: UserWarning: TypedStorage is deprecated. It will be removed in the future and UntypedStorage will be the only storage class. This should only matter to you if you are using storages directly.  To access UntypedStorage directly, use tensor.untyped_storage() instead of tensor.storage()\n",
      "  storage_type_str = obj.pickle_storage_type()\n"
     ]
    },
    {
     "name": "stdout",
     "output_type": "stream",
     "text": [
      "> \u001b[0;32m/Users/faizank/workspace/experiments/live_projects/slashml/sdk_tests/venv-3.9.1/lib/python3.9/site-packages/torch/package/package_exporter.py\u001b[0m(1090)\u001b[0;36mclose\u001b[0;34m()\u001b[0m\n",
      "\u001b[0;32m   1088 \u001b[0;31m        \u001b[0;32mimport\u001b[0m \u001b[0mpdb\u001b[0m\u001b[0;34m\u001b[0m\u001b[0;34m\u001b[0m\u001b[0m\n",
      "\u001b[0m\u001b[0;32m   1089 \u001b[0;31m        \u001b[0mpdb\u001b[0m\u001b[0;34m.\u001b[0m\u001b[0mset_trace\u001b[0m\u001b[0;34m(\u001b[0m\u001b[0;34m)\u001b[0m\u001b[0;34m\u001b[0m\u001b[0;34m\u001b[0m\u001b[0m\n",
      "\u001b[0m\u001b[0;32m-> 1090 \u001b[0;31m        \u001b[0mself\u001b[0m\u001b[0;34m.\u001b[0m\u001b[0m_execute_dependency_graph\u001b[0m\u001b[0;34m(\u001b[0m\u001b[0;34m)\u001b[0m\u001b[0;34m\u001b[0m\u001b[0;34m\u001b[0m\u001b[0m\n",
      "\u001b[0m\u001b[0;32m   1091 \u001b[0;31m        \u001b[0mself\u001b[0m\u001b[0;34m.\u001b[0m\u001b[0m_write_python_version\u001b[0m\u001b[0;34m(\u001b[0m\u001b[0;34m)\u001b[0m\u001b[0;34m\u001b[0m\u001b[0;34m\u001b[0m\u001b[0m\n",
      "\u001b[0m\u001b[0;32m   1092 \u001b[0;31m\u001b[0;34m\u001b[0m\u001b[0m\n",
      "\u001b[0m\n"
     ]
    },
    {
     "name": "stdin",
     "output_type": "stream",
     "text": [
      "ipdb>  c\n"
     ]
    },
    {
     "name": "stdout",
     "output_type": "stream",
     "text": [
      "> \u001b[0;32m/Users/faizank/workspace/experiments/live_projects/slashml/sdk_tests/venv-3.9.1/lib/python3.9/site-packages/truss/model_frameworks/pytorch.py\u001b[0m(31)\u001b[0;36mserialize_model_to_directory\u001b[0;34m()\u001b[0m\n",
      "\u001b[0;32m     29 \u001b[0;31m            \u001b[0;32mimport\u001b[0m \u001b[0mpdb\u001b[0m\u001b[0;34m\u001b[0m\u001b[0;34m\u001b[0m\u001b[0m\n",
      "\u001b[0m\u001b[0;32m     30 \u001b[0;31m            \u001b[0mpdb\u001b[0m\u001b[0;34m.\u001b[0m\u001b[0mset_trace\u001b[0m\u001b[0;34m(\u001b[0m\u001b[0;34m)\u001b[0m\u001b[0;34m\u001b[0m\u001b[0;34m\u001b[0m\u001b[0m\n",
      "\u001b[0m\u001b[0;32m---> 31 \u001b[0;31m            _torch_package(\n",
      "\u001b[0m\u001b[0;32m     32 \u001b[0;31m                \u001b[0mmodel\u001b[0m\u001b[0;34m,\u001b[0m \u001b[0mtarget_directory\u001b[0m \u001b[0;34m/\u001b[0m \u001b[0mTORCH_PACKAGE_FILE\u001b[0m\u001b[0;34m,\u001b[0m \u001b[0mmodules_to_extern\u001b[0m\u001b[0;34m\u001b[0m\u001b[0;34m\u001b[0m\u001b[0m\n",
      "\u001b[0m\u001b[0;32m     33 \u001b[0;31m            )\n",
      "\u001b[0m\n"
     ]
    },
    {
     "name": "stdin",
     "output_type": "stream",
     "text": [
      "ipdb>  c\n"
     ]
    },
    {
     "name": "stdout",
     "output_type": "stream",
     "text": [
      "> \u001b[0;32m/Users/faizank/workspace/experiments/live_projects/slashml/sdk_tests/venv-3.9.1/lib/python3.9/site-packages/truss/model_frameworks/pytorch.py\u001b[0m(61)\u001b[0;36m_torch_package\u001b[0;34m()\u001b[0m\n",
      "\u001b[0;32m     59 \u001b[0;31m        \u001b[0;32mimport\u001b[0m \u001b[0mpdb\u001b[0m\u001b[0;34m\u001b[0m\u001b[0;34m\u001b[0m\u001b[0m\n",
      "\u001b[0m\u001b[0;32m     60 \u001b[0;31m        \u001b[0mpdb\u001b[0m\u001b[0;34m.\u001b[0m\u001b[0mset_trace\u001b[0m\u001b[0;34m(\u001b[0m\u001b[0;34m)\u001b[0m\u001b[0;34m\u001b[0m\u001b[0;34m\u001b[0m\u001b[0m\n",
      "\u001b[0m\u001b[0;32m---> 61 \u001b[0;31m        \u001b[0mexp\u001b[0m\u001b[0;34m.\u001b[0m\u001b[0msave_pickle\u001b[0m\u001b[0;34m(\u001b[0m\u001b[0mTORCH_MODEL_PACKAGE_NAME\u001b[0m\u001b[0;34m,\u001b[0m \u001b[0mTORCH_MODEL_PICKLE_FILENAME\u001b[0m\u001b[0;34m,\u001b[0m \u001b[0mmodel\u001b[0m\u001b[0;34m)\u001b[0m\u001b[0;34m\u001b[0m\u001b[0;34m\u001b[0m\u001b[0m\n",
      "\u001b[0m\u001b[0;32m     62 \u001b[0;31m\u001b[0;34m\u001b[0m\u001b[0m\n",
      "\u001b[0m\u001b[0;32m     63 \u001b[0;31m\u001b[0;34m\u001b[0m\u001b[0m\n",
      "\u001b[0m\n"
     ]
    },
    {
     "name": "stdin",
     "output_type": "stream",
     "text": [
      "ipdb>  c\n"
     ]
    },
    {
     "name": "stdout",
     "output_type": "stream",
     "text": [
      "> \u001b[0;32m/Users/faizank/workspace/experiments/live_projects/slashml/sdk_tests/venv-3.9.1/lib/python3.9/site-packages/torch/package/package_exporter.py\u001b[0m(1090)\u001b[0;36mclose\u001b[0;34m()\u001b[0m\n",
      "\u001b[0;32m   1088 \u001b[0;31m        \u001b[0;32mimport\u001b[0m \u001b[0mpdb\u001b[0m\u001b[0;34m\u001b[0m\u001b[0;34m\u001b[0m\u001b[0m\n",
      "\u001b[0m\u001b[0;32m   1089 \u001b[0;31m        \u001b[0mpdb\u001b[0m\u001b[0;34m.\u001b[0m\u001b[0mset_trace\u001b[0m\u001b[0;34m(\u001b[0m\u001b[0;34m)\u001b[0m\u001b[0;34m\u001b[0m\u001b[0;34m\u001b[0m\u001b[0m\n",
      "\u001b[0m\u001b[0;32m-> 1090 \u001b[0;31m        \u001b[0mself\u001b[0m\u001b[0;34m.\u001b[0m\u001b[0m_execute_dependency_graph\u001b[0m\u001b[0;34m(\u001b[0m\u001b[0;34m)\u001b[0m\u001b[0;34m\u001b[0m\u001b[0;34m\u001b[0m\u001b[0m\n",
      "\u001b[0m\u001b[0;32m   1091 \u001b[0;31m        \u001b[0mself\u001b[0m\u001b[0;34m.\u001b[0m\u001b[0m_write_python_version\u001b[0m\u001b[0;34m(\u001b[0m\u001b[0;34m)\u001b[0m\u001b[0;34m\u001b[0m\u001b[0;34m\u001b[0m\u001b[0m\n",
      "\u001b[0m\u001b[0;32m   1092 \u001b[0;31m\u001b[0;34m\u001b[0m\u001b[0m\n",
      "\u001b[0m\n"
     ]
    },
    {
     "name": "stdin",
     "output_type": "stream",
     "text": [
      "ipdb>  c\n"
     ]
    },
    {
     "ename": "PackagingError",
     "evalue": "\n* Module had no __file__ defined.\n    __main__\n      A path to __main__: <torch_model.model.pkl> -> __main__",
     "output_type": "error",
     "traceback": [
      "\u001b[0;31m---------------------------------------------------------------------------\u001b[0m",
      "\u001b[0;31mPackagingError\u001b[0m                            Traceback (most recent call last)",
      "File \u001b[0;32m~/workspace/experiments/live_projects/slashml/sdk_tests/venv-3.9.1/lib/python3.9/site-packages/truss/model_frameworks/pytorch.py:24\u001b[0m, in \u001b[0;36mPyTorch.serialize_model_to_directory\u001b[0;34m(self, model, target_directory)\u001b[0m\n\u001b[1;32m     23\u001b[0m \u001b[38;5;28;01mtry\u001b[39;00m:\n\u001b[0;32m---> 24\u001b[0m     \u001b[43m_torch_package\u001b[49m\u001b[43m(\u001b[49m\u001b[43mmodel\u001b[49m\u001b[43m,\u001b[49m\u001b[43m \u001b[49m\u001b[43mtarget_directory\u001b[49m\u001b[43m \u001b[49m\u001b[38;5;241;43m/\u001b[39;49m\u001b[43m \u001b[49m\u001b[43mTORCH_PACKAGE_FILE\u001b[49m\u001b[43m,\u001b[49m\u001b[43m \u001b[49m\u001b[43m[\u001b[49m\u001b[43m]\u001b[49m\u001b[43m)\u001b[49m\n\u001b[1;32m     25\u001b[0m \u001b[38;5;28;01mexcept\u001b[39;00m package\u001b[38;5;241m.\u001b[39mpackage_exporter\u001b[38;5;241m.\u001b[39mPackagingError \u001b[38;5;28;01mas\u001b[39;00m pkg_err:\n\u001b[1;32m     26\u001b[0m     \u001b[38;5;66;03m# Make sure previous, potentially partially written, package is gone\u001b[39;00m\n",
      "File \u001b[0;32m~/workspace/experiments/live_projects/slashml/sdk_tests/venv-3.9.1/lib/python3.9/site-packages/truss/model_frameworks/pytorch.py:61\u001b[0m, in \u001b[0;36m_torch_package\u001b[0;34m(model, path, extern_modules)\u001b[0m\n\u001b[1;32m     60\u001b[0m pdb\u001b[38;5;241m.\u001b[39mset_trace()\n\u001b[0;32m---> 61\u001b[0m exp\u001b[38;5;241m.\u001b[39msave_pickle(TORCH_MODEL_PACKAGE_NAME, TORCH_MODEL_PICKLE_FILENAME, model)\n",
      "File \u001b[0;32m~/workspace/experiments/live_projects/slashml/sdk_tests/venv-3.9.1/lib/python3.9/site-packages/torch/package/package_exporter.py:984\u001b[0m, in \u001b[0;36mPackageExporter.__exit__\u001b[0;34m(self, exc_type, exc_value, traceback)\u001b[0m\n\u001b[1;32m    982\u001b[0m     \u001b[38;5;28;01mreturn\u001b[39;00m\n\u001b[0;32m--> 984\u001b[0m \u001b[38;5;28;43mself\u001b[39;49m\u001b[38;5;241;43m.\u001b[39;49m\u001b[43mclose\u001b[49m\u001b[43m(\u001b[49m\u001b[43m)\u001b[49m\n",
      "File \u001b[0;32m~/workspace/experiments/live_projects/slashml/sdk_tests/venv-3.9.1/lib/python3.9/site-packages/torch/package/package_exporter.py:1090\u001b[0m, in \u001b[0;36mPackageExporter.close\u001b[0;34m(self)\u001b[0m\n\u001b[1;32m   1089\u001b[0m pdb\u001b[38;5;241m.\u001b[39mset_trace()\n\u001b[0;32m-> 1090\u001b[0m \u001b[38;5;28;43mself\u001b[39;49m\u001b[38;5;241;43m.\u001b[39;49m\u001b[43m_execute_dependency_graph\u001b[49m\u001b[43m(\u001b[49m\u001b[43m)\u001b[49m\n\u001b[1;32m   1091\u001b[0m \u001b[38;5;28mself\u001b[39m\u001b[38;5;241m.\u001b[39m_write_python_version()\n",
      "File \u001b[0;32m~/workspace/experiments/live_projects/slashml/sdk_tests/venv-3.9.1/lib/python3.9/site-packages/torch/package/package_exporter.py:1025\u001b[0m, in \u001b[0;36mPackageExporter._execute_dependency_graph\u001b[0;34m(self)\u001b[0m\n\u001b[1;32m   1022\u001b[0m \u001b[38;5;250m\u001b[39m\u001b[38;5;124;03m\"\"\"Takes a finalized dependency graph describing how to package all\u001b[39;00m\n\u001b[1;32m   1023\u001b[0m \u001b[38;5;124;03mmodules and executes it, writing to the ZIP archive.\u001b[39;00m\n\u001b[1;32m   1024\u001b[0m \u001b[38;5;124;03m\"\"\"\u001b[39;00m\n\u001b[0;32m-> 1025\u001b[0m \u001b[38;5;28;43mself\u001b[39;49m\u001b[38;5;241;43m.\u001b[39;49m\u001b[43m_validate_dependency_graph\u001b[49m\u001b[43m(\u001b[49m\u001b[43m)\u001b[49m\n\u001b[1;32m   1027\u001b[0m extern_modules \u001b[38;5;241m=\u001b[39m []\n",
      "File \u001b[0;32m~/workspace/experiments/live_projects/slashml/sdk_tests/venv-3.9.1/lib/python3.9/site-packages/torch/package/package_exporter.py:1007\u001b[0m, in \u001b[0;36mPackageExporter._validate_dependency_graph\u001b[0;34m(self)\u001b[0m\n\u001b[1;32m   1006\u001b[0m     \u001b[38;5;28;01mif\u001b[39;00m \u001b[38;5;124m\"\u001b[39m\u001b[38;5;124merror\u001b[39m\u001b[38;5;124m\"\u001b[39m \u001b[38;5;129;01min\u001b[39;00m attrs:\n\u001b[0;32m-> 1007\u001b[0m         \u001b[38;5;28;01mraise\u001b[39;00m PackagingError(\u001b[38;5;28mself\u001b[39m\u001b[38;5;241m.\u001b[39mdependency_graph, debug\u001b[38;5;241m=\u001b[39m\u001b[38;5;28mself\u001b[39m\u001b[38;5;241m.\u001b[39mdebug)\n\u001b[1;32m   1009\u001b[0m \u001b[38;5;66;03m# 2. Check that all patterns for which allow_empty=False have been matched at least once.\u001b[39;00m\n",
      "\u001b[0;31mPackagingError\u001b[0m: \n* Module had no __file__ defined.\n    __main__\n      A path to __main__: <torch_model.model.pkl> -> __main__",
      "\nDuring handling of the above exception, another exception occurred:\n",
      "\u001b[0;31mPackagingError\u001b[0m                            Traceback (most recent call last)",
      "Cell \u001b[0;32mIn[9], line 2\u001b[0m\n\u001b[1;32m      1\u001b[0m \u001b[38;5;66;03m# deploy model\u001b[39;00m\n\u001b[0;32m----> 2\u001b[0m response \u001b[38;5;241m=\u001b[39m \u001b[43mclient\u001b[49m\u001b[38;5;241;43m.\u001b[39;49m\u001b[43mdeploy\u001b[49m\u001b[43m(\u001b[49m\u001b[43mmodel_name\u001b[49m\u001b[38;5;241;43m=\u001b[39;49m\u001b[38;5;124;43m'\u001b[39;49m\u001b[38;5;124;43mpytorch-model\u001b[39;49m\u001b[38;5;124;43m'\u001b[39;49m\u001b[43m,\u001b[49m\u001b[43m \u001b[49m\u001b[43mmodel\u001b[49m\u001b[38;5;241;43m=\u001b[39;49m\u001b[43mmy_model\u001b[49m\u001b[43m)\u001b[49m\n",
      "File \u001b[0;32m~/workspace/experiments/live_projects/slashml/sdk_tests/slashml/slashml/model_deployment.py:38\u001b[0m, in \u001b[0;36mModelDeployment.deploy\u001b[0;34m(self, model_name, model, requirements)\u001b[0m\n\u001b[1;32m     34\u001b[0m             f\u001b[38;5;241m.\u001b[39mwrite(\u001b[38;5;124m\"\u001b[39m\u001b[38;5;132;01m%s\u001b[39;00m\u001b[38;5;130;01m\\n\u001b[39;00m\u001b[38;5;124m\"\u001b[39m \u001b[38;5;241m%\u001b[39m item)\n\u001b[1;32m     36\u001b[0m     requirements_file_path \u001b[38;5;241m=\u001b[39m \u001b[38;5;124m'\u001b[39m\u001b[38;5;124mrequirements.txt\u001b[39m\u001b[38;5;124m'\u001b[39m\n\u001b[0;32m---> 38\u001b[0m \u001b[43mtruss\u001b[49m\u001b[38;5;241;43m.\u001b[39;49m\u001b[43mcreate\u001b[49m\u001b[43m(\u001b[49m\u001b[43mmodel\u001b[49m\u001b[43m,\u001b[49m\u001b[43m \u001b[49m\u001b[38;5;124;43m'\u001b[39;49m\u001b[38;5;124;43mmy_model\u001b[39;49m\u001b[38;5;124;43m'\u001b[39;49m\u001b[43m)\u001b[49m\n\u001b[1;32m     39\u001b[0m \u001b[38;5;28mself\u001b[39m\u001b[38;5;241m.\u001b[39mcreate_tar_gz(folder_path\u001b[38;5;241m=\u001b[39m\u001b[38;5;124m'\u001b[39m\u001b[38;5;124mmy_model\u001b[39m\u001b[38;5;124m'\u001b[39m, tar_gz_filename\u001b[38;5;241m=\u001b[39m\u001b[38;5;124m'\u001b[39m\u001b[38;5;124mmy_model.tar.gz\u001b[39m\u001b[38;5;124m'\u001b[39m)\n\u001b[1;32m     41\u001b[0m url \u001b[38;5;241m=\u001b[39m generateURL(\u001b[38;5;28mself\u001b[39m\u001b[38;5;241m.\u001b[39m_base_url, \u001b[38;5;124m\"\u001b[39m\u001b[38;5;124mmodels\u001b[39m\u001b[38;5;124m\"\u001b[39m)\n",
      "File \u001b[0;32m~/workspace/experiments/live_projects/slashml/sdk_tests/venv-3.9.1/lib/python3.9/site-packages/truss/build.py:283\u001b[0m, in \u001b[0;36mcreate\u001b[0;34m(model, target_directory, data_files, requirements_file, bundled_packages)\u001b[0m\n\u001b[1;32m    273\u001b[0m \u001b[38;5;28;01mdef\u001b[39;00m \u001b[38;5;21mcreate\u001b[39m(\n\u001b[1;32m    274\u001b[0m     model: Any,\n\u001b[1;32m    275\u001b[0m     target_directory: Optional[\u001b[38;5;28mstr\u001b[39m] \u001b[38;5;241m=\u001b[39m \u001b[38;5;28;01mNone\u001b[39;00m,\n\u001b[0;32m   (...)\u001b[0m\n\u001b[1;32m    280\u001b[0m     \u001b[38;5;66;03m# Some model objects can are callable (like Keras models)\u001b[39;00m\n\u001b[1;32m    281\u001b[0m     \u001b[38;5;66;03m# so we first attempt to make Truss via a model object\u001b[39;00m\n\u001b[0;32m--> 283\u001b[0m     model_scaffold \u001b[38;5;241m=\u001b[39m \u001b[43mcreate_from_model_with_exception_handler\u001b[49m\u001b[43m(\u001b[49m\n\u001b[1;32m    284\u001b[0m \u001b[43m        \u001b[49m\u001b[43mmodel\u001b[49m\u001b[43m,\u001b[49m\u001b[43m \u001b[49m\u001b[43mtarget_directory\u001b[49m\u001b[43m,\u001b[49m\u001b[43m \u001b[49m\u001b[43mdata_files\u001b[49m\u001b[43m,\u001b[49m\u001b[43m \u001b[49m\u001b[43mrequirements_file\u001b[49m\u001b[43m,\u001b[49m\u001b[43m \u001b[49m\u001b[43mbundled_packages\u001b[49m\n\u001b[1;32m    285\u001b[0m \u001b[43m    \u001b[49m\u001b[43m)\u001b[49m\n\u001b[1;32m    286\u001b[0m     \u001b[38;5;28;01mif\u001b[39;00m model_scaffold:\n\u001b[1;32m    287\u001b[0m         \u001b[38;5;28;01mreturn\u001b[39;00m model_scaffold\n",
      "File \u001b[0;32m~/workspace/experiments/live_projects/slashml/sdk_tests/venv-3.9.1/lib/python3.9/site-packages/truss/build.py:212\u001b[0m, in \u001b[0;36mcreate_from_model_with_exception_handler\u001b[0;34m(*args)\u001b[0m\n\u001b[1;32m    209\u001b[0m \u001b[38;5;28;01mdef\u001b[39;00m \u001b[38;5;21mcreate_from_model_with_exception_handler\u001b[39m(\u001b[38;5;241m*\u001b[39margs):\n\u001b[1;32m    210\u001b[0m     \u001b[38;5;66;03m# returns None if framework not supported, otherwise the Truss\u001b[39;00m\n\u001b[1;32m    211\u001b[0m     \u001b[38;5;28;01mtry\u001b[39;00m:\n\u001b[0;32m--> 212\u001b[0m         \u001b[38;5;28;01mreturn\u001b[39;00m \u001b[43mcreate_from_model\u001b[49m\u001b[43m(\u001b[49m\u001b[38;5;241;43m*\u001b[39;49m\u001b[43margs\u001b[49m\u001b[43m)\u001b[49m\n\u001b[1;32m    213\u001b[0m     \u001b[38;5;28;01mexcept\u001b[39;00m FrameworkNotSupportedError:\n\u001b[1;32m    214\u001b[0m         \u001b[38;5;28;01mreturn\u001b[39;00m \u001b[38;5;28;01mNone\u001b[39;00m\n",
      "File \u001b[0;32m~/workspace/experiments/live_projects/slashml/sdk_tests/venv-3.9.1/lib/python3.9/site-packages/truss/build.py:108\u001b[0m, in \u001b[0;36mcreate_from_model\u001b[0;34m(model, target_directory, data_files, requirements_file, bundled_packages)\u001b[0m\n\u001b[1;32m    106\u001b[0m \u001b[38;5;28;01melse\u001b[39;00m:\n\u001b[1;32m    107\u001b[0m     target_directory_path \u001b[38;5;241m=\u001b[39m Path(target_directory)\n\u001b[0;32m--> 108\u001b[0m \u001b[43mmodel_framework\u001b[49m\u001b[38;5;241;43m.\u001b[39;49m\u001b[43mto_truss\u001b[49m\u001b[43m(\u001b[49m\u001b[43mmodel\u001b[49m\u001b[43m,\u001b[49m\u001b[43m \u001b[49m\u001b[43mtarget_directory_path\u001b[49m\u001b[43m)\u001b[49m\n\u001b[1;32m    109\u001b[0m scaf \u001b[38;5;241m=\u001b[39m TrussHandle(target_directory_path)\n\u001b[1;32m    110\u001b[0m _update_truss_props(scaf, data_files, requirements_file, bundled_packages)\n",
      "File \u001b[0;32m~/workspace/experiments/live_projects/slashml/sdk_tests/venv-3.9.1/lib/python3.9/site-packages/truss/model_framework.py:51\u001b[0m, in \u001b[0;36mModelFramework.to_truss\u001b[0;34m(self, model, target_directory)\u001b[0m\n\u001b[1;32m     48\u001b[0m model_binary_dir\u001b[38;5;241m.\u001b[39mmkdir(parents\u001b[38;5;241m=\u001b[39m\u001b[38;5;28;01mTrue\u001b[39;00m, exist_ok\u001b[38;5;241m=\u001b[39m\u001b[38;5;28;01mTrue\u001b[39;00m)\n\u001b[1;32m     50\u001b[0m \u001b[38;5;66;03m# Serialize model and write it\u001b[39;00m\n\u001b[0;32m---> 51\u001b[0m \u001b[38;5;28;43mself\u001b[39;49m\u001b[38;5;241;43m.\u001b[39;49m\u001b[43mserialize_model_to_directory\u001b[49m\u001b[43m(\u001b[49m\u001b[43mmodel\u001b[49m\u001b[43m,\u001b[49m\u001b[43m \u001b[49m\u001b[43mmodel_binary_dir\u001b[49m\u001b[43m)\u001b[49m\n\u001b[1;32m     52\u001b[0m template_path \u001b[38;5;241m=\u001b[39m TEMPLATES_DIR \u001b[38;5;241m/\u001b[39m \u001b[38;5;28mself\u001b[39m\u001b[38;5;241m.\u001b[39mtyp()\u001b[38;5;241m.\u001b[39mvalue\n\u001b[1;32m     53\u001b[0m copy_tree_path(template_path \u001b[38;5;241m/\u001b[39m \u001b[38;5;124m\"\u001b[39m\u001b[38;5;124mmodel\u001b[39m\u001b[38;5;124m\"\u001b[39m, target_directory \u001b[38;5;241m/\u001b[39m \u001b[38;5;124m\"\u001b[39m\u001b[38;5;124mmodel\u001b[39m\u001b[38;5;124m\"\u001b[39m)\n",
      "File \u001b[0;32m~/workspace/experiments/live_projects/slashml/sdk_tests/venv-3.9.1/lib/python3.9/site-packages/truss/model_frameworks/pytorch.py:31\u001b[0m, in \u001b[0;36mPyTorch.serialize_model_to_directory\u001b[0;34m(self, model, target_directory)\u001b[0m\n\u001b[1;32m     29\u001b[0m \u001b[38;5;28;01mimport\u001b[39;00m \u001b[38;5;21;01mpdb\u001b[39;00m\n\u001b[1;32m     30\u001b[0m pdb\u001b[38;5;241m.\u001b[39mset_trace()\n\u001b[0;32m---> 31\u001b[0m \u001b[43m_torch_package\u001b[49m\u001b[43m(\u001b[49m\n\u001b[1;32m     32\u001b[0m \u001b[43m    \u001b[49m\u001b[43mmodel\u001b[49m\u001b[43m,\u001b[49m\u001b[43m \u001b[49m\u001b[43mtarget_directory\u001b[49m\u001b[43m \u001b[49m\u001b[38;5;241;43m/\u001b[39;49m\u001b[43m \u001b[49m\u001b[43mTORCH_PACKAGE_FILE\u001b[49m\u001b[43m,\u001b[49m\u001b[43m \u001b[49m\u001b[43mmodules_to_extern\u001b[49m\n\u001b[1;32m     33\u001b[0m \u001b[43m\u001b[49m\u001b[43m)\u001b[49m\n",
      "File \u001b[0;32m~/workspace/experiments/live_projects/slashml/sdk_tests/venv-3.9.1/lib/python3.9/site-packages/truss/model_frameworks/pytorch.py:61\u001b[0m, in \u001b[0;36m_torch_package\u001b[0;34m(model, path, extern_modules)\u001b[0m\n\u001b[1;32m     59\u001b[0m \u001b[38;5;28;01mimport\u001b[39;00m \u001b[38;5;21;01mpdb\u001b[39;00m\n\u001b[1;32m     60\u001b[0m pdb\u001b[38;5;241m.\u001b[39mset_trace()\n\u001b[0;32m---> 61\u001b[0m exp\u001b[38;5;241m.\u001b[39msave_pickle(TORCH_MODEL_PACKAGE_NAME, TORCH_MODEL_PICKLE_FILENAME, model)\n",
      "File \u001b[0;32m~/workspace/experiments/live_projects/slashml/sdk_tests/venv-3.9.1/lib/python3.9/site-packages/torch/package/package_exporter.py:984\u001b[0m, in \u001b[0;36mPackageExporter.__exit__\u001b[0;34m(self, exc_type, exc_value, traceback)\u001b[0m\n\u001b[1;32m    981\u001b[0m     \u001b[38;5;28mself\u001b[39m\u001b[38;5;241m.\u001b[39m_finalize_zip()\n\u001b[1;32m    982\u001b[0m     \u001b[38;5;28;01mreturn\u001b[39;00m\n\u001b[0;32m--> 984\u001b[0m \u001b[38;5;28;43mself\u001b[39;49m\u001b[38;5;241;43m.\u001b[39;49m\u001b[43mclose\u001b[49m\u001b[43m(\u001b[49m\u001b[43m)\u001b[49m\n",
      "File \u001b[0;32m~/workspace/experiments/live_projects/slashml/sdk_tests/venv-3.9.1/lib/python3.9/site-packages/torch/package/package_exporter.py:1090\u001b[0m, in \u001b[0;36mPackageExporter.close\u001b[0;34m(self)\u001b[0m\n\u001b[1;32m   1088\u001b[0m \u001b[38;5;28;01mimport\u001b[39;00m \u001b[38;5;21;01mpdb\u001b[39;00m\n\u001b[1;32m   1089\u001b[0m pdb\u001b[38;5;241m.\u001b[39mset_trace()\n\u001b[0;32m-> 1090\u001b[0m \u001b[38;5;28;43mself\u001b[39;49m\u001b[38;5;241;43m.\u001b[39;49m\u001b[43m_execute_dependency_graph\u001b[49m\u001b[43m(\u001b[49m\u001b[43m)\u001b[49m\n\u001b[1;32m   1091\u001b[0m \u001b[38;5;28mself\u001b[39m\u001b[38;5;241m.\u001b[39m_write_python_version()\n\u001b[1;32m   1093\u001b[0m \u001b[38;5;28mself\u001b[39m\u001b[38;5;241m.\u001b[39mscript_module_serializer\u001b[38;5;241m.\u001b[39mwrite_files()\n",
      "File \u001b[0;32m~/workspace/experiments/live_projects/slashml/sdk_tests/venv-3.9.1/lib/python3.9/site-packages/torch/package/package_exporter.py:1025\u001b[0m, in \u001b[0;36mPackageExporter._execute_dependency_graph\u001b[0;34m(self)\u001b[0m\n\u001b[1;32m   1021\u001b[0m \u001b[38;5;28;01mdef\u001b[39;00m \u001b[38;5;21m_execute_dependency_graph\u001b[39m(\u001b[38;5;28mself\u001b[39m):\n\u001b[1;32m   1022\u001b[0m \u001b[38;5;250m    \u001b[39m\u001b[38;5;124;03m\"\"\"Takes a finalized dependency graph describing how to package all\u001b[39;00m\n\u001b[1;32m   1023\u001b[0m \u001b[38;5;124;03m    modules and executes it, writing to the ZIP archive.\u001b[39;00m\n\u001b[1;32m   1024\u001b[0m \u001b[38;5;124;03m    \"\"\"\u001b[39;00m\n\u001b[0;32m-> 1025\u001b[0m     \u001b[38;5;28;43mself\u001b[39;49m\u001b[38;5;241;43m.\u001b[39;49m\u001b[43m_validate_dependency_graph\u001b[49m\u001b[43m(\u001b[49m\u001b[43m)\u001b[49m\n\u001b[1;32m   1027\u001b[0m     extern_modules \u001b[38;5;241m=\u001b[39m []\n\u001b[1;32m   1028\u001b[0m     \u001b[38;5;28;01mfor\u001b[39;00m module_name, attrs \u001b[38;5;129;01min\u001b[39;00m \u001b[38;5;28mself\u001b[39m\u001b[38;5;241m.\u001b[39mdependency_graph\u001b[38;5;241m.\u001b[39mnodes\u001b[38;5;241m.\u001b[39mitems():\n",
      "File \u001b[0;32m~/workspace/experiments/live_projects/slashml/sdk_tests/venv-3.9.1/lib/python3.9/site-packages/torch/package/package_exporter.py:1007\u001b[0m, in \u001b[0;36mPackageExporter._validate_dependency_graph\u001b[0;34m(self)\u001b[0m\n\u001b[1;32m   1005\u001b[0m \u001b[38;5;28;01mfor\u001b[39;00m module_name, attrs \u001b[38;5;129;01min\u001b[39;00m \u001b[38;5;28mself\u001b[39m\u001b[38;5;241m.\u001b[39mdependency_graph\u001b[38;5;241m.\u001b[39mnodes\u001b[38;5;241m.\u001b[39mitems():\n\u001b[1;32m   1006\u001b[0m     \u001b[38;5;28;01mif\u001b[39;00m \u001b[38;5;124m\"\u001b[39m\u001b[38;5;124merror\u001b[39m\u001b[38;5;124m\"\u001b[39m \u001b[38;5;129;01min\u001b[39;00m attrs:\n\u001b[0;32m-> 1007\u001b[0m         \u001b[38;5;28;01mraise\u001b[39;00m PackagingError(\u001b[38;5;28mself\u001b[39m\u001b[38;5;241m.\u001b[39mdependency_graph, debug\u001b[38;5;241m=\u001b[39m\u001b[38;5;28mself\u001b[39m\u001b[38;5;241m.\u001b[39mdebug)\n\u001b[1;32m   1009\u001b[0m \u001b[38;5;66;03m# 2. Check that all patterns for which allow_empty=False have been matched at least once.\u001b[39;00m\n\u001b[1;32m   1010\u001b[0m \u001b[38;5;28;01mfor\u001b[39;00m pattern, pattern_info \u001b[38;5;129;01min\u001b[39;00m \u001b[38;5;28mself\u001b[39m\u001b[38;5;241m.\u001b[39mpatterns\u001b[38;5;241m.\u001b[39mitems():\n",
      "\u001b[0;31mPackagingError\u001b[0m: \n* Module had no __file__ defined.\n    __main__\n      A path to __main__: <torch_model.model.pkl> -> __main__"
     ]
    }
   ],
   "source": [
    "# deploy model\n",
    "response = client.deploy(model_name='pytorch-model', model=my_model)\n"
   ]
  },
  {
   "cell_type": "code",
   "execution_count": 13,
   "id": "a50ff3ae-bdd9-4924-9b6a-fd60970e6cf5",
   "metadata": {},
   "outputs": [
    {
     "data": {
      "text/plain": [
       "{'id': '9b2ec8cb-729a-417e-a39a-ffab8b14cec0',\n",
       " 'created': '2023-09-19T21:38:44.989348Z',\n",
       " 'status': 'READY',\n",
       " 'name': 'pytorch-model'}"
      ]
     },
     "execution_count": 13,
     "metadata": {},
     "output_type": "execute_result"
    }
   ],
   "source": [
    "client.status(model_version_id=response.id)"
   ]
  },
  {
   "cell_type": "code",
   "execution_count": 14,
   "id": "92fa6f9c-66f1-4f18-bfb7-8b9804db3631",
   "metadata": {},
   "outputs": [
    {
     "name": "stdout",
     "output_type": "stream",
     "text": [
      "model ready\n"
     ]
    }
   ],
   "source": [
    "status = client.status(model_version_id=response.id)\n",
    "\n",
    "while status.status != 'READY':\n",
    "    print(f'status: {status.status}')\n",
    "    print('trying again in 5 seconds')\n",
    "    time.sleep(5)\n",
    "    status = client.status(model_version_id=response.id)\n",
    "\n",
    "    if status.status == 'FAILED':\n",
    "        raise Exception('Model deployment failed')\n",
    "\n",
    "print('model ready')"
   ]
  },
  {
   "cell_type": "code",
   "execution_count": 16,
   "id": "190a6c0d-d629-42ad-83b1-00426232d684",
   "metadata": {},
   "outputs": [],
   "source": [
    "# submit prediction\n",
    "transform = transforms.Compose(\n",
    "        [transforms.ToTensor(), transforms.Normalize((0.1307,), (0.3081,))]\n",
    "    )\n",
    "inputs = datasets.MNIST(\"../data\", train=False, transform=transform)\n",
    "dataset = torch.utils.data.DataLoader(inputs, batch_size=1)\n"
   ]
  },
  {
   "cell_type": "code",
   "execution_count": 19,
   "id": "272b359b-b81e-4775-bfa8-0f094b68d191",
   "metadata": {},
   "outputs": [
    {
     "data": {
      "text/plain": [
       "array([[[[-0.42421296, -0.42421296, -0.42421296, -0.42421296,\n",
       "          -0.42421296, -0.42421296, -0.42421296, -0.42421296,\n",
       "          -0.42421296, -0.42421296, -0.42421296, -0.42421296,\n",
       "          -0.42421296, -0.42421296, -0.42421296, -0.42421296,\n",
       "          -0.42421296, -0.42421296, -0.42421296, -0.42421296,\n",
       "          -0.42421296, -0.42421296, -0.42421296, -0.42421296,\n",
       "          -0.42421296, -0.42421296, -0.42421296, -0.42421296],\n",
       "         [-0.42421296, -0.42421296, -0.42421296, -0.42421296,\n",
       "          -0.42421296, -0.42421296, -0.42421296, -0.42421296,\n",
       "          -0.42421296, -0.42421296, -0.42421296, -0.42421296,\n",
       "          -0.42421296, -0.42421296, -0.42421296, -0.42421296,\n",
       "          -0.42421296, -0.42421296, -0.42421296, -0.42421296,\n",
       "          -0.42421296, -0.42421296, -0.42421296, -0.42421296,\n",
       "          -0.42421296, -0.42421296, -0.42421296, -0.42421296],\n",
       "         [-0.42421296, -0.42421296, -0.42421296, -0.42421296,\n",
       "          -0.42421296, -0.42421296, -0.42421296, -0.42421296,\n",
       "          -0.42421296, -0.42421296, -0.42421296, -0.42421296,\n",
       "          -0.42421296, -0.42421296, -0.42421296, -0.42421296,\n",
       "          -0.42421296, -0.42421296, -0.42421296, -0.42421296,\n",
       "          -0.42421296, -0.42421296, -0.42421296, -0.42421296,\n",
       "          -0.42421296, -0.42421296, -0.42421296, -0.42421296],\n",
       "         [-0.42421296, -0.42421296, -0.42421296, -0.42421296,\n",
       "          -0.42421296, -0.42421296, -0.42421296, -0.42421296,\n",
       "          -0.42421296, -0.42421296, -0.42421296, -0.42421296,\n",
       "          -0.42421296, -0.42421296, -0.42421296, -0.42421296,\n",
       "          -0.42421296, -0.42421296, -0.42421296, -0.42421296,\n",
       "          -0.42421296, -0.42421296, -0.42421296, -0.42421296,\n",
       "          -0.42421296, -0.42421296, -0.42421296, -0.42421296],\n",
       "         [-0.42421296, -0.42421296, -0.42421296, -0.42421296,\n",
       "          -0.42421296, -0.42421296, -0.42421296, -0.42421296,\n",
       "          -0.42421296, -0.42421296, -0.42421296, -0.42421296,\n",
       "          -0.42421296, -0.42421296, -0.42421296, -0.42421296,\n",
       "          -0.42421296, -0.42421296, -0.42421296, -0.42421296,\n",
       "          -0.42421296, -0.42421296, -0.42421296, -0.42421296,\n",
       "          -0.42421296, -0.42421296, -0.42421296, -0.42421296],\n",
       "         [-0.42421296, -0.42421296, -0.42421296, -0.42421296,\n",
       "          -0.42421296, -0.42421296, -0.42421296, -0.42421296,\n",
       "          -0.42421296, -0.42421296, -0.42421296, -0.42421296,\n",
       "          -0.42421296, -0.42421296, -0.42421296, -0.42421296,\n",
       "          -0.42421296, -0.42421296, -0.42421296, -0.42421296,\n",
       "          -0.42421296, -0.42421296, -0.42421296, -0.42421296,\n",
       "          -0.42421296, -0.42421296, -0.42421296, -0.42421296],\n",
       "         [-0.42421296, -0.42421296, -0.42421296, -0.42421296,\n",
       "          -0.42421296, -0.42421296, -0.42421296, -0.42421296,\n",
       "          -0.42421296, -0.42421296, -0.42421296, -0.42421296,\n",
       "          -0.42421296, -0.42421296, -0.42421296, -0.42421296,\n",
       "          -0.42421296, -0.42421296, -0.42421296, -0.42421296,\n",
       "          -0.42421296, -0.42421296, -0.42421296, -0.42421296,\n",
       "          -0.42421296, -0.42421296, -0.42421296, -0.42421296],\n",
       "         [-0.42421296, -0.42421296, -0.42421296, -0.42421296,\n",
       "          -0.42421296, -0.42421296,  0.64495873,  1.9305104 ,\n",
       "           1.5995764 ,  1.4977505 ,  0.33948106,  0.03400347,\n",
       "          -0.42421296, -0.42421296, -0.42421296, -0.42421296,\n",
       "          -0.42421296, -0.42421296, -0.42421296, -0.42421296,\n",
       "          -0.42421296, -0.42421296, -0.42421296, -0.42421296,\n",
       "          -0.42421296, -0.42421296, -0.42421296, -0.42421296],\n",
       "         [-0.42421296, -0.42421296, -0.42421296, -0.42421296,\n",
       "          -0.42421296, -0.42421296,  2.401455  ,  2.8087585 ,\n",
       "           2.8087585 ,  2.8087585 ,  2.8087585 ,  2.6432915 ,\n",
       "           2.0959773 ,  2.0959773 ,  2.0959773 ,  2.0959773 ,\n",
       "           2.0959773 ,  2.0959773 ,  2.0959773 ,  2.0959773 ,\n",
       "           1.7395868 ,  0.23765521, -0.42421296, -0.42421296,\n",
       "          -0.42421296, -0.42421296, -0.42421296, -0.42421296],\n",
       "         [-0.42421296, -0.42421296, -0.42421296, -0.42421296,\n",
       "          -0.42421296, -0.42421296,  0.42857873,  1.0268056 ,\n",
       "           0.49221992,  1.0268056 ,  1.6504892 ,  2.4650962 ,\n",
       "           2.8087585 ,  2.4396398 ,  2.8087585 ,  2.8087585 ,\n",
       "           2.8087585 ,  2.7578456 ,  2.4905527 ,  2.8087585 ,\n",
       "           2.8087585 ,  1.3577399 , -0.42421296, -0.42421296,\n",
       "          -0.42421296, -0.42421296, -0.42421296, -0.42421296],\n",
       "         [-0.42421296, -0.42421296, -0.42421296, -0.42421296,\n",
       "          -0.42421296, -0.42421296, -0.42421296, -0.42421296,\n",
       "          -0.42421296, -0.42421296, -0.42421296, -0.20783298,\n",
       "           0.41585052, -0.2460177 ,  0.42857873,  0.42857873,\n",
       "           0.42857873,  0.32675284, -0.15692005,  2.5796502 ,\n",
       "           2.8087585 ,  0.9249798 , -0.42421296, -0.42421296,\n",
       "          -0.42421296, -0.42421296, -0.42421296, -0.42421296],\n",
       "         [-0.42421296, -0.42421296, -0.42421296, -0.42421296,\n",
       "          -0.42421296, -0.42421296, -0.42421296, -0.42421296,\n",
       "          -0.42421296, -0.42421296, -0.42421296, -0.42421296,\n",
       "          -0.42421296, -0.42421296, -0.42421296, -0.42421296,\n",
       "          -0.42421296, -0.42421296,  0.63223046,  2.7960303 ,\n",
       "           2.235988  , -0.19510475, -0.42421296, -0.42421296,\n",
       "          -0.42421296, -0.42421296, -0.42421296, -0.42421296],\n",
       "         [-0.42421296, -0.42421296, -0.42421296, -0.42421296,\n",
       "          -0.42421296, -0.42421296, -0.42421296, -0.42421296,\n",
       "          -0.42421296, -0.42421296, -0.42421296, -0.42421296,\n",
       "          -0.42421296, -0.42421296, -0.42421296, -0.42421296,\n",
       "          -0.42421296, -0.14419182,  2.5414655 ,  2.8214867 ,\n",
       "           0.63223046, -0.42421296, -0.42421296, -0.42421296,\n",
       "          -0.42421296, -0.42421296, -0.42421296, -0.42421296],\n",
       "         [-0.42421296, -0.42421296, -0.42421296, -0.42421296,\n",
       "          -0.42421296, -0.42421296, -0.42421296, -0.42421296,\n",
       "          -0.42421296, -0.42421296, -0.42421296, -0.42421296,\n",
       "          -0.42421296, -0.42421296, -0.42421296, -0.42421296,\n",
       "          -0.42421296,  1.2177293 ,  2.8087585 ,  2.6051068 ,\n",
       "           0.13582934, -0.42421296, -0.42421296, -0.42421296,\n",
       "          -0.42421296, -0.42421296, -0.42421296, -0.42421296],\n",
       "         [-0.42421296, -0.42421296, -0.42421296, -0.42421296,\n",
       "          -0.42421296, -0.42421296, -0.42421296, -0.42421296,\n",
       "          -0.42421296, -0.42421296, -0.42421296, -0.42421296,\n",
       "          -0.42421296, -0.42421296, -0.42421296, -0.42421296,\n",
       "           0.32675284,  2.7451172 ,  2.8087585 ,  0.36493754,\n",
       "          -0.42421296, -0.42421296, -0.42421296, -0.42421296,\n",
       "          -0.42421296, -0.42421296, -0.42421296, -0.42421296],\n",
       "         [-0.42421296, -0.42421296, -0.42421296, -0.42421296,\n",
       "          -0.42421296, -0.42421296, -0.42421296, -0.42421296,\n",
       "          -0.42421296, -0.42421296, -0.42421296, -0.42421296,\n",
       "          -0.42421296, -0.42421296, -0.42421296, -0.42421296,\n",
       "           1.2686423 ,  2.8087585 ,  1.9559668 , -0.3605718 ,\n",
       "          -0.42421296, -0.42421296, -0.42421296, -0.42421296,\n",
       "          -0.42421296, -0.42421296, -0.42421296, -0.42421296],\n",
       "         [-0.42421296, -0.42421296, -0.42421296, -0.42421296,\n",
       "          -0.42421296, -0.42421296, -0.42421296, -0.42421296,\n",
       "          -0.42421296, -0.42421296, -0.42421296, -0.42421296,\n",
       "          -0.42421296, -0.42421296, -0.42421296, -0.30965886,\n",
       "           2.185075  ,  2.732389  ,  0.3140246 , -0.42421296,\n",
       "          -0.42421296, -0.42421296, -0.42421296, -0.42421296,\n",
       "          -0.42421296, -0.42421296, -0.42421296, -0.42421296],\n",
       "         [-0.42421296, -0.42421296, -0.42421296, -0.42421296,\n",
       "          -0.42421296, -0.42421296, -0.42421296, -0.42421296,\n",
       "          -0.42421296, -0.42421296, -0.42421296, -0.42421296,\n",
       "          -0.42421296, -0.42421296, -0.42421296,  1.1795444 ,\n",
       "           2.8087585 ,  1.8923256 , -0.42421296, -0.42421296,\n",
       "          -0.42421296, -0.42421296, -0.42421296, -0.42421296,\n",
       "          -0.42421296, -0.42421296, -0.42421296, -0.42421296],\n",
       "         [-0.42421296, -0.42421296, -0.42421296, -0.42421296,\n",
       "          -0.42421296, -0.42421296, -0.42421296, -0.42421296,\n",
       "          -0.42421296, -0.42421296, -0.42421296, -0.42421296,\n",
       "          -0.42421296, -0.42421296,  0.5304046 ,  2.7705739 ,\n",
       "           2.6305633 ,  0.30129635, -0.42421296, -0.42421296,\n",
       "          -0.42421296, -0.42421296, -0.42421296, -0.42421296,\n",
       "          -0.42421296, -0.42421296, -0.42421296, -0.42421296],\n",
       "         [-0.42421296, -0.42421296, -0.42421296, -0.42421296,\n",
       "          -0.42421296, -0.42421296, -0.42421296, -0.42421296,\n",
       "          -0.42421296, -0.42421296, -0.42421296, -0.42421296,\n",
       "          -0.42421296, -0.1823765 ,  2.3887267 ,  2.8087585 ,\n",
       "           1.688674  , -0.42421296, -0.42421296, -0.42421296,\n",
       "          -0.42421296, -0.42421296, -0.42421296, -0.42421296,\n",
       "          -0.42421296, -0.42421296, -0.42421296, -0.42421296],\n",
       "         [-0.42421296, -0.42421296, -0.42421296, -0.42421296,\n",
       "          -0.42421296, -0.42421296, -0.42421296, -0.42421296,\n",
       "          -0.42421296, -0.42421296, -0.42421296, -0.42421296,\n",
       "          -0.38602826,  2.1596186 ,  2.8087585 ,  2.3632703 ,\n",
       "           0.02127524, -0.42421296, -0.42421296, -0.42421296,\n",
       "          -0.42421296, -0.42421296, -0.42421296, -0.42421296,\n",
       "          -0.42421296, -0.42421296, -0.42421296, -0.42421296],\n",
       "         [-0.42421296, -0.42421296, -0.42421296, -0.42421296,\n",
       "          -0.42421296, -0.42421296, -0.42421296, -0.42421296,\n",
       "          -0.42421296, -0.42421296, -0.42421296, -0.42421296,\n",
       "           0.05945994,  2.8087585 ,  2.8087585 ,  0.55586106,\n",
       "          -0.42421296, -0.42421296, -0.42421296, -0.42421296,\n",
       "          -0.42421296, -0.42421296, -0.42421296, -0.42421296,\n",
       "          -0.42421296, -0.42421296, -0.42421296, -0.42421296],\n",
       "         [-0.42421296, -0.42421296, -0.42421296, -0.42421296,\n",
       "          -0.42421296, -0.42421296, -0.42421296, -0.42421296,\n",
       "          -0.42421296, -0.42421296, -0.42421296, -0.02963771,\n",
       "           2.4269114 ,  2.8087585 ,  1.0395339 , -0.41148472,\n",
       "          -0.42421296, -0.42421296, -0.42421296, -0.42421296,\n",
       "          -0.42421296, -0.42421296, -0.42421296, -0.42421296,\n",
       "          -0.42421296, -0.42421296, -0.42421296, -0.42421296],\n",
       "         [-0.42421296, -0.42421296, -0.42421296, -0.42421296,\n",
       "          -0.42421296, -0.42421296, -0.42421296, -0.42421296,\n",
       "          -0.42421296, -0.42421296, -0.42421296,  1.2686423 ,\n",
       "           2.8087585 ,  2.8087585 ,  0.23765521, -0.42421296,\n",
       "          -0.42421296, -0.42421296, -0.42421296, -0.42421296,\n",
       "          -0.42421296, -0.42421296, -0.42421296, -0.42421296,\n",
       "          -0.42421296, -0.42421296, -0.42421296, -0.42421296],\n",
       "         [-0.42421296, -0.42421296, -0.42421296, -0.42421296,\n",
       "          -0.42421296, -0.42421296, -0.42421296, -0.42421296,\n",
       "          -0.42421296, -0.42421296,  0.3522093 ,  2.6560197 ,\n",
       "           2.8087585 ,  2.8087585 ,  0.23765521, -0.42421296,\n",
       "          -0.42421296, -0.42421296, -0.42421296, -0.42421296,\n",
       "          -0.42421296, -0.42421296, -0.42421296, -0.42421296,\n",
       "          -0.42421296, -0.42421296, -0.42421296, -0.42421296],\n",
       "         [-0.42421296, -0.42421296, -0.42421296, -0.42421296,\n",
       "          -0.42421296, -0.42421296, -0.42421296, -0.42421296,\n",
       "          -0.42421296, -0.42421296,  1.1159033 ,  2.8087585 ,\n",
       "           2.8087585 ,  2.3632703 ,  0.08491641, -0.42421296,\n",
       "          -0.42421296, -0.42421296, -0.42421296, -0.42421296,\n",
       "          -0.42421296, -0.42421296, -0.42421296, -0.42421296,\n",
       "          -0.42421296, -0.42421296, -0.42421296, -0.42421296],\n",
       "         [-0.42421296, -0.42421296, -0.42421296, -0.42421296,\n",
       "          -0.42421296, -0.42421296, -0.42421296, -0.42421296,\n",
       "          -0.42421296, -0.42421296,  1.1159033 ,  2.8087585 ,\n",
       "           2.2105315 , -0.19510475, -0.42421296, -0.42421296,\n",
       "          -0.42421296, -0.42421296, -0.42421296, -0.42421296,\n",
       "          -0.42421296, -0.42421296, -0.42421296, -0.42421296,\n",
       "          -0.42421296, -0.42421296, -0.42421296, -0.42421296],\n",
       "         [-0.42421296, -0.42421296, -0.42421296, -0.42421296,\n",
       "          -0.42421296, -0.42421296, -0.42421296, -0.42421296,\n",
       "          -0.42421296, -0.42421296, -0.42421296, -0.42421296,\n",
       "          -0.42421296, -0.42421296, -0.42421296, -0.42421296,\n",
       "          -0.42421296, -0.42421296, -0.42421296, -0.42421296,\n",
       "          -0.42421296, -0.42421296, -0.42421296, -0.42421296,\n",
       "          -0.42421296, -0.42421296, -0.42421296, -0.42421296]]]],\n",
       "      dtype=float32)"
      ]
     },
     "execution_count": 19,
     "metadata": {},
     "output_type": "execute_result"
    }
   ],
   "source": [
    "import numpy as np\n",
    "\n",
    "model_input = np.array(next(iter(dataset))[0])\n",
    "\n",
    "model_input"
   ]
  },
  {
   "cell_type": "code",
   "execution_count": 79,
   "id": "9b739b62-a40f-4741-a9f9-4e0dd3288af1",
   "metadata": {},
   "outputs": [
    {
     "name": "stdout",
     "output_type": "stream",
     "text": [
      "{'id': '9b2ec8cb-729a-417e-a39a-ffab8b14cec0', 'model_input': [[[[-0.4242129623889923, -0.4242129623889923, -0.4242129623889923, -0.4242129623889923, -0.4242129623889923, -0.4242129623889923, -0.4242129623889923, -0.4242129623889923, -0.4242129623889923, -0.4242129623889923, -0.4242129623889923, -0.4242129623889923, -0.4242129623889923, -0.4242129623889923, -0.4242129623889923, -0.4242129623889923, -0.4242129623889923, -0.4242129623889923, -0.4242129623889923, -0.4242129623889923, -0.4242129623889923, -0.4242129623889923, -0.4242129623889923, -0.4242129623889923, -0.4242129623889923, -0.4242129623889923, -0.4242129623889923, -0.4242129623889923], [-0.4242129623889923, -0.4242129623889923, -0.4242129623889923, -0.4242129623889923, -0.4242129623889923, -0.4242129623889923, -0.4242129623889923, -0.4242129623889923, -0.4242129623889923, -0.4242129623889923, -0.4242129623889923, -0.4242129623889923, -0.4242129623889923, -0.4242129623889923, -0.4242129623889923, -0.4242129623889923, -0.4242129623889923, -0.4242129623889923, -0.4242129623889923, -0.4242129623889923, -0.4242129623889923, -0.4242129623889923, -0.4242129623889923, -0.4242129623889923, -0.4242129623889923, -0.4242129623889923, -0.4242129623889923, -0.4242129623889923], [-0.4242129623889923, -0.4242129623889923, -0.4242129623889923, -0.4242129623889923, -0.4242129623889923, -0.4242129623889923, -0.4242129623889923, -0.4242129623889923, -0.4242129623889923, -0.4242129623889923, -0.4242129623889923, -0.4242129623889923, -0.4242129623889923, -0.4242129623889923, -0.4242129623889923, -0.4242129623889923, -0.4242129623889923, -0.4242129623889923, -0.4242129623889923, -0.4242129623889923, -0.4242129623889923, -0.4242129623889923, -0.4242129623889923, -0.4242129623889923, -0.4242129623889923, -0.4242129623889923, -0.4242129623889923, -0.4242129623889923], [-0.4242129623889923, -0.4242129623889923, -0.4242129623889923, -0.4242129623889923, -0.4242129623889923, -0.4242129623889923, -0.4242129623889923, -0.4242129623889923, -0.4242129623889923, -0.4242129623889923, -0.4242129623889923, -0.4242129623889923, -0.4242129623889923, -0.4242129623889923, -0.4242129623889923, -0.4242129623889923, -0.4242129623889923, -0.4242129623889923, -0.4242129623889923, -0.4242129623889923, -0.4242129623889923, -0.4242129623889923, -0.4242129623889923, -0.4242129623889923, -0.4242129623889923, -0.4242129623889923, -0.4242129623889923, -0.4242129623889923], [-0.4242129623889923, -0.4242129623889923, -0.4242129623889923, -0.4242129623889923, -0.4242129623889923, -0.4242129623889923, -0.4242129623889923, -0.4242129623889923, -0.4242129623889923, -0.4242129623889923, -0.4242129623889923, -0.4242129623889923, -0.4242129623889923, -0.4242129623889923, -0.4242129623889923, -0.4242129623889923, -0.4242129623889923, -0.4242129623889923, -0.4242129623889923, -0.4242129623889923, -0.4242129623889923, -0.4242129623889923, -0.4242129623889923, -0.4242129623889923, -0.4242129623889923, -0.4242129623889923, -0.4242129623889923, -0.4242129623889923], [-0.4242129623889923, -0.4242129623889923, -0.4242129623889923, -0.4242129623889923, -0.4242129623889923, -0.4242129623889923, -0.4242129623889923, -0.4242129623889923, -0.4242129623889923, -0.4242129623889923, -0.4242129623889923, -0.4242129623889923, -0.4242129623889923, -0.4242129623889923, -0.4242129623889923, -0.4242129623889923, -0.4242129623889923, -0.4242129623889923, -0.4242129623889923, -0.4242129623889923, -0.4242129623889923, -0.4242129623889923, -0.4242129623889923, -0.4242129623889923, -0.4242129623889923, -0.4242129623889923, -0.4242129623889923, -0.4242129623889923], [-0.4242129623889923, -0.4242129623889923, -0.4242129623889923, -0.4242129623889923, -0.4242129623889923, -0.4242129623889923, -0.4242129623889923, -0.4242129623889923, -0.4242129623889923, -0.4242129623889923, -0.4242129623889923, -0.4242129623889923, -0.4242129623889923, -0.4242129623889923, -0.4242129623889923, -0.4242129623889923, -0.4242129623889923, -0.4242129623889923, -0.4242129623889923, -0.4242129623889923, -0.4242129623889923, -0.4242129623889923, -0.4242129623889923, -0.4242129623889923, -0.4242129623889923, -0.4242129623889923, -0.4242129623889923, -0.4242129623889923], [-0.4242129623889923, -0.4242129623889923, -0.4242129623889923, -0.4242129623889923, -0.4242129623889923, -0.4242129623889923, 0.6449587345123291, 1.930510401725769, 1.5995763540267944, 1.4977505207061768, 0.33948105573654175, 0.034003473818302155, -0.4242129623889923, -0.4242129623889923, -0.4242129623889923, -0.4242129623889923, -0.4242129623889923, -0.4242129623889923, -0.4242129623889923, -0.4242129623889923, -0.4242129623889923, -0.4242129623889923, -0.4242129623889923, -0.4242129623889923, -0.4242129623889923, -0.4242129623889923, -0.4242129623889923, -0.4242129623889923], [-0.4242129623889923, -0.4242129623889923, -0.4242129623889923, -0.4242129623889923, -0.4242129623889923, -0.4242129623889923, 2.4014549255371094, 2.808758497238159, 2.808758497238159, 2.808758497238159, 2.808758497238159, 2.643291473388672, 2.095977306365967, 2.095977306365967, 2.095977306365967, 2.095977306365967, 2.095977306365967, 2.095977306365967, 2.095977306365967, 2.095977306365967, 1.7395868301391602, 0.23765520751476288, -0.4242129623889923, -0.4242129623889923, -0.4242129623889923, -0.4242129623889923, -0.4242129623889923, -0.4242129623889923], [-0.4242129623889923, -0.4242129623889923, -0.4242129623889923, -0.4242129623889923, -0.4242129623889923, -0.4242129623889923, 0.4285787343978882, 1.0268056392669678, 0.4922199249267578, 1.0268056392669678, 1.6504892110824585, 2.4650962352752686, 2.808758497238159, 2.4396398067474365, 2.808758497238159, 2.808758497238159, 2.808758497238159, 2.757845640182495, 2.4905526638031006, 2.808758497238159, 2.808758497238159, 1.3577399253845215, -0.4242129623889923, -0.4242129623889923, -0.4242129623889923, -0.4242129623889923, -0.4242129623889923, -0.4242129623889923], [-0.4242129623889923, -0.4242129623889923, -0.4242129623889923, -0.4242129623889923, -0.4242129623889923, -0.4242129623889923, -0.4242129623889923, -0.4242129623889923, -0.4242129623889923, -0.4242129623889923, -0.4242129623889923, -0.20783297717571259, 0.41585052013397217, -0.2460176944732666, 0.4285787343978882, 0.4285787343978882, 0.4285787343978882, 0.32675284147262573, -0.15692004561424255, 2.5796501636505127, 2.808758497238159, 0.9249798059463501, -0.4242129623889923, -0.4242129623889923, -0.4242129623889923, -0.4242129623889923, -0.4242129623889923, -0.4242129623889923], [-0.4242129623889923, -0.4242129623889923, -0.4242129623889923, -0.4242129623889923, -0.4242129623889923, -0.4242129623889923, -0.4242129623889923, -0.4242129623889923, -0.4242129623889923, -0.4242129623889923, -0.4242129623889923, -0.4242129623889923, -0.4242129623889923, -0.4242129623889923, -0.4242129623889923, -0.4242129623889923, -0.4242129623889923, -0.4242129623889923, 0.6322304606437683, 2.796030282974243, 2.235987901687622, -0.19510474801063538, -0.4242129623889923, -0.4242129623889923, -0.4242129623889923, -0.4242129623889923, -0.4242129623889923, -0.4242129623889923], [-0.4242129623889923, -0.4242129623889923, -0.4242129623889923, -0.4242129623889923, -0.4242129623889923, -0.4242129623889923, -0.4242129623889923, -0.4242129623889923, -0.4242129623889923, -0.4242129623889923, -0.4242129623889923, -0.4242129623889923, -0.4242129623889923, -0.4242129623889923, -0.4242129623889923, -0.4242129623889923, -0.4242129623889923, -0.14419181644916534, 2.5414655208587646, 2.821486711502075, 0.6322304606437683, -0.4242129623889923, -0.4242129623889923, -0.4242129623889923, -0.4242129623889923, -0.4242129623889923, -0.4242129623889923, -0.4242129623889923], [-0.4242129623889923, -0.4242129623889923, -0.4242129623889923, -0.4242129623889923, -0.4242129623889923, -0.4242129623889923, -0.4242129623889923, -0.4242129623889923, -0.4242129623889923, -0.4242129623889923, -0.4242129623889923, -0.4242129623889923, -0.4242129623889923, -0.4242129623889923, -0.4242129623889923, -0.4242129623889923, -0.4242129623889923, 1.2177293300628662, 2.808758497238159, 2.605106830596924, 0.13582934439182281, -0.4242129623889923, -0.4242129623889923, -0.4242129623889923, -0.4242129623889923, -0.4242129623889923, -0.4242129623889923, -0.4242129623889923], [-0.4242129623889923, -0.4242129623889923, -0.4242129623889923, -0.4242129623889923, -0.4242129623889923, -0.4242129623889923, -0.4242129623889923, -0.4242129623889923, -0.4242129623889923, -0.4242129623889923, -0.4242129623889923, -0.4242129623889923, -0.4242129623889923, -0.4242129623889923, -0.4242129623889923, -0.4242129623889923, 0.32675284147262573, 2.7451171875, 2.808758497238159, 0.36493754386901855, -0.4242129623889923, -0.4242129623889923, -0.4242129623889923, -0.4242129623889923, -0.4242129623889923, -0.4242129623889923, -0.4242129623889923, -0.4242129623889923], [-0.4242129623889923, -0.4242129623889923, -0.4242129623889923, -0.4242129623889923, -0.4242129623889923, -0.4242129623889923, -0.4242129623889923, -0.4242129623889923, -0.4242129623889923, -0.4242129623889923, -0.4242129623889923, -0.4242129623889923, -0.4242129623889923, -0.4242129623889923, -0.4242129623889923, -0.4242129623889923, 1.2686423063278198, 2.808758497238159, 1.955966830253601, -0.36057180166244507, -0.4242129623889923, -0.4242129623889923, -0.4242129623889923, -0.4242129623889923, -0.4242129623889923, -0.4242129623889923, -0.4242129623889923, -0.4242129623889923], [-0.4242129623889923, -0.4242129623889923, -0.4242129623889923, -0.4242129623889923, -0.4242129623889923, -0.4242129623889923, -0.4242129623889923, -0.4242129623889923, -0.4242129623889923, -0.4242129623889923, -0.4242129623889923, -0.4242129623889923, -0.4242129623889923, -0.4242129623889923, -0.4242129623889923, -0.30965885519981384, 2.185075044631958, 2.732388973236084, 0.31402459740638733, -0.4242129623889923, -0.4242129623889923, -0.4242129623889923, -0.4242129623889923, -0.4242129623889923, -0.4242129623889923, -0.4242129623889923, -0.4242129623889923, -0.4242129623889923], [-0.4242129623889923, -0.4242129623889923, -0.4242129623889923, -0.4242129623889923, -0.4242129623889923, -0.4242129623889923, -0.4242129623889923, -0.4242129623889923, -0.4242129623889923, -0.4242129623889923, -0.4242129623889923, -0.4242129623889923, -0.4242129623889923, -0.4242129623889923, -0.4242129623889923, 1.179544448852539, 2.808758497238159, 1.8923256397247314, -0.4242129623889923, -0.4242129623889923, -0.4242129623889923, -0.4242129623889923, -0.4242129623889923, -0.4242129623889923, -0.4242129623889923, -0.4242129623889923, -0.4242129623889923, -0.4242129623889923], [-0.4242129623889923, -0.4242129623889923, -0.4242129623889923, -0.4242129623889923, -0.4242129623889923, -0.4242129623889923, -0.4242129623889923, -0.4242129623889923, -0.4242129623889923, -0.4242129623889923, -0.4242129623889923, -0.4242129623889923, -0.4242129623889923, -0.4242129623889923, 0.5304046273231506, 2.770573854446411, 2.630563259124756, 0.3012963533401489, -0.4242129623889923, -0.4242129623889923, -0.4242129623889923, -0.4242129623889923, -0.4242129623889923, -0.4242129623889923, -0.4242129623889923, -0.4242129623889923, -0.4242129623889923, -0.4242129623889923], [-0.4242129623889923, -0.4242129623889923, -0.4242129623889923, -0.4242129623889923, -0.4242129623889923, -0.4242129623889923, -0.4242129623889923, -0.4242129623889923, -0.4242129623889923, -0.4242129623889923, -0.4242129623889923, -0.4242129623889923, -0.4242129623889923, -0.18237650394439697, 2.3887267112731934, 2.808758497238159, 1.688673973083496, -0.4242129623889923, -0.4242129623889923, -0.4242129623889923, -0.4242129623889923, -0.4242129623889923, -0.4242129623889923, -0.4242129623889923, -0.4242129623889923, -0.4242129623889923, -0.4242129623889923, -0.4242129623889923], [-0.4242129623889923, -0.4242129623889923, -0.4242129623889923, -0.4242129623889923, -0.4242129623889923, -0.4242129623889923, -0.4242129623889923, -0.4242129623889923, -0.4242129623889923, -0.4242129623889923, -0.4242129623889923, -0.4242129623889923, -0.3860282599925995, 2.159618616104126, 2.808758497238159, 2.3632702827453613, 0.021275240927934647, -0.4242129623889923, -0.4242129623889923, -0.4242129623889923, -0.4242129623889923, -0.4242129623889923, -0.4242129623889923, -0.4242129623889923, -0.4242129623889923, -0.4242129623889923, -0.4242129623889923, -0.4242129623889923], [-0.4242129623889923, -0.4242129623889923, -0.4242129623889923, -0.4242129623889923, -0.4242129623889923, -0.4242129623889923, -0.4242129623889923, -0.4242129623889923, -0.4242129623889923, -0.4242129623889923, -0.4242129623889923, -0.4242129623889923, 0.05945993959903717, 2.808758497238159, 2.808758497238159, 0.5558610558509827, -0.4242129623889923, -0.4242129623889923, -0.4242129623889923, -0.4242129623889923, -0.4242129623889923, -0.4242129623889923, -0.4242129623889923, -0.4242129623889923, -0.4242129623889923, -0.4242129623889923, -0.4242129623889923, -0.4242129623889923], [-0.4242129623889923, -0.4242129623889923, -0.4242129623889923, -0.4242129623889923, -0.4242129623889923, -0.4242129623889923, -0.4242129623889923, -0.4242129623889923, -0.4242129623889923, -0.4242129623889923, -0.4242129623889923, -0.029637714847922325, 2.4269113540649414, 2.808758497238159, 1.0395338535308838, -0.4114847183227539, -0.4242129623889923, -0.4242129623889923, -0.4242129623889923, -0.4242129623889923, -0.4242129623889923, -0.4242129623889923, -0.4242129623889923, -0.4242129623889923, -0.4242129623889923, -0.4242129623889923, -0.4242129623889923, -0.4242129623889923], [-0.4242129623889923, -0.4242129623889923, -0.4242129623889923, -0.4242129623889923, -0.4242129623889923, -0.4242129623889923, -0.4242129623889923, -0.4242129623889923, -0.4242129623889923, -0.4242129623889923, -0.4242129623889923, 1.2686423063278198, 2.808758497238159, 2.808758497238159, 0.23765520751476288, -0.4242129623889923, -0.4242129623889923, -0.4242129623889923, -0.4242129623889923, -0.4242129623889923, -0.4242129623889923, -0.4242129623889923, -0.4242129623889923, -0.4242129623889923, -0.4242129623889923, -0.4242129623889923, -0.4242129623889923, -0.4242129623889923], [-0.4242129623889923, -0.4242129623889923, -0.4242129623889923, -0.4242129623889923, -0.4242129623889923, -0.4242129623889923, -0.4242129623889923, -0.4242129623889923, -0.4242129623889923, -0.4242129623889923, 0.35220929980278015, 2.656019687652588, 2.808758497238159, 2.808758497238159, 0.23765520751476288, -0.4242129623889923, -0.4242129623889923, -0.4242129623889923, -0.4242129623889923, -0.4242129623889923, -0.4242129623889923, -0.4242129623889923, -0.4242129623889923, -0.4242129623889923, -0.4242129623889923, -0.4242129623889923, -0.4242129623889923, -0.4242129623889923], [-0.4242129623889923, -0.4242129623889923, -0.4242129623889923, -0.4242129623889923, -0.4242129623889923, -0.4242129623889923, -0.4242129623889923, -0.4242129623889923, -0.4242129623889923, -0.4242129623889923, 1.1159032583236694, 2.808758497238159, 2.808758497238159, 2.3632702827453613, 0.08491640537977219, -0.4242129623889923, -0.4242129623889923, -0.4242129623889923, -0.4242129623889923, -0.4242129623889923, -0.4242129623889923, -0.4242129623889923, -0.4242129623889923, -0.4242129623889923, -0.4242129623889923, -0.4242129623889923, -0.4242129623889923, -0.4242129623889923], [-0.4242129623889923, -0.4242129623889923, -0.4242129623889923, -0.4242129623889923, -0.4242129623889923, -0.4242129623889923, -0.4242129623889923, -0.4242129623889923, -0.4242129623889923, -0.4242129623889923, 1.1159032583236694, 2.808758497238159, 2.21053147315979, -0.19510474801063538, -0.4242129623889923, -0.4242129623889923, -0.4242129623889923, -0.4242129623889923, -0.4242129623889923, -0.4242129623889923, -0.4242129623889923, -0.4242129623889923, -0.4242129623889923, -0.4242129623889923, -0.4242129623889923, -0.4242129623889923, -0.4242129623889923, -0.4242129623889923], [-0.4242129623889923, -0.4242129623889923, -0.4242129623889923, -0.4242129623889923, -0.4242129623889923, -0.4242129623889923, -0.4242129623889923, -0.4242129623889923, -0.4242129623889923, -0.4242129623889923, -0.4242129623889923, -0.4242129623889923, -0.4242129623889923, -0.4242129623889923, -0.4242129623889923, -0.4242129623889923, -0.4242129623889923, -0.4242129623889923, -0.4242129623889923, -0.4242129623889923, -0.4242129623889923, -0.4242129623889923, -0.4242129623889923, -0.4242129623889923, -0.4242129623889923, -0.4242129623889923, -0.4242129623889923, -0.4242129623889923]]]], 'model_response': {'predictions': [[-19.536849975585938, -19.36157989501953, -15.855398178100586, -18.154205322265625, -20.801715850830078, -23.747478485107422, -28.796581268310547, -2.3841855067985307e-07, -20.899829864501953, -16.10333824157715]]}}\n"
     ]
    }
   ],
   "source": [
    "prediction = client.predict(model_version_id=response.id, model_input=model_input.tolist())\n",
    "\n",
    "print(prediction)"
   ]
  },
  {
   "cell_type": "code",
   "execution_count": 123,
   "id": "95353bbf-b0bc-468c-af65-e03429ee4f38",
   "metadata": {},
   "outputs": [
    {
     "ename": "TypeError",
     "evalue": "Object of type Tensor is not JSON serializable",
     "output_type": "error",
     "traceback": [
      "\u001b[0;31m---------------------------------------------------------------------------\u001b[0m",
      "\u001b[0;31mTypeError\u001b[0m                                 Traceback (most recent call last)",
      "Cell \u001b[0;32mIn[123], line 1\u001b[0m\n\u001b[0;32m----> 1\u001b[0m prediction \u001b[38;5;241m=\u001b[39m \u001b[43mclient\u001b[49m\u001b[38;5;241;43m.\u001b[39;49m\u001b[43mpredict\u001b[49m\u001b[43m(\u001b[49m\u001b[43mmodel_version_id\u001b[49m\u001b[38;5;241;43m=\u001b[39;49m\u001b[43mresponse\u001b[49m\u001b[38;5;241;43m.\u001b[39;49m\u001b[43mid\u001b[49m\u001b[43m,\u001b[49m\u001b[43m \u001b[49m\u001b[43mmodel_input\u001b[49m\u001b[38;5;241;43m=\u001b[39;49m\u001b[43mnext_dataset\u001b[49m\u001b[43m[\u001b[49m\u001b[38;5;241;43m0\u001b[39;49m\u001b[43m]\u001b[49m\u001b[43m)\u001b[49m\n\u001b[1;32m      3\u001b[0m \u001b[38;5;28mprint\u001b[39m(prediction[\u001b[38;5;124m'\u001b[39m\u001b[38;5;124mmodel_response\u001b[39m\u001b[38;5;124m'\u001b[39m])\n",
      "File \u001b[0;32m~/workspace/experiments/live_projects/slashml/sdk_tests/slashml/slashml/model_deployment.py:64\u001b[0m, in \u001b[0;36mModelDeployment.predict\u001b[0;34m(self, model_version_id, model_input)\u001b[0m\n\u001b[1;32m     61\u001b[0m \u001b[38;5;28;01mdef\u001b[39;00m \u001b[38;5;21mpredict\u001b[39m(\u001b[38;5;28mself\u001b[39m, model_version_id: \u001b[38;5;28mstr\u001b[39m, model_input:\u001b[38;5;28mstr\u001b[39m):\n\u001b[1;32m     62\u001b[0m \u001b[38;5;250m    \u001b[39m\u001b[38;5;124;03m\"\"\"Check job status\"\"\"\u001b[39;00m\n\u001b[0;32m---> 64\u001b[0m     payload \u001b[38;5;241m=\u001b[39m \u001b[43mjson\u001b[49m\u001b[38;5;241;43m.\u001b[39;49m\u001b[43mdumps\u001b[49m\u001b[43m(\u001b[49m\u001b[43m{\u001b[49m\n\u001b[1;32m     65\u001b[0m \u001b[43m        \u001b[49m\u001b[38;5;124;43m\"\u001b[39;49m\u001b[38;5;124;43mmodel_input\u001b[39;49m\u001b[38;5;124;43m\"\u001b[39;49m\u001b[43m:\u001b[49m\u001b[43m \u001b[49m\u001b[43mmodel_input\u001b[49m\n\u001b[1;32m     66\u001b[0m \u001b[43m    \u001b[49m\u001b[43m}\u001b[49m\u001b[43m)\u001b[49m\n\u001b[1;32m     68\u001b[0m     url \u001b[38;5;241m=\u001b[39m generateURL(\u001b[38;5;28mself\u001b[39m\u001b[38;5;241m.\u001b[39m_base_url, \u001b[38;5;124m\"\u001b[39m\u001b[38;5;124mmodels\u001b[39m\u001b[38;5;124m\"\u001b[39m, model_version_id, \u001b[38;5;124m\"\u001b[39m\u001b[38;5;124mpredict\u001b[39m\u001b[38;5;124m\"\u001b[39m)\n\u001b[1;32m     69\u001b[0m     \u001b[38;5;28mself\u001b[39m\u001b[38;5;241m.\u001b[39m_headers[\u001b[38;5;124m'\u001b[39m\u001b[38;5;124mContent-Type\u001b[39m\u001b[38;5;124m'\u001b[39m] \u001b[38;5;241m=\u001b[39m \u001b[38;5;124m'\u001b[39m\u001b[38;5;124mapplication/json\u001b[39m\u001b[38;5;124m'\u001b[39m\n",
      "File \u001b[0;32m~/.pyenv/versions/3.9.1/lib/python3.9/json/__init__.py:231\u001b[0m, in \u001b[0;36mdumps\u001b[0;34m(obj, skipkeys, ensure_ascii, check_circular, allow_nan, cls, indent, separators, default, sort_keys, **kw)\u001b[0m\n\u001b[1;32m    226\u001b[0m \u001b[38;5;66;03m# cached encoder\u001b[39;00m\n\u001b[1;32m    227\u001b[0m \u001b[38;5;28;01mif\u001b[39;00m (\u001b[38;5;129;01mnot\u001b[39;00m skipkeys \u001b[38;5;129;01mand\u001b[39;00m ensure_ascii \u001b[38;5;129;01mand\u001b[39;00m\n\u001b[1;32m    228\u001b[0m     check_circular \u001b[38;5;129;01mand\u001b[39;00m allow_nan \u001b[38;5;129;01mand\u001b[39;00m\n\u001b[1;32m    229\u001b[0m     \u001b[38;5;28mcls\u001b[39m \u001b[38;5;129;01mis\u001b[39;00m \u001b[38;5;28;01mNone\u001b[39;00m \u001b[38;5;129;01mand\u001b[39;00m indent \u001b[38;5;129;01mis\u001b[39;00m \u001b[38;5;28;01mNone\u001b[39;00m \u001b[38;5;129;01mand\u001b[39;00m separators \u001b[38;5;129;01mis\u001b[39;00m \u001b[38;5;28;01mNone\u001b[39;00m \u001b[38;5;129;01mand\u001b[39;00m\n\u001b[1;32m    230\u001b[0m     default \u001b[38;5;129;01mis\u001b[39;00m \u001b[38;5;28;01mNone\u001b[39;00m \u001b[38;5;129;01mand\u001b[39;00m \u001b[38;5;129;01mnot\u001b[39;00m sort_keys \u001b[38;5;129;01mand\u001b[39;00m \u001b[38;5;129;01mnot\u001b[39;00m kw):\n\u001b[0;32m--> 231\u001b[0m     \u001b[38;5;28;01mreturn\u001b[39;00m \u001b[43m_default_encoder\u001b[49m\u001b[38;5;241;43m.\u001b[39;49m\u001b[43mencode\u001b[49m\u001b[43m(\u001b[49m\u001b[43mobj\u001b[49m\u001b[43m)\u001b[49m\n\u001b[1;32m    232\u001b[0m \u001b[38;5;28;01mif\u001b[39;00m \u001b[38;5;28mcls\u001b[39m \u001b[38;5;129;01mis\u001b[39;00m \u001b[38;5;28;01mNone\u001b[39;00m:\n\u001b[1;32m    233\u001b[0m     \u001b[38;5;28mcls\u001b[39m \u001b[38;5;241m=\u001b[39m JSONEncoder\n",
      "File \u001b[0;32m~/.pyenv/versions/3.9.1/lib/python3.9/json/encoder.py:199\u001b[0m, in \u001b[0;36mJSONEncoder.encode\u001b[0;34m(self, o)\u001b[0m\n\u001b[1;32m    195\u001b[0m         \u001b[38;5;28;01mreturn\u001b[39;00m encode_basestring(o)\n\u001b[1;32m    196\u001b[0m \u001b[38;5;66;03m# This doesn't pass the iterator directly to ''.join() because the\u001b[39;00m\n\u001b[1;32m    197\u001b[0m \u001b[38;5;66;03m# exceptions aren't as detailed.  The list call should be roughly\u001b[39;00m\n\u001b[1;32m    198\u001b[0m \u001b[38;5;66;03m# equivalent to the PySequence_Fast that ''.join() would do.\u001b[39;00m\n\u001b[0;32m--> 199\u001b[0m chunks \u001b[38;5;241m=\u001b[39m \u001b[38;5;28;43mself\u001b[39;49m\u001b[38;5;241;43m.\u001b[39;49m\u001b[43miterencode\u001b[49m\u001b[43m(\u001b[49m\u001b[43mo\u001b[49m\u001b[43m,\u001b[49m\u001b[43m \u001b[49m\u001b[43m_one_shot\u001b[49m\u001b[38;5;241;43m=\u001b[39;49m\u001b[38;5;28;43;01mTrue\u001b[39;49;00m\u001b[43m)\u001b[49m\n\u001b[1;32m    200\u001b[0m \u001b[38;5;28;01mif\u001b[39;00m \u001b[38;5;129;01mnot\u001b[39;00m \u001b[38;5;28misinstance\u001b[39m(chunks, (\u001b[38;5;28mlist\u001b[39m, \u001b[38;5;28mtuple\u001b[39m)):\n\u001b[1;32m    201\u001b[0m     chunks \u001b[38;5;241m=\u001b[39m \u001b[38;5;28mlist\u001b[39m(chunks)\n",
      "File \u001b[0;32m~/.pyenv/versions/3.9.1/lib/python3.9/json/encoder.py:257\u001b[0m, in \u001b[0;36mJSONEncoder.iterencode\u001b[0;34m(self, o, _one_shot)\u001b[0m\n\u001b[1;32m    252\u001b[0m \u001b[38;5;28;01melse\u001b[39;00m:\n\u001b[1;32m    253\u001b[0m     _iterencode \u001b[38;5;241m=\u001b[39m _make_iterencode(\n\u001b[1;32m    254\u001b[0m         markers, \u001b[38;5;28mself\u001b[39m\u001b[38;5;241m.\u001b[39mdefault, _encoder, \u001b[38;5;28mself\u001b[39m\u001b[38;5;241m.\u001b[39mindent, floatstr,\n\u001b[1;32m    255\u001b[0m         \u001b[38;5;28mself\u001b[39m\u001b[38;5;241m.\u001b[39mkey_separator, \u001b[38;5;28mself\u001b[39m\u001b[38;5;241m.\u001b[39mitem_separator, \u001b[38;5;28mself\u001b[39m\u001b[38;5;241m.\u001b[39msort_keys,\n\u001b[1;32m    256\u001b[0m         \u001b[38;5;28mself\u001b[39m\u001b[38;5;241m.\u001b[39mskipkeys, _one_shot)\n\u001b[0;32m--> 257\u001b[0m \u001b[38;5;28;01mreturn\u001b[39;00m \u001b[43m_iterencode\u001b[49m\u001b[43m(\u001b[49m\u001b[43mo\u001b[49m\u001b[43m,\u001b[49m\u001b[43m \u001b[49m\u001b[38;5;241;43m0\u001b[39;49m\u001b[43m)\u001b[49m\n",
      "File \u001b[0;32m~/.pyenv/versions/3.9.1/lib/python3.9/json/encoder.py:179\u001b[0m, in \u001b[0;36mJSONEncoder.default\u001b[0;34m(self, o)\u001b[0m\n\u001b[1;32m    160\u001b[0m \u001b[38;5;28;01mdef\u001b[39;00m \u001b[38;5;21mdefault\u001b[39m(\u001b[38;5;28mself\u001b[39m, o):\n\u001b[1;32m    161\u001b[0m \u001b[38;5;250m    \u001b[39m\u001b[38;5;124;03m\"\"\"Implement this method in a subclass such that it returns\u001b[39;00m\n\u001b[1;32m    162\u001b[0m \u001b[38;5;124;03m    a serializable object for ``o``, or calls the base implementation\u001b[39;00m\n\u001b[1;32m    163\u001b[0m \u001b[38;5;124;03m    (to raise a ``TypeError``).\u001b[39;00m\n\u001b[0;32m   (...)\u001b[0m\n\u001b[1;32m    177\u001b[0m \n\u001b[1;32m    178\u001b[0m \u001b[38;5;124;03m    \"\"\"\u001b[39;00m\n\u001b[0;32m--> 179\u001b[0m     \u001b[38;5;28;01mraise\u001b[39;00m \u001b[38;5;167;01mTypeError\u001b[39;00m(\u001b[38;5;124mf\u001b[39m\u001b[38;5;124m'\u001b[39m\u001b[38;5;124mObject of type \u001b[39m\u001b[38;5;132;01m{\u001b[39;00mo\u001b[38;5;241m.\u001b[39m\u001b[38;5;18m__class__\u001b[39m\u001b[38;5;241m.\u001b[39m\u001b[38;5;18m__name__\u001b[39m\u001b[38;5;132;01m}\u001b[39;00m\u001b[38;5;124m \u001b[39m\u001b[38;5;124m'\u001b[39m\n\u001b[1;32m    180\u001b[0m                     \u001b[38;5;124mf\u001b[39m\u001b[38;5;124m'\u001b[39m\u001b[38;5;124mis not JSON serializable\u001b[39m\u001b[38;5;124m'\u001b[39m)\n",
      "\u001b[0;31mTypeError\u001b[0m: Object of type Tensor is not JSON serializable"
     ]
    }
   ],
   "source": [
    "prediction = client.predict(model_version_id=response.id, model_input=next_dataset[0])\n",
    "\n",
    "print(prediction['model_response'])"
   ]
  },
  {
   "cell_type": "code",
   "execution_count": 35,
   "id": "a3ab9479-664b-4911-82eb-0fa3953531b7",
   "metadata": {},
   "outputs": [],
   "source": [
    "# Function to show an image\n",
    "def imshow(img):\n",
    "    img = img * 0.3081 + 0.1307  # Inverse normalization\n",
    "    img = img.squeeze()  # Remove the batch dimension (1 in this case)\n",
    "    plt.imshow(img, cmap='gray')\n",
    "    plt.show()"
   ]
  },
  {
   "cell_type": "code",
   "execution_count": 37,
   "id": "6d1ecddf-9aa6-4297-b981-e6c9d12cfe79",
   "metadata": {},
   "outputs": [],
   "source": [
    "import matplotlib.pyplot as plt\n"
   ]
  },
  {
   "cell_type": "code",
   "execution_count": 50,
   "id": "8bdb67fa-131e-4c7a-99d7-70d69e232a7b",
   "metadata": {},
   "outputs": [
    {
     "data": {
      "text/plain": [
       "10000"
      ]
     },
     "execution_count": 50,
     "metadata": {},
     "output_type": "execute_result"
    }
   ],
   "source": [
    "len(dataset)"
   ]
  },
  {
   "cell_type": "code",
   "execution_count": 120,
   "id": "d896c8b2-c772-4381-a55a-3062a3314ca3",
   "metadata": {},
   "outputs": [],
   "source": [
    "next_dataset = [x for x in dataset][2]"
   ]
  },
  {
   "cell_type": "code",
   "execution_count": 110,
   "id": "0dfd927e-601e-48bc-8977-9156e766b5ed",
   "metadata": {},
   "outputs": [],
   "source": [
    "model_input = np.array(next_dataset[0])"
   ]
  },
  {
   "cell_type": "code",
   "execution_count": 121,
   "id": "a005ceaa-c565-4b05-be38-286b2bed8d8e",
   "metadata": {},
   "outputs": [
    {
     "data": {
      "image/png": "[encoded data removed]",
      "text/plain": [
       "<Figure size 640x480 with 1 Axes>"
      ]
     },
     "metadata": {},
     "output_type": "display_data"
    }
   ],
   "source": [
    "imshow(next_dataset[0])"
   ]
  },
  {
   "cell_type": "code",
   "execution_count": null,
   "id": "426a9117-2c76-4888-a8a0-642506ad1af6",
   "metadata": {},
   "outputs": [],
   "source": []
  },
  {
   "cell_type": "code",
   "execution_count": 108,
   "id": "f7ed79cc-90bf-4617-8f44-737e70c84b05",
   "metadata": {},
   "outputs": [
    {
     "data": {
      "image/png": "[encoded data removed]",
      "text/plain": [
       "<Figure size 640x480 with 1 Axes>"
      ]
     },
     "metadata": {},
     "output_type": "display_data"
    },
    {
     "ename": "TypeError",
     "evalue": "Invalid shape () for image data",
     "output_type": "error",
     "traceback": [
      "\u001b[0;31m---------------------------------------------------------------------------\u001b[0m",
      "\u001b[0;31mTypeError\u001b[0m                                 Traceback (most recent call last)",
      "Cell \u001b[0;32mIn[108], line 4\u001b[0m\n\u001b[1;32m      1\u001b[0m \u001b[38;5;66;03m# Iterate through the DataLoader and display a few images\u001b[39;00m\n\u001b[1;32m      2\u001b[0m \u001b[38;5;28;01mfor\u001b[39;00m i, (image) \u001b[38;5;129;01min\u001b[39;00m \u001b[38;5;28menumerate\u001b[39m(next_dataset):\n\u001b[1;32m      3\u001b[0m     \u001b[38;5;66;03m# print(f\"Label: {label.item()}\")\u001b[39;00m\n\u001b[0;32m----> 4\u001b[0m     \u001b[43mimshow\u001b[49m\u001b[43m(\u001b[49m\u001b[43mimage\u001b[49m\u001b[43m)\u001b[49m\n\u001b[1;32m      5\u001b[0m     \u001b[38;5;66;03m# if i >= 1:  # Display the first 5 images\u001b[39;00m\n\u001b[1;32m      6\u001b[0m     \u001b[38;5;66;03m#     break\u001b[39;00m\n",
      "Cell \u001b[0;32mIn[35], line 5\u001b[0m, in \u001b[0;36mimshow\u001b[0;34m(img)\u001b[0m\n\u001b[1;32m      3\u001b[0m img \u001b[38;5;241m=\u001b[39m img \u001b[38;5;241m*\u001b[39m \u001b[38;5;241m0.3081\u001b[39m \u001b[38;5;241m+\u001b[39m \u001b[38;5;241m0.1307\u001b[39m  \u001b[38;5;66;03m# Inverse normalization\u001b[39;00m\n\u001b[1;32m      4\u001b[0m img \u001b[38;5;241m=\u001b[39m img\u001b[38;5;241m.\u001b[39msqueeze()  \u001b[38;5;66;03m# Remove the batch dimension (1 in this case)\u001b[39;00m\n\u001b[0;32m----> 5\u001b[0m \u001b[43mplt\u001b[49m\u001b[38;5;241;43m.\u001b[39;49m\u001b[43mimshow\u001b[49m\u001b[43m(\u001b[49m\u001b[43mimg\u001b[49m\u001b[43m,\u001b[49m\u001b[43m \u001b[49m\u001b[43mcmap\u001b[49m\u001b[38;5;241;43m=\u001b[39;49m\u001b[38;5;124;43m'\u001b[39;49m\u001b[38;5;124;43mgray\u001b[39;49m\u001b[38;5;124;43m'\u001b[39;49m\u001b[43m)\u001b[49m\n\u001b[1;32m      6\u001b[0m plt\u001b[38;5;241m.\u001b[39mshow()\n",
      "File \u001b[0;32m~/workspace/experiments/live_projects/slashml/sdk_tests/venv-3.9.1/lib/python3.9/site-packages/matplotlib/pyplot.py:3346\u001b[0m, in \u001b[0;36mimshow\u001b[0;34m(X, cmap, norm, aspect, interpolation, alpha, vmin, vmax, origin, extent, interpolation_stage, filternorm, filterrad, resample, url, data, **kwargs)\u001b[0m\n\u001b[1;32m   3325\u001b[0m \u001b[38;5;129m@_copy_docstring_and_deprecators\u001b[39m(Axes\u001b[38;5;241m.\u001b[39mimshow)\n\u001b[1;32m   3326\u001b[0m \u001b[38;5;28;01mdef\u001b[39;00m \u001b[38;5;21mimshow\u001b[39m(\n\u001b[1;32m   3327\u001b[0m     X: ArrayLike \u001b[38;5;241m|\u001b[39m PIL\u001b[38;5;241m.\u001b[39mImage\u001b[38;5;241m.\u001b[39mImage,\n\u001b[0;32m   (...)\u001b[0m\n\u001b[1;32m   3344\u001b[0m     \u001b[38;5;241m*\u001b[39m\u001b[38;5;241m*\u001b[39mkwargs,\n\u001b[1;32m   3345\u001b[0m ) \u001b[38;5;241m-\u001b[39m\u001b[38;5;241m>\u001b[39m AxesImage:\n\u001b[0;32m-> 3346\u001b[0m     __ret \u001b[38;5;241m=\u001b[39m \u001b[43mgca\u001b[49m\u001b[43m(\u001b[49m\u001b[43m)\u001b[49m\u001b[38;5;241;43m.\u001b[39;49m\u001b[43mimshow\u001b[49m\u001b[43m(\u001b[49m\n\u001b[1;32m   3347\u001b[0m \u001b[43m        \u001b[49m\u001b[43mX\u001b[49m\u001b[43m,\u001b[49m\n\u001b[1;32m   3348\u001b[0m \u001b[43m        \u001b[49m\u001b[43mcmap\u001b[49m\u001b[38;5;241;43m=\u001b[39;49m\u001b[43mcmap\u001b[49m\u001b[43m,\u001b[49m\n\u001b[1;32m   3349\u001b[0m \u001b[43m        \u001b[49m\u001b[43mnorm\u001b[49m\u001b[38;5;241;43m=\u001b[39;49m\u001b[43mnorm\u001b[49m\u001b[43m,\u001b[49m\n\u001b[1;32m   3350\u001b[0m \u001b[43m        \u001b[49m\u001b[43maspect\u001b[49m\u001b[38;5;241;43m=\u001b[39;49m\u001b[43maspect\u001b[49m\u001b[43m,\u001b[49m\n\u001b[1;32m   3351\u001b[0m \u001b[43m        \u001b[49m\u001b[43minterpolation\u001b[49m\u001b[38;5;241;43m=\u001b[39;49m\u001b[43minterpolation\u001b[49m\u001b[43m,\u001b[49m\n\u001b[1;32m   3352\u001b[0m \u001b[43m        \u001b[49m\u001b[43malpha\u001b[49m\u001b[38;5;241;43m=\u001b[39;49m\u001b[43malpha\u001b[49m\u001b[43m,\u001b[49m\n\u001b[1;32m   3353\u001b[0m \u001b[43m        \u001b[49m\u001b[43mvmin\u001b[49m\u001b[38;5;241;43m=\u001b[39;49m\u001b[43mvmin\u001b[49m\u001b[43m,\u001b[49m\n\u001b[1;32m   3354\u001b[0m \u001b[43m        \u001b[49m\u001b[43mvmax\u001b[49m\u001b[38;5;241;43m=\u001b[39;49m\u001b[43mvmax\u001b[49m\u001b[43m,\u001b[49m\n\u001b[1;32m   3355\u001b[0m \u001b[43m        \u001b[49m\u001b[43morigin\u001b[49m\u001b[38;5;241;43m=\u001b[39;49m\u001b[43morigin\u001b[49m\u001b[43m,\u001b[49m\n\u001b[1;32m   3356\u001b[0m \u001b[43m        \u001b[49m\u001b[43mextent\u001b[49m\u001b[38;5;241;43m=\u001b[39;49m\u001b[43mextent\u001b[49m\u001b[43m,\u001b[49m\n\u001b[1;32m   3357\u001b[0m \u001b[43m        \u001b[49m\u001b[43minterpolation_stage\u001b[49m\u001b[38;5;241;43m=\u001b[39;49m\u001b[43minterpolation_stage\u001b[49m\u001b[43m,\u001b[49m\n\u001b[1;32m   3358\u001b[0m \u001b[43m        \u001b[49m\u001b[43mfilternorm\u001b[49m\u001b[38;5;241;43m=\u001b[39;49m\u001b[43mfilternorm\u001b[49m\u001b[43m,\u001b[49m\n\u001b[1;32m   3359\u001b[0m \u001b[43m        \u001b[49m\u001b[43mfilterrad\u001b[49m\u001b[38;5;241;43m=\u001b[39;49m\u001b[43mfilterrad\u001b[49m\u001b[43m,\u001b[49m\n\u001b[1;32m   3360\u001b[0m \u001b[43m        \u001b[49m\u001b[43mresample\u001b[49m\u001b[38;5;241;43m=\u001b[39;49m\u001b[43mresample\u001b[49m\u001b[43m,\u001b[49m\n\u001b[1;32m   3361\u001b[0m \u001b[43m        \u001b[49m\u001b[43murl\u001b[49m\u001b[38;5;241;43m=\u001b[39;49m\u001b[43murl\u001b[49m\u001b[43m,\u001b[49m\n\u001b[1;32m   3362\u001b[0m \u001b[43m        \u001b[49m\u001b[38;5;241;43m*\u001b[39;49m\u001b[38;5;241;43m*\u001b[39;49m\u001b[43m(\u001b[49m\u001b[43m{\u001b[49m\u001b[38;5;124;43m\"\u001b[39;49m\u001b[38;5;124;43mdata\u001b[39;49m\u001b[38;5;124;43m\"\u001b[39;49m\u001b[43m:\u001b[49m\u001b[43m \u001b[49m\u001b[43mdata\u001b[49m\u001b[43m}\u001b[49m\u001b[43m \u001b[49m\u001b[38;5;28;43;01mif\u001b[39;49;00m\u001b[43m \u001b[49m\u001b[43mdata\u001b[49m\u001b[43m \u001b[49m\u001b[38;5;129;43;01mis\u001b[39;49;00m\u001b[43m \u001b[49m\u001b[38;5;129;43;01mnot\u001b[39;49;00m\u001b[43m \u001b[49m\u001b[38;5;28;43;01mNone\u001b[39;49;00m\u001b[43m \u001b[49m\u001b[38;5;28;43;01melse\u001b[39;49;00m\u001b[43m \u001b[49m\u001b[43m{\u001b[49m\u001b[43m}\u001b[49m\u001b[43m)\u001b[49m\u001b[43m,\u001b[49m\n\u001b[1;32m   3363\u001b[0m \u001b[43m        \u001b[49m\u001b[38;5;241;43m*\u001b[39;49m\u001b[38;5;241;43m*\u001b[39;49m\u001b[43mkwargs\u001b[49m\u001b[43m,\u001b[49m\n\u001b[1;32m   3364\u001b[0m \u001b[43m    \u001b[49m\u001b[43m)\u001b[49m\n\u001b[1;32m   3365\u001b[0m     sci(__ret)\n\u001b[1;32m   3366\u001b[0m     \u001b[38;5;28;01mreturn\u001b[39;00m __ret\n",
      "File \u001b[0;32m~/workspace/experiments/live_projects/slashml/sdk_tests/venv-3.9.1/lib/python3.9/site-packages/matplotlib/__init__.py:1465\u001b[0m, in \u001b[0;36m_preprocess_data.<locals>.inner\u001b[0;34m(ax, data, *args, **kwargs)\u001b[0m\n\u001b[1;32m   1462\u001b[0m \u001b[38;5;129m@functools\u001b[39m\u001b[38;5;241m.\u001b[39mwraps(func)\n\u001b[1;32m   1463\u001b[0m \u001b[38;5;28;01mdef\u001b[39;00m \u001b[38;5;21minner\u001b[39m(ax, \u001b[38;5;241m*\u001b[39margs, data\u001b[38;5;241m=\u001b[39m\u001b[38;5;28;01mNone\u001b[39;00m, \u001b[38;5;241m*\u001b[39m\u001b[38;5;241m*\u001b[39mkwargs):\n\u001b[1;32m   1464\u001b[0m     \u001b[38;5;28;01mif\u001b[39;00m data \u001b[38;5;129;01mis\u001b[39;00m \u001b[38;5;28;01mNone\u001b[39;00m:\n\u001b[0;32m-> 1465\u001b[0m         \u001b[38;5;28;01mreturn\u001b[39;00m \u001b[43mfunc\u001b[49m\u001b[43m(\u001b[49m\u001b[43max\u001b[49m\u001b[43m,\u001b[49m\u001b[43m \u001b[49m\u001b[38;5;241;43m*\u001b[39;49m\u001b[38;5;28;43mmap\u001b[39;49m\u001b[43m(\u001b[49m\u001b[43msanitize_sequence\u001b[49m\u001b[43m,\u001b[49m\u001b[43m \u001b[49m\u001b[43margs\u001b[49m\u001b[43m)\u001b[49m\u001b[43m,\u001b[49m\u001b[43m \u001b[49m\u001b[38;5;241;43m*\u001b[39;49m\u001b[38;5;241;43m*\u001b[39;49m\u001b[43mkwargs\u001b[49m\u001b[43m)\u001b[49m\n\u001b[1;32m   1467\u001b[0m     bound \u001b[38;5;241m=\u001b[39m new_sig\u001b[38;5;241m.\u001b[39mbind(ax, \u001b[38;5;241m*\u001b[39margs, \u001b[38;5;241m*\u001b[39m\u001b[38;5;241m*\u001b[39mkwargs)\n\u001b[1;32m   1468\u001b[0m     auto_label \u001b[38;5;241m=\u001b[39m (bound\u001b[38;5;241m.\u001b[39marguments\u001b[38;5;241m.\u001b[39mget(label_namer)\n\u001b[1;32m   1469\u001b[0m                   \u001b[38;5;129;01mor\u001b[39;00m bound\u001b[38;5;241m.\u001b[39mkwargs\u001b[38;5;241m.\u001b[39mget(label_namer))\n",
      "File \u001b[0;32m~/workspace/experiments/live_projects/slashml/sdk_tests/venv-3.9.1/lib/python3.9/site-packages/matplotlib/axes/_axes.py:5751\u001b[0m, in \u001b[0;36mAxes.imshow\u001b[0;34m(self, X, cmap, norm, aspect, interpolation, alpha, vmin, vmax, origin, extent, interpolation_stage, filternorm, filterrad, resample, url, **kwargs)\u001b[0m\n\u001b[1;32m   5748\u001b[0m \u001b[38;5;28;01mif\u001b[39;00m aspect \u001b[38;5;129;01mis\u001b[39;00m \u001b[38;5;129;01mnot\u001b[39;00m \u001b[38;5;28;01mNone\u001b[39;00m:\n\u001b[1;32m   5749\u001b[0m     \u001b[38;5;28mself\u001b[39m\u001b[38;5;241m.\u001b[39mset_aspect(aspect)\n\u001b[0;32m-> 5751\u001b[0m \u001b[43mim\u001b[49m\u001b[38;5;241;43m.\u001b[39;49m\u001b[43mset_data\u001b[49m\u001b[43m(\u001b[49m\u001b[43mX\u001b[49m\u001b[43m)\u001b[49m\n\u001b[1;32m   5752\u001b[0m im\u001b[38;5;241m.\u001b[39mset_alpha(alpha)\n\u001b[1;32m   5753\u001b[0m \u001b[38;5;28;01mif\u001b[39;00m im\u001b[38;5;241m.\u001b[39mget_clip_path() \u001b[38;5;129;01mis\u001b[39;00m \u001b[38;5;28;01mNone\u001b[39;00m:\n\u001b[1;32m   5754\u001b[0m     \u001b[38;5;66;03m# image does not already have clipping set, clip to axes patch\u001b[39;00m\n",
      "File \u001b[0;32m~/workspace/experiments/live_projects/slashml/sdk_tests/venv-3.9.1/lib/python3.9/site-packages/matplotlib/image.py:723\u001b[0m, in \u001b[0;36m_ImageBase.set_data\u001b[0;34m(self, A)\u001b[0m\n\u001b[1;32m    721\u001b[0m \u001b[38;5;28;01mif\u001b[39;00m \u001b[38;5;28misinstance\u001b[39m(A, PIL\u001b[38;5;241m.\u001b[39mImage\u001b[38;5;241m.\u001b[39mImage):\n\u001b[1;32m    722\u001b[0m     A \u001b[38;5;241m=\u001b[39m pil_to_array(A)  \u001b[38;5;66;03m# Needed e.g. to apply png palette.\u001b[39;00m\n\u001b[0;32m--> 723\u001b[0m \u001b[38;5;28mself\u001b[39m\u001b[38;5;241m.\u001b[39m_A \u001b[38;5;241m=\u001b[39m \u001b[38;5;28;43mself\u001b[39;49m\u001b[38;5;241;43m.\u001b[39;49m\u001b[43m_normalize_image_array\u001b[49m\u001b[43m(\u001b[49m\u001b[43mA\u001b[49m\u001b[43m)\u001b[49m\n\u001b[1;32m    724\u001b[0m \u001b[38;5;28mself\u001b[39m\u001b[38;5;241m.\u001b[39m_imcache \u001b[38;5;241m=\u001b[39m \u001b[38;5;28;01mNone\u001b[39;00m\n\u001b[1;32m    725\u001b[0m \u001b[38;5;28mself\u001b[39m\u001b[38;5;241m.\u001b[39mstale \u001b[38;5;241m=\u001b[39m \u001b[38;5;28;01mTrue\u001b[39;00m\n",
      "File \u001b[0;32m~/workspace/experiments/live_projects/slashml/sdk_tests/venv-3.9.1/lib/python3.9/site-packages/matplotlib/image.py:693\u001b[0m, in \u001b[0;36m_ImageBase._normalize_image_array\u001b[0;34m(A)\u001b[0m\n\u001b[1;32m    691\u001b[0m     A \u001b[38;5;241m=\u001b[39m A\u001b[38;5;241m.\u001b[39msqueeze(\u001b[38;5;241m-\u001b[39m\u001b[38;5;241m1\u001b[39m)  \u001b[38;5;66;03m# If just (M, N, 1), assume scalar and apply colormap.\u001b[39;00m\n\u001b[1;32m    692\u001b[0m \u001b[38;5;28;01mif\u001b[39;00m \u001b[38;5;129;01mnot\u001b[39;00m (A\u001b[38;5;241m.\u001b[39mndim \u001b[38;5;241m==\u001b[39m \u001b[38;5;241m2\u001b[39m \u001b[38;5;129;01mor\u001b[39;00m A\u001b[38;5;241m.\u001b[39mndim \u001b[38;5;241m==\u001b[39m \u001b[38;5;241m3\u001b[39m \u001b[38;5;129;01mand\u001b[39;00m A\u001b[38;5;241m.\u001b[39mshape[\u001b[38;5;241m-\u001b[39m\u001b[38;5;241m1\u001b[39m] \u001b[38;5;129;01min\u001b[39;00m [\u001b[38;5;241m3\u001b[39m, \u001b[38;5;241m4\u001b[39m]):\n\u001b[0;32m--> 693\u001b[0m     \u001b[38;5;28;01mraise\u001b[39;00m \u001b[38;5;167;01mTypeError\u001b[39;00m(\u001b[38;5;124mf\u001b[39m\u001b[38;5;124m\"\u001b[39m\u001b[38;5;124mInvalid shape \u001b[39m\u001b[38;5;132;01m{\u001b[39;00mA\u001b[38;5;241m.\u001b[39mshape\u001b[38;5;132;01m}\u001b[39;00m\u001b[38;5;124m for image data\u001b[39m\u001b[38;5;124m\"\u001b[39m)\n\u001b[1;32m    694\u001b[0m \u001b[38;5;28;01mif\u001b[39;00m A\u001b[38;5;241m.\u001b[39mndim \u001b[38;5;241m==\u001b[39m \u001b[38;5;241m3\u001b[39m:\n\u001b[1;32m    695\u001b[0m     \u001b[38;5;66;03m# If the input data has values outside the valid range (after\u001b[39;00m\n\u001b[1;32m    696\u001b[0m     \u001b[38;5;66;03m# normalisation), we issue a warning and then clip X to the bounds\u001b[39;00m\n\u001b[1;32m    697\u001b[0m     \u001b[38;5;66;03m# - otherwise casting wraps extreme values, hiding outliers and\u001b[39;00m\n\u001b[1;32m    698\u001b[0m     \u001b[38;5;66;03m# making reliable interpretation impossible.\u001b[39;00m\n\u001b[1;32m    699\u001b[0m     high \u001b[38;5;241m=\u001b[39m \u001b[38;5;241m255\u001b[39m \u001b[38;5;28;01mif\u001b[39;00m np\u001b[38;5;241m.\u001b[39missubdtype(A\u001b[38;5;241m.\u001b[39mdtype, np\u001b[38;5;241m.\u001b[39minteger) \u001b[38;5;28;01melse\u001b[39;00m \u001b[38;5;241m1\u001b[39m\n",
      "\u001b[0;31mTypeError\u001b[0m: Invalid shape () for image data"
     ]
    },
    {
     "data": {
      "image/png": "[encoded data removed]",
      "text/plain": [
       "<Figure size 640x480 with 1 Axes>"
      ]
     },
     "metadata": {},
     "output_type": "display_data"
    }
   ],
   "source": [
    "# Iterate through the DataLoader and display a few images\n",
    "for i, (image) in enumerate(next_dataset):\n",
    "    # print(f\"Label: {label.item()}\")\n",
    "    imshow(image)\n",
    "    # if i >= 1:  # Display the first 5 images\n",
    "    #     break"
   ]
  },
  {
   "cell_type": "code",
   "execution_count": 112,
   "id": "9a0cc4d3-a391-4638-9248-bdda2cfd6422",
   "metadata": {},
   "outputs": [
    {
     "data": {
      "text/plain": [
       "[[-10.468087196350098,\n",
       "  -8.480340957641602,\n",
       "  -0.0003480305604171008,\n",
       "  -9.298460006713867,\n",
       "  -14.817855834960938,\n",
       "  -15.037297248840332,\n",
       "  -11.12935733795166,\n",
       "  -14.010838508605957,\n",
       "  -12.3683443069458,\n",
       "  -16.299909591674805]]"
      ]
     },
     "execution_count": 112,
     "metadata": {},
     "output_type": "execute_result"
    }
   ],
   "source": [
    "scores = prediction['model_response']['predictions']\n",
    "scores"
   ]
  },
  {
   "cell_type": "code",
   "execution_count": 118,
   "id": "ceeddc46-a19a-411f-b840-b9444d2d69b1",
   "metadata": {},
   "outputs": [
    {
     "data": {
      "text/plain": [
       "0.0003480305604171008"
      ]
     },
     "execution_count": 118,
     "metadata": {},
     "output_type": "execute_result"
    }
   ],
   "source": [
    "abs(max(scores[0]))"
   ]
  },
  {
   "cell_type": "code",
   "execution_count": 119,
   "id": "9803b072-2fdc-4455-a4dc-6105317406da",
   "metadata": {},
   "outputs": [
    {
     "data": {
      "image/png": "[encoded data removed]",
      "text/plain": [
       "<Figure size 1000x400 with 1 Axes>"
      ]
     },
     "metadata": {},
     "output_type": "display_data"
    }
   ],
   "source": [
    "# Convert the scores to a 1D NumPy array\n",
    "scores = np.array(scores)\n",
    "\n",
    "# # Create a bar chart or heatmap for the scores\n",
    "fig, ax = plt.subplots(figsize=(10, 4))\n",
    "\n",
    "# If you have multiple sets of scores (e.g., for multiple data points), you can use imshow\n",
    "# ax.imshow(scores, cmap='viridis', aspect='auto', extent=(0, len(scores[0]), 0, len(scores)))\n",
    "\n",
    "# If you have a single set of scores (like in your example), you can use bar\n",
    "ax.bar(range(len(scores[0])), [x+ abs(min(scores[0])) for x in scores[0]], tick_label=[0, 1, 2, 3, 4, 5, 6, 7, 8, 9])\n",
    "ax.set_xlabel(\"Class\")\n",
    "ax.set_ylabel(\"Score\")\n",
    "ax.set_title(\"Class Scores\")\n",
    "\n",
    "plt.show()"
   ]
  },
  {
   "cell_type": "code",
   "execution_count": 46,
   "id": "007c525c-fce3-4b37-88af-85755ea370c5",
   "metadata": {},
   "outputs": [],
   "source": [
    "\n",
    "# If you have multiple sets of scores (e.g., for multiple data points), you can use imshow\n",
    "# ax.imshow(scores, cmap='viridis', aspect='auto', extent=(0, len(scores[0]), 0, len(scores)))\n",
    "\n",
    "# If you have a single set of scores (like in your example), you can use bar\n",
    "ax.bar(range(len(scores[0])), scores[0], tick_label=[0, 1, 2, 3, 4, 5, 6, 7, 8, 9])\n",
    "ax.set_xlabel(\"Class\")\n",
    "ax.set_ylabel(\"Score\")\n",
    "ax.set_title(\"Class Scores\")\n",
    "\n",
    "plt.show()"
   ]
  },
  {
   "cell_type": "code",
   "execution_count": null,
   "id": "49384636-f1cd-448d-bb02-844df692b3ca",
   "metadata": {},
   "outputs": [],
   "source": []
  }
 ],
 "metadata": {
  "kernelspec": {
   "display_name": "Python 3 (ipykernel)",
   "language": "python",
   "name": "python3"
  },
  "language_info": {
   "codemirror_mode": {
    "name": "ipython",
    "version": 3
   },
   "file_extension": ".py",
   "mimetype": "text/x-python",
   "name": "python",
   "nbconvert_exporter": "python",
   "pygments_lexer": "ipython3",
   "version": "3.9.1"
  }
 },
 "nbformat": 4,
 "nbformat_minor": 5
}
